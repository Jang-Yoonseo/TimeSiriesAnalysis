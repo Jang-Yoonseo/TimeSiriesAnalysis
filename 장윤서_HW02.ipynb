{
 "cells": [
  {
   "cell_type": "markdown",
   "id": "7e516c62-5d44-4d32-892e-323bce318284",
   "metadata": {},
   "source": [
    "# 시계열 자료분석 과제 2"
   ]
  },
  {
   "cell_type": "markdown",
   "id": "d3ab4eb1-db7f-4ecc-94f3-2b6f096b29ab",
   "metadata": {},
   "source": [
    "`학번:` 201922034\n",
    "\n",
    "`학과:` 통계학과\n",
    "\n",
    "`이름:` 장윤서"
   ]
  },
  {
   "cell_type": "code",
   "execution_count": 2,
   "id": "244ce1f0-7a46-424a-a187-f1dc0591469f",
   "metadata": {},
   "outputs": [],
   "source": [
    "library(forecast); #ses 단순지수 평활\n",
    "library(data.table);\n",
    "library(ggplot2);\n",
    "library(lmtest) #dwtest\n",
    "library(TTR);\n",
    "library(tidyverse);"
   ]
  },
  {
   "cell_type": "markdown",
   "id": "54392b40-778d-482f-a35f-b59196b5aff3",
   "metadata": {},
   "source": [
    "### 1번"
   ]
  },
  {
   "cell_type": "code",
   "execution_count": 3,
   "id": "1a2c2166-a3a6-46c7-b644-174ee8c2faa9",
   "metadata": {},
   "outputs": [],
   "source": [
    "z <- scan('mindex.txt')\n",
    "mindex <- ts(z, start = c(1986, 1), frequency = 12)\n",
    "tmp.dat <- data.frame(day = seq.Date(\n",
    "  as.Date('1986-01-01'),\n",
    "  by = 'month',\n",
    "  length.out = length(z)\n",
    "),\n",
    "ind = z)"
   ]
  },
  {
   "cell_type": "code",
   "execution_count": 5,
   "id": "717fd597-f0fb-4934-925e-f41c53cae9e9",
   "metadata": {},
   "outputs": [
    {
     "data": {
      "image/png": "[encoded data removed]",
      "text/plain": [
       "plot without title"
      ]
     },
     "metadata": {
      "image/png": {
       "height": 420,
       "width": 420
      }
     },
     "output_type": "display_data"
    }
   ],
   "source": [
    "#시도표, 불규칙 성분만 있는 것 처럼 보인다.\n",
    "ggplot(tmp.dat, aes(day, ind)) + geom_line(col = 'skyblue', lwd = 2) +\n",
    "  geom_point(col = 'steelblue', cex = 2) +\n",
    "  ggtitle(\"중간재 출하지수\") +\n",
    "  theme_bw() +\n",
    "  theme(plot.title = element_text(size = 30),\n",
    "        axis.title = element_blank())"
   ]
  },
  {
   "cell_type": "code",
   "execution_count": 5,
   "id": "3024ca1f-cf90-4d94-9157-ddd6236e0eec",
   "metadata": {},
   "outputs": [
    {
     "data": {
      "text/html": [
       "11.58"
      ],
      "text/latex": [
       "11.58"
      ],
      "text/markdown": [
       "11.58"
      ],
      "text/plain": [
       "[1] 11.58"
      ]
     },
     "metadata": {},
     "output_type": "display_data"
    }
   ],
   "source": [
    "#for w = 0.6\n",
    "S0_1 = 15 #초기 평활값\n",
    "w = 0.6 #평활상수\n",
    "S1_1 = w * z[1] + (1 - w) * S0_1 #단순지수 평활의 논리\n",
    "S1_1 #시점 1에서의 1시차 후 예측값"
   ]
  },
  {
   "cell_type": "code",
   "execution_count": 6,
   "id": "d9b92451-3c1e-4425-a6e4-d3a19cacceec",
   "metadata": {},
   "outputs": [
    {
     "data": {
      "text/html": [
       "11.052"
      ],
      "text/latex": [
       "11.052"
      ],
      "text/markdown": [
       "11.052"
      ],
      "text/plain": [
       "[1] 11.052"
      ]
     },
     "metadata": {},
     "output_type": "display_data"
    }
   ],
   "source": [
    "S2_1 = w * z[2] + (1 - w) * S1_1 #이를 S2_1 에 대하여 적용\n",
    "S2_1 #시점 2에서의 1시차 후 예측값값\n",
    "\n",
    "#판단.\n",
    "#S99_1을 구하려면 그 전까지의 모든 값을 알아야한다.\n",
    "#for문을 이용하여 직접 구해보자"
   ]
  },
  {
   "cell_type": "code",
   "execution_count": 7,
   "id": "c4e87160-4af9-4cff-b56a-038b27b1e519",
   "metadata": {},
   "outputs": [
    {
     "data": {
      "text/plain": [
       "NULL"
      ]
     },
     "metadata": {},
     "output_type": "display_data"
    },
    {
     "data": {
      "text/html": [
       "<style>\n",
       ".list-inline {list-style: none; margin:0; padding: 0}\n",
       ".list-inline>li {display: inline-block}\n",
       ".list-inline>li:not(:last-child)::after {content: \"\\00b7\"; padding: 0 .5ex}\n",
       "</style>\n",
       "<ol class=list-inline><li>15</li><li>11.58</li><li>11.052</li><li>12.4008</li><li>13.42032</li><li>16.048128</li></ol>\n"
      ],
      "text/latex": [
       "\\begin{enumerate*}\n",
       "\\item 15\n",
       "\\item 11.58\n",
       "\\item 11.052\n",
       "\\item 12.4008\n",
       "\\item 13.42032\n",
       "\\item 16.048128\n",
       "\\end{enumerate*}\n"
      ],
      "text/markdown": [
       "1. 15\n",
       "2. 11.58\n",
       "3. 11.052\n",
       "4. 12.4008\n",
       "5. 13.42032\n",
       "6. 16.048128\n",
       "\n",
       "\n"
      ],
      "text/plain": [
       "[1] 15.00000 11.58000 11.05200 12.40080 13.42032 16.04813"
      ]
     },
     "metadata": {},
     "output_type": "display_data"
    }
   ],
   "source": [
    "Sn_1 <- c()  # n 길이의 NA로 초기화된 벡터 생성\n",
    "Sn_1\n",
    "\n",
    "n <- length(z)\n",
    "\n",
    "Sn_1[1] = 15 #초깃값 삽입입\n",
    "\n",
    "for (i in 2:(n + 1)) {\n",
    "  #단순지수 평활법을 적용, 첫 자리에 초기 평활이 들어갔으므로 루핑을 1번 더 해준다.\n",
    "  Sn_1[i] = w * z[i - 1] + (1 - w) * Sn_1[i - 1]\n",
    "}\n",
    "\n",
    "Sn_1 %>% head()"
   ]
  },
  {
   "cell_type": "code",
   "execution_count": 8,
   "id": "b928b609-c0a6-4ce3-b9b6-a178042ff42b",
   "metadata": {},
   "outputs": [
    {
     "data": {
      "text/html": [
       "<style>\n",
       ".list-inline {list-style: none; margin:0; padding: 0}\n",
       ".list-inline>li {display: inline-block}\n",
       ".list-inline>li:not(:last-child)::after {content: \"\\00b7\"; padding: 0 .5ex}\n",
       "</style>\n",
       "<ol class=list-inline><li>11.58</li><li>11.052</li><li>12.6262842848221</li><li>10.1505137139288</li></ol>\n"
      ],
      "text/latex": [
       "\\begin{enumerate*}\n",
       "\\item 11.58\n",
       "\\item 11.052\n",
       "\\item 12.6262842848221\n",
       "\\item 10.1505137139288\n",
       "\\end{enumerate*}\n"
      ],
      "text/markdown": [
       "1. 11.58\n",
       "2. 11.052\n",
       "3. 12.6262842848221\n",
       "4. 10.1505137139288\n",
       "\n",
       "\n"
      ],
      "text/plain": [
       "[1] 11.58000 11.05200 12.62628 10.15051"
      ]
     },
     "metadata": {},
     "output_type": "display_data"
    }
   ],
   "source": [
    "#이와 같은 계산을 반복한다면.. 99와 100번째 벡터의 원소가\n",
    "#각각 시점 9에서 예측한 한 시차 후의 값, 시점 99에서 예측한 한 시차 후의 값이다.\n",
    "Sn_1[c(2, 3, 99, 100)] #Answer"
   ]
  },
  {
   "cell_type": "code",
   "execution_count": 9,
   "id": "37461e0d-4c18-4247-adce-39f09eac28b2",
   "metadata": {},
   "outputs": [
    {
     "data": {
      "text/html": [
       "<style>\n",
       ".list-inline {list-style: none; margin:0; padding: 0}\n",
       ".list-inline>li {display: inline-block}\n",
       ".list-inline>li:not(:last-child)::after {content: \"\\00b7\"; padding: 0 .5ex}\n",
       "</style>\n",
       "<ol class=list-inline><li>15</li><li>13.86</li><li>13.228</li><li>13.2424</li><li>13.41392</li><li>14.291136</li></ol>\n"
      ],
      "text/latex": [
       "\\begin{enumerate*}\n",
       "\\item 15\n",
       "\\item 13.86\n",
       "\\item 13.228\n",
       "\\item 13.2424\n",
       "\\item 13.41392\n",
       "\\item 14.291136\n",
       "\\end{enumerate*}\n"
      ],
      "text/markdown": [
       "1. 15\n",
       "2. 13.86\n",
       "3. 13.228\n",
       "4. 13.2424\n",
       "5. 13.41392\n",
       "6. 14.291136\n",
       "\n",
       "\n"
      ],
      "text/plain": [
       "[1] 15.00000 13.86000 13.22800 13.24240 13.41392 14.29114"
      ]
     },
     "metadata": {},
     "output_type": "display_data"
    },
    {
     "data": {
      "text/html": [
       "<style>\n",
       ".list-inline {list-style: none; margin:0; padding: 0}\n",
       ".list-inline>li {display: inline-block}\n",
       ".list-inline>li:not(:last-child)::after {content: \"\\00b7\"; padding: 0 .5ex}\n",
       "</style>\n",
       "<ol class=list-inline><li>13.86</li><li>13.228</li><li>11.4677321254815</li><li>10.8741857003852</li></ol>\n"
      ],
      "text/latex": [
       "\\begin{enumerate*}\n",
       "\\item 13.86\n",
       "\\item 13.228\n",
       "\\item 11.4677321254815\n",
       "\\item 10.8741857003852\n",
       "\\end{enumerate*}\n"
      ],
      "text/markdown": [
       "1. 13.86\n",
       "2. 13.228\n",
       "3. 11.4677321254815\n",
       "4. 10.8741857003852\n",
       "\n",
       "\n"
      ],
      "text/plain": [
       "[1] 13.86000 13.22800 11.46773 10.87419"
      ]
     },
     "metadata": {},
     "output_type": "display_data"
    }
   ],
   "source": [
    "#w= 0.2 인 경우\n",
    "Sn_1_0.2 <- c()  # n 길이의 NA로 초기화된 벡터 생성\n",
    "\n",
    "Sn_1_0.2[1] = 15 #초깃값 삽입입\n",
    "\n",
    "w = 0.2\n",
    "\n",
    "for (i in 2:(n + 1)) {\n",
    "  #단순지수 평활법을 적용, 첫 자리에 초기 평활이 들어갔으므로 루핑을 1번 더 해준다.\n",
    "  Sn_1_0.2[i] = w * z[i - 1] + (1 - w) * Sn_1_0.2[i - 1]\n",
    "}\n",
    "\n",
    "Sn_1_0.2 %>% head() #w= 0.2 일 때 단순지수평활통계값들.\n",
    "Sn_1_0.2[c(2, 3, 99, 100)] #Answer"
   ]
  },
  {
   "cell_type": "markdown",
   "id": "088e6791-0b50-4b52-9a27-28ecaa8c2c42",
   "metadata": {},
   "source": [
    "### 2번"
   ]
  },
  {
   "cell_type": "code",
   "execution_count": 86,
   "id": "0dabe7e9-9908-42ae-9da2-4aa707b34b33",
   "metadata": {},
   "outputs": [],
   "source": [
    "female <- scan('female.txt')\n",
    "export <- scan('export.txt')"
   ]
  },
  {
   "cell_type": "markdown",
   "id": "e89db110-e476-4674-b2e2-ad2a7874b748",
   "metadata": {},
   "source": [
    "#### 2-1"
   ]
  },
  {
   "cell_type": "code",
   "execution_count": 87,
   "id": "54056516-4873-4da1-aa02-b2526d544d8f",
   "metadata": {},
   "outputs": [
    {
     "data": {
      "image/png": "[encoded data removed]",
      "text/plain": [
       "plot without title"
      ]
     },
     "metadata": {
      "image/png": {
       "height": 420,
       "width": 420
      }
     },
     "output_type": "display_data"
    }
   ],
   "source": [
    "#각각에 대해서 일단 시도표를 그려보자\n",
    "plot.ts(female)\n",
    "#불규칙 성분과 추세성분으로 구성되어있다."
   ]
  },
  {
   "cell_type": "code",
   "execution_count": 88,
   "id": "a54c88a8-5f1e-4d40-a73b-7ac3771ca724",
   "metadata": {},
   "outputs": [
    {
     "data": {
      "image/png": "[encoded data removed]",
      "text/plain": [
       "Plot with title \"원 시계열과 이중지수 평활값\""
      ]
     },
     "metadata": {
      "image/png": {
       "height": 420,
       "width": 420
      }
     },
     "output_type": "display_data"
    }
   ],
   "source": [
    "female <- ts(female) #ts 객체로 변환\n",
    "#예측력을 비교하는 것이 문제의 논점.\n",
    "#따라서 예측오차 제곱합을 최저로 해주는\n",
    "#HoltWinters를 통하여 평활 후 분석.\n",
    "#이중지수평활 통계량의 초기값\n",
    "\n",
    "fit2_1 <- holt(female)\n",
    "#위 모델에서 alpha 와 beta가 최적화 되었다\n",
    "\n",
    "plot(\n",
    "  fit2_1,\n",
    "  xlab = '',\n",
    "  ylab = '',\n",
    "  lty = 1,\n",
    "  main = '원 시계열과 이중지수 평활값'\n",
    ")\n",
    "lines(fit2_1$fitted, col = 'red', lty = 2)\n",
    "legend(\n",
    "  'topleft',\n",
    "  lty = 1:2,\n",
    "  col = c('black', 'red'),\n",
    "  legend = c('female' , 'double')\n",
    ")"
   ]
  },
  {
   "cell_type": "code",
   "execution_count": 89,
   "id": "a0cdda53-198b-45de-a5ec-3e29b9ff9f7b",
   "metadata": {},
   "outputs": [
    {
     "data": {
      "text/plain": [
       "\n",
       "Forecast method: Holt's method\n",
       "\n",
       "Model Information:\n",
       "Holt's method \n",
       "\n",
       "Call:\n",
       " holt(y = female) \n",
       "\n",
       "  Smoothing parameters:\n",
       "    alpha = 0.9825 \n",
       "    beta  = 1e-04 \n",
       "\n",
       "  Initial states:\n",
       "    l = 214.2297 \n",
       "    b = 4.1229 \n",
       "\n",
       "  sigma:  11.4927\n",
       "\n",
       "     AIC     AICc      BIC \n",
       "1039.003 1039.592 1052.414 \n",
       "\n",
       "Error measures:\n",
       "                     ME     RMSE      MAE        MPE     MAPE      MASE\n",
       "Training set 0.07401668 11.27783 8.327451 -0.1223346 2.247855 0.9082949\n",
       "                  ACF1\n",
       "Training set 0.1136706\n",
       "\n",
       "Forecasts:\n",
       "    Point Forecast    Lo 80    Hi 80    Lo 95    Hi 95\n",
       "109       671.1459 656.4175 685.8743 648.6207 693.6711\n",
       "110       675.2696 654.6212 695.9180 643.6907 706.8486\n",
       "111       679.3933 654.1777 704.6089 640.8294 717.9572\n",
       "112       683.5170 654.4423 712.5917 639.0511 727.9829\n",
       "113       687.6407 655.1615 720.1199 637.9681 737.3133\n",
       "114       691.7644 656.2047 727.3241 637.3805 746.1483\n",
       "115       695.8881 657.4936 734.2826 637.1688 754.6074\n",
       "116       700.0118 658.9774 741.0462 637.2551 762.7684\n",
       "117       704.1355 660.6206 747.6504 637.5852 770.6858\n",
       "118       708.2592 662.3973 754.1211 638.1194 778.3989"
      ]
     },
     "metadata": {},
     "output_type": "display_data"
    }
   ],
   "source": [
    "fit2_1 %>% summary()"
   ]
  },
  {
   "cell_type": "code",
   "execution_count": 90,
   "id": "e7503ce7-a6a1-4648-a9e6-19962d160b82",
   "metadata": {},
   "outputs": [
    {
     "data": {
      "image/png": "[encoded data removed]",
      "text/plain": [
       "plot without title"
      ]
     },
     "metadata": {
      "image/png": {
       "height": 420,
       "width": 420
      }
     },
     "output_type": "display_data"
    }
   ],
   "source": [
    "female_resid <- fit2_1$residuals #잔차.\n",
    "#평활값과 시계열 자료의 차이인 예측 오차.\n",
    "\n",
    "#잔차그림\n",
    "plot(female_resid, type = 'l')\n",
    "abline(h = 0, col = 'red')"
   ]
  },
  {
   "cell_type": "code",
   "execution_count": 91,
   "id": "05db67bc-42ee-4cd6-af85-09686a9d254c",
   "metadata": {},
   "outputs": [
    {
     "data": {
      "text/plain": [
       "\n",
       "\tDurbin-Watson test\n",
       "\n",
       "data:  lm(female_resid ~ 1)\n",
       "DW = 1.7721, p-value = 0.232\n",
       "alternative hypothesis: true autocorrelation is not 0\n"
      ]
     },
     "metadata": {},
     "output_type": "display_data"
    }
   ],
   "source": [
    "#예측 오차는 독립일까?\n",
    "dwtest(lm(female_resid ~ 1), alternative = 'two.sided')\n",
    "#p-값이 0.232 이므로 오차들은 독립이다."
   ]
  },
  {
   "cell_type": "code",
   "execution_count": 92,
   "id": "f4c26256-9cbf-4905-a3bb-559d2b58b108",
   "metadata": {},
   "outputs": [
    {
     "data": {
      "text/plain": [
       "\n",
       "\tOne Sample t-test\n",
       "\n",
       "data:  female_resid\n",
       "t = 0.06789, df = 107, p-value = 0.946\n",
       "alternative hypothesis: true mean is not equal to 0\n",
       "95 percent confidence interval:\n",
       " -2.087267  2.235301\n",
       "sample estimates:\n",
       " mean of x \n",
       "0.07401668 \n"
      ]
     },
     "metadata": {},
     "output_type": "display_data"
    }
   ],
   "source": [
    "#예측 오차의 평균은 0일까?\n",
    "t.test(female_resid)\n",
    "#p-값이 0.946 이므로 오차들의 평균은 0이다."
   ]
  },
  {
   "cell_type": "markdown",
   "id": "472a2a92-74b6-408e-a186-2da38d52e677",
   "metadata": {},
   "source": [
    "bptest를 시행할 순 없지만 (형식이 맞지 않는 것 같음..)\n",
    "눈으로 확인하기에 분산이 변하는 것 같진 않고\n",
    "일정 경계안에서 잔차가 있는 것 같다.\n",
    "\n",
    "따라서 적용한 평활법은 적절하다고 판단할 수 있다."
   ]
  },
  {
   "cell_type": "code",
   "execution_count": 93,
   "id": "73ddd815-f832-406f-b27e-ec3abe28a2ce",
   "metadata": {},
   "outputs": [],
   "source": [
    "#이동평균법을 통한 평활\n",
    "#MA와 SMA는 결국 시점의 차이이므로 하나만 실행하여보도록 하자.\n",
    "female_ma3 <- ma(female,3) #window size =3 "
   ]
  },
  {
   "cell_type": "code",
   "execution_count": 94,
   "id": "7330b65a-1176-485c-bad5-690956dba355",
   "metadata": {},
   "outputs": [
    {
     "data": {
      "image/png": "[encoded data removed]",
      "text/plain": [
       "plot without title"
      ]
     },
     "metadata": {
      "image/png": {
       "height": 420,
       "width": 420
      }
     },
     "output_type": "display_data"
    }
   ],
   "source": [
    "plot.ts(female)\n",
    "lines(female_ma3, col = 'red')\n",
    "legend(\n",
    "  \"topleft\",\n",
    "  lty = 1:2,\n",
    "  col = 1:2,\n",
    "  c(\"female\", \"이동평균법 평활값(window size = 3\")\n",
    ")"
   ]
  },
  {
   "cell_type": "code",
   "execution_count": 95,
   "id": "5beb061e-5ad3-4d74-aa02-91092b0e02a6",
   "metadata": {},
   "outputs": [],
   "source": [
    "resid1 <- female[-c(1,length(female))] - female_ma3[-c(1,length(female_ma3))]"
   ]
  },
  {
   "cell_type": "code",
   "execution_count": 96,
   "id": "028ef476-257b-4be2-954c-b5ce8a64d626",
   "metadata": {},
   "outputs": [
    {
     "data": {
      "image/png": "[encoded data removed]",
      "text/plain": [
       "plot without title"
      ]
     },
     "metadata": {
      "image/png": {
       "height": 420,
       "width": 420
      }
     },
     "output_type": "display_data"
    }
   ],
   "source": [
    "plot(resid1, type = 'l')\n",
    "abline(h=0, col = 'red')"
   ]
  },
  {
   "cell_type": "code",
   "execution_count": 97,
   "id": "8705ebec-7087-417e-80de-e0e899cf0a4e",
   "metadata": {},
   "outputs": [
    {
     "data": {
      "image/png": "[encoded data removed]",
      "text/plain": [
       "Plot with title \"Histogram of resid1\""
      ]
     },
     "metadata": {
      "image/png": {
       "height": 420,
       "width": 420
      }
     },
     "output_type": "display_data"
    }
   ],
   "source": [
    "hist(resid1) #이동평균법을 이용한 평활의 잔차 히스토그램"
   ]
  },
  {
   "cell_type": "code",
   "execution_count": 98,
   "id": "ed18f721-748e-4d77-8dca-58f477b2857f",
   "metadata": {},
   "outputs": [
    {
     "data": {
      "text/plain": [
       "\n",
       "\tOne Sample t-test\n",
       "\n",
       "data:  resid1\n",
       "t = 0.025353, df = 105, p-value = 0.9798\n",
       "alternative hypothesis: true mean is not equal to 0\n",
       "95 percent confidence interval:\n",
       " -0.9711856  0.9963428\n",
       "sample estimates:\n",
       " mean of x \n",
       "0.01257862 \n"
      ]
     },
     "metadata": {},
     "output_type": "display_data"
    }
   ],
   "source": [
    "t.test(resid1) #평균은 0 일까?"
   ]
  },
  {
   "cell_type": "code",
   "execution_count": 99,
   "id": "395ba9d9-038a-49a0-b1ab-9487d1debfc0",
   "metadata": {},
   "outputs": [
    {
     "data": {
      "text/plain": [
       "\n",
       "\tDurbin-Watson test\n",
       "\n",
       "data:  lm(resid1 ~ 1)\n",
       "DW = 2.8117, p-value = 1\n",
       "alternative hypothesis: true autocorrelation is greater than 0\n"
      ]
     },
     "metadata": {},
     "output_type": "display_data"
    }
   ],
   "source": [
    "dwtest(lm(resid1 ~ 1)) #오차들은 무상관한가?"
   ]
  },
  {
   "cell_type": "code",
   "execution_count": 100,
   "id": "10666877-3c92-4876-9e4b-20b56a79f3bf",
   "metadata": {},
   "outputs": [
    {
     "data": {
      "text/html": [
       "127.189396249896"
      ],
      "text/latex": [
       "127.189396249896"
      ],
      "text/markdown": [
       "127.189396249896"
      ],
      "text/plain": [
       "[1] 127.1894"
      ]
     },
     "metadata": {},
     "output_type": "display_data"
    },
    {
     "data": {
      "text/html": [
       "25.8469601677149"
      ],
      "text/latex": [
       "25.8469601677149"
      ],
      "text/markdown": [
       "25.8469601677149"
      ],
      "text/plain": [
       "[1] 25.84696"
      ]
     },
     "metadata": {},
     "output_type": "display_data"
    }
   ],
   "source": [
    "mean(female_resid^2);mean(resid1^2)"
   ]
  },
  {
   "cell_type": "code",
   "execution_count": 101,
   "id": "82943fa2-7790-4b46-a1d1-ece4571c8117",
   "metadata": {},
   "outputs": [],
   "source": [
    "#이동평균법은 예측보다 분해에 좀 더 적절한 기법이라 하였으므로 이중지수평활법만 레포트에 첨부하였습니다."
   ]
  },
  {
   "cell_type": "markdown",
   "id": "fab9da17-e5dd-4a2a-b14f-2bcbce8a6453",
   "metadata": {},
   "source": [
    "#### 2-2"
   ]
  },
  {
   "cell_type": "code",
   "execution_count": 102,
   "id": "43e50501-21dd-445e-ade3-c654286b2e15",
   "metadata": {},
   "outputs": [
    {
     "data": {
      "image/png": "[encoded data removed]",
      "text/plain": [
       "plot without title"
      ]
     },
     "metadata": {
      "image/png": {
       "height": 420,
       "width": 420
      }
     },
     "output_type": "display_data"
    }
   ],
   "source": [
    "plot.ts(export) #시도표"
   ]
  },
  {
   "cell_type": "markdown",
   "id": "3fa043c6-7614-46fa-aff4-f60d6e590c71",
   "metadata": {},
   "source": [
    "불규칙 성분, 추세성분과 계절성분으로 이루어져 있다."
   ]
  },
  {
   "cell_type": "code",
   "execution_count": 103,
   "id": "f87df7d0-5568-4eec-abc7-16cdf6175309",
   "metadata": {},
   "outputs": [
    {
     "data": {
      "image/png": "[encoded data removed]",
      "text/plain": [
       "Plot with title \"Holt-Winters filtering\""
      ]
     },
     "metadata": {
      "image/png": {
       "height": 420,
       "width": 420
      }
     },
     "output_type": "display_data"
    }
   ],
   "source": [
    "export <- ts(export, frequency = 12)\n",
    "#계절성 고려 주기 부여\n",
    "\n",
    "#가법 모형과 승법 모형 비교\n",
    "\n",
    "fit2_2_add <- HoltWinters(export) #alpha,beta,gamma 모두 구함함\n",
    "fit2_2_mult <- HoltWinters(export,\n",
    "                           seasonal = 'multiplicative')\n",
    "\n",
    "par(mfrow = c(1, 2))\n",
    "plot(fit2_2_add) #원시계열과 가법모형을 이용한 평활값\n",
    "plot(fit2_2_mult) #원시계열과 승법모형을 이용한 평활값"
   ]
  },
  {
   "cell_type": "code",
   "execution_count": 104,
   "id": "a9b866e3-e3cd-4dde-9f20-152803583066",
   "metadata": {},
   "outputs": [
    {
     "data": {
      "text/html": [
       "<style>\n",
       ".list-inline {list-style: none; margin:0; padding: 0}\n",
       ".list-inline>li {display: inline-block}\n",
       ".list-inline>li:not(:last-child)::after {content: \"\\00b7\"; padding: 0 .5ex}\n",
       "</style>\n",
       "<ol class=list-inline><li>1135.42182593918</li><li>1048.2628205778</li></ol>\n"
      ],
      "text/latex": [
       "\\begin{enumerate*}\n",
       "\\item 1135.42182593918\n",
       "\\item 1048.2628205778\n",
       "\\end{enumerate*}\n"
      ],
      "text/markdown": [
       "1. 1135.42182593918\n",
       "2. 1048.2628205778\n",
       "\n",
       "\n"
      ],
      "text/plain": [
       "[1] 1135.422 1048.263"
      ]
     },
     "metadata": {},
     "output_type": "display_data"
    },
    {
     "data": {
      "text/plain": [
       "Holt-Winters exponential smoothing with trend and multiplicative seasonal component.\n",
       "\n",
       "Call:\n",
       "HoltWinters(x = export, seasonal = \"multiplicative\")\n",
       "\n",
       "Smoothing parameters:\n",
       " alpha: 0.4285887\n",
       " beta : 0.02606259\n",
       " gamma: 0.4083356\n",
       "\n",
       "Coefficients:\n",
       "          [,1]\n",
       "a   68.7136998\n",
       "b    0.5141142\n",
       "s1   0.9879869\n",
       "s2   0.9620299\n",
       "s3   0.9996946\n",
       "s4   1.0834386\n",
       "s5   0.9897148\n",
       "s6   0.9744549\n",
       "s7   1.0319339\n",
       "s8   1.0425559\n",
       "s9   1.0357445\n",
       "s10  1.1286956\n",
       "s11  0.8073858\n",
       "s12  0.8400441"
      ]
     },
     "metadata": {},
     "output_type": "display_data"
    }
   ],
   "source": [
    "#예측의 관점에서 최적의 모형을 찾고 싶으므로\n",
    "#SSE 즉 한 시점후 오차제곱합이 낮은 모형을 선택\n",
    "\n",
    "c(fit2_2_add$SSE, fit2_2_mult$SSE)\n",
    "fit2_2_mult #이 승법모형이 더 예측력이 좋다."
   ]
  },
  {
   "cell_type": "code",
   "execution_count": 105,
   "id": "f453ba49-5faa-451a-9e4f-2261759b2d34",
   "metadata": {},
   "outputs": [
    {
     "data": {
      "text/html": [
       "<style>\n",
       ".dl-inline {width: auto; margin:0; padding: 0}\n",
       ".dl-inline>dt, .dl-inline>dd {float: none; width: auto; display: inline-block}\n",
       ".dl-inline>dt::after {content: \":\\0020\"; padding-right: .5ex}\n",
       ".dl-inline>dt:not(:first-of-type) {padding-left: .5ex}\n",
       "</style><dl class=dl-inline><dt>alpha</dt><dd>0.428588685537474</dd><dt>beta</dt><dd>0.0260625902304996</dd><dt>gamma</dt><dd>0.408335567224276</dd></dl>\n"
      ],
      "text/latex": [
       "\\begin{description*}\n",
       "\\item[alpha] 0.428588685537474\n",
       "\\item[beta] 0.0260625902304996\n",
       "\\item[gamma] 0.408335567224276\n",
       "\\end{description*}\n"
      ],
      "text/markdown": [
       "alpha\n",
       ":   0.428588685537474beta\n",
       ":   0.0260625902304996gamma\n",
       ":   0.408335567224276\n",
       "\n"
      ],
      "text/plain": [
       "     alpha       beta      gamma \n",
       "0.42858869 0.02606259 0.40833557 "
      ]
     },
     "metadata": {},
     "output_type": "display_data"
    }
   ],
   "source": [
    "c(fit2_2_mult$alpha , fit2_2_mult$beta, fit2_2_mult$gamma) "
   ]
  },
  {
   "cell_type": "code",
   "execution_count": 106,
   "id": "78d46199-ced4-480c-a3fe-376ce9531908",
   "metadata": {},
   "outputs": [],
   "source": [
    "fit2_2_holt <- holt(export,\n",
    "                    alpha = fit2_2_mult$alpha,\n",
    "                    beta = fit2_2_mult$beta,\n",
    "                    gamma = fit2_2_mult$gamma,\n",
    "                    seasonal = \"multiplicative\"\n",
    ")#잔차를 확인하기 위하여 holt 함수에 HoltWinter로 최적"
   ]
  },
  {
   "cell_type": "code",
   "execution_count": 107,
   "id": "2128c4b2-ad8b-4806-a01b-789f07c98977",
   "metadata": {},
   "outputs": [
    {
     "data": {
      "image/png": "[encoded data removed]",
      "text/plain": [
       "Plot with title \"Histogram of resid_2\""
      ]
     },
     "metadata": {
      "image/png": {
       "height": 420,
       "width": 420
      }
     },
     "output_type": "display_data"
    }
   ],
   "source": [
    "resid_2 <- fit2_2_holt$residuals \n",
    "hist(resid_2) #잔차의 히스토그램"
   ]
  },
  {
   "cell_type": "code",
   "execution_count": 108,
   "id": "8316b43d-fff7-4ef4-979a-cf3b47d048e3",
   "metadata": {},
   "outputs": [
    {
     "data": {
      "text/plain": [
       "\n",
       "\tOne Sample t-test\n",
       "\n",
       "data:  resid_2\n",
       "t = -0.58073, df = 85, p-value = 0.563\n",
       "alternative hypothesis: true mean is not equal to 0\n",
       "95 percent confidence interval:\n",
       " -1.7375394  0.9519831\n",
       "sample estimates:\n",
       " mean of x \n",
       "-0.3927782 \n"
      ]
     },
     "metadata": {},
     "output_type": "display_data"
    }
   ],
   "source": [
    "t.test(resid_2) #예측오차의 평균은 0 일까?"
   ]
  },
  {
   "cell_type": "code",
   "execution_count": 109,
   "id": "b827db1b-9d7a-4263-80d5-cb4d89a1cf0a",
   "metadata": {},
   "outputs": [
    {
     "data": {
      "text/plain": [
       "\n",
       "\tDurbin-Watson test\n",
       "\n",
       "data:  lm(resid_2 ~ 1)\n",
       "DW = 2.0697, p-value = 0.6272\n",
       "alternative hypothesis: true autocorrelation is greater than 0\n"
      ]
     },
     "metadata": {},
     "output_type": "display_data"
    }
   ],
   "source": [
    "dwtest(lm(resid_2~1))"
   ]
  },
  {
   "cell_type": "code",
   "execution_count": 110,
   "id": "4c980d50-608c-4593-843b-2ee831bf3c4d",
   "metadata": {},
   "outputs": [
    {
     "data": {
      "text/html": [
       "1371.05731181319"
      ],
      "text/latex": [
       "1371.05731181319"
      ],
      "text/markdown": [
       "1371.05731181319"
      ],
      "text/plain": [
       "[1] 1371.057"
      ]
     },
     "metadata": {},
     "output_type": "display_data"
    }
   ],
   "source": [
    "#저번 과제 6번의 모형과 예측력이 서로 어떠한지 비교\n",
    "ts_data <- data.frame(\n",
    "  z = export,\n",
    "  freq = as.factor(as.integer(cycle(export))),\n",
    "  #지시함수의 주기(가변수)\n",
    "  trend = 1:length(export)\n",
    ")\n",
    "\n",
    "reg <- lm(z ~ 0 + trend + freq, data = ts_data) #beta0 = 0 이라는 제약조건\n",
    "sum((reg$residuals) ^ 2) #저번 과제 모형의 SSE\n",
    "\n",
    "#SSE를 비교하려니 적합값들의 길이가 다르다.\n",
    "#MSE로 비교해보자"
   ]
  },
  {
   "cell_type": "code",
   "execution_count": 111,
   "id": "d9aedf5e-c40d-4ab1-b93d-88981b53bade",
   "metadata": {},
   "outputs": [
    {
     "data": {
      "text/html": [
       "<style>\n",
       ".list-inline {list-style: none; margin:0; padding: 0}\n",
       ".list-inline>li {display: inline-block}\n",
       ".list-inline>li:not(:last-child)::after {content: \"\\00b7\"; padding: 0 .5ex}\n",
       "</style>\n",
       "<ol class=list-inline><li>39.0372521514102</li><li>15.9425268815487</li></ol>\n"
      ],
      "text/latex": [
       "\\begin{enumerate*}\n",
       "\\item 39.0372521514102\n",
       "\\item 15.9425268815487\n",
       "\\end{enumerate*}\n"
      ],
      "text/markdown": [
       "1. 39.0372521514102\n",
       "2. 15.9425268815487\n",
       "\n",
       "\n"
      ],
      "text/plain": [
       "[1] 39.03725 15.94253"
      ]
     },
     "metadata": {},
     "output_type": "display_data"
    }
   ],
   "source": [
    "c(mean(resid_2^2), mean(reg$residuals^2))\n",
    "#MSE 상으로 보았을 때\n",
    "#각 각 mse는 39.0372 , 15.949\n",
    "#이중지수평활법을 통한 예측이 더 정확하다고 볼 수 있다."
   ]
  },
  {
   "cell_type": "markdown",
   "id": "b185b4cf-1ef4-4191-8ac3-e341acf79c0b",
   "metadata": {},
   "source": [
    "### 3번"
   ]
  },
  {
   "cell_type": "code",
   "execution_count": 112,
   "id": "18eeeeb7-434d-4211-850b-076f93c2921c",
   "metadata": {},
   "outputs": [
    {
     "data": {
      "image/png": "[encoded data removed]",
      "text/plain": [
       "plot without title"
      ]
     },
     "metadata": {
      "image/png": {
       "height": 420,
       "width": 420
      }
     },
     "output_type": "display_data"
    }
   ],
   "source": [
    "par(mfrow = c(1, 1))\n",
    "z <- read.csv('data1.csv')\n",
    "data1 <- ts(z$z)#시계열 데이터로 변환\n",
    "t <- z$t #시점.\n",
    "plot(data1) #불규칙 성분과 추세성분이 있다."
   ]
  },
  {
   "cell_type": "code",
   "execution_count": 113,
   "id": "ca94ff5b-a728-47ef-a36e-5af24cf38c00",
   "metadata": {},
   "outputs": [],
   "source": [
    "tmp.data <- data.frame(\n",
    "    z = z$z,\n",
    "    t = z$t)"
   ]
  },
  {
   "cell_type": "markdown",
   "id": "a0ac0826-8458-45a2-b91a-6a0a388750c9",
   "metadata": {},
   "source": [
    "#### 3-1"
   ]
  },
  {
   "cell_type": "code",
   "execution_count": 114,
   "id": "32103b34-8d9d-4dd7-9595-3f8d2b53a1a2",
   "metadata": {},
   "outputs": [
    {
     "data": {
      "text/html": [
       "<style>\n",
       ".dl-inline {width: auto; margin:0; padding: 0}\n",
       ".dl-inline>dt, .dl-inline>dd {float: none; width: auto; display: inline-block}\n",
       ".dl-inline>dt::after {content: \":\\0020\"; padding-right: .5ex}\n",
       ".dl-inline>dt:not(:first-of-type) {padding-left: .5ex}\n",
       "</style><dl class=dl-inline><dt>(Intercept)</dt><dd>0.818932073294029</dd><dt>t</dt><dd>0.0996189064948683</dd></dl>\n"
      ],
      "text/latex": [
       "\\begin{description*}\n",
       "\\item[(Intercept)] 0.818932073294029\n",
       "\\item[t] 0.0996189064948683\n",
       "\\end{description*}\n"
      ],
      "text/markdown": [
       "(Intercept)\n",
       ":   0.818932073294029t\n",
       ":   0.0996189064948683\n",
       "\n"
      ],
      "text/plain": [
       "(Intercept)           t \n",
       " 0.81893207  0.09961891 "
      ]
     },
     "metadata": {},
     "output_type": "display_data"
    },
    {
     "data": {
      "image/png": "[encoded data removed]",
      "text/plain": [
       "plot without title"
      ]
     },
     "metadata": {
      "image/png": {
       "height": 420,
       "width": 420
      }
     },
     "output_type": "display_data"
    }
   ],
   "source": [
    "fit3_1 <- lm(data1 ~ t) #추세모형 적합\n",
    "fit3_1$coefficients\n",
    "\n",
    "plot(data1) #잘 적합이 되었는지 시각화\n",
    "abline(fit3_1, col = 'red')"
   ]
  },
  {
   "cell_type": "code",
   "execution_count": 115,
   "id": "e0a57b61-4365-4ac9-b158-c3a22805d332",
   "metadata": {},
   "outputs": [
    {
     "data": {
      "text/plain": [
       "\n",
       "Call:\n",
       "lm(formula = data1 ~ t)\n",
       "\n",
       "Residuals:\n",
       "    Min      1Q  Median      3Q     Max \n",
       "-3.0803 -1.0287  0.0169  0.8426  4.3288 \n",
       "\n",
       "Coefficients:\n",
       "            Estimate Std. Error t value Pr(>|t|)    \n",
       "(Intercept) 0.818932   0.296301   2.764  0.00682 ** \n",
       "t           0.099619   0.005094  19.557  < 2e-16 ***\n",
       "---\n",
       "Signif. codes:  0 '***' 0.001 '**' 0.01 '*' 0.05 '.' 0.1 ' ' 1\n",
       "\n",
       "Residual standard error: 1.47 on 98 degrees of freedom\n",
       "Multiple R-squared:  0.796,\tAdjusted R-squared:  0.7939 \n",
       "F-statistic: 382.5 on 1 and 98 DF,  p-value: < 2.2e-16\n"
      ]
     },
     "metadata": {},
     "output_type": "display_data"
    }
   ],
   "source": [
    "summary(fit3_1)"
   ]
  },
  {
   "cell_type": "markdown",
   "id": "7df06bbc-54e3-4d1d-ad95-14892f6a53fd",
   "metadata": {},
   "source": [
    "적합된 추세모형 $\\widehat{Z_t} = 0.81893207+ 0.09961891t$ 이다."
   ]
  },
  {
   "cell_type": "code",
   "execution_count": 116,
   "id": "6c2e9a1a-f3a1-4ff9-bd52-1c2ccd65c0a1",
   "metadata": {},
   "outputs": [
    {
     "data": {
      "image/png": "[encoded data removed]",
      "text/plain": [
       "Plot with title \"Histogram of .\""
      ]
     },
     "metadata": {
      "image/png": {
       "height": 420,
       "width": 420
      }
     },
     "output_type": "display_data"
    }
   ],
   "source": [
    "resid3 <- fit3_1$residuals\n",
    "resid3 %>% hist() #잔차의 히스토그램"
   ]
  },
  {
   "cell_type": "code",
   "execution_count": 117,
   "id": "970aac70-7993-4c47-b044-a7eb948f0d0a",
   "metadata": {},
   "outputs": [
    {
     "data": {
      "text/plain": [
       "\n",
       "\tOne Sample t-test\n",
       "\n",
       "data:  resid3\n",
       "t = -3.7755e-16, df = 99, p-value = 1\n",
       "alternative hypothesis: true mean is not equal to 0\n",
       "95 percent confidence interval:\n",
       " -0.2902834  0.2902834\n",
       "sample estimates:\n",
       "    mean of x \n",
       "-5.523414e-17 \n"
      ]
     },
     "metadata": {},
     "output_type": "display_data"
    }
   ],
   "source": [
    "t.test(resid3) #잔차 평균은 0인가?"
   ]
  },
  {
   "cell_type": "code",
   "execution_count": 118,
   "id": "6c15e990-2111-4d4e-9431-29e4f99d5e85",
   "metadata": {},
   "outputs": [
    {
     "data": {
      "text/plain": [
       "\n",
       "\tDurbin-Watson test\n",
       "\n",
       "data:  lm(resid3 ~ 1)\n",
       "DW = 2.2164, p-value = 0.8628\n",
       "alternative hypothesis: true autocorrelation is greater than 0\n"
      ]
     },
     "metadata": {},
     "output_type": "display_data"
    }
   ],
   "source": [
    "dwtest(lm(resid3 ~ 1)) #오차들의 자기상관 검정"
   ]
  },
  {
   "cell_type": "code",
   "execution_count": 119,
   "id": "e95f7136-dd5d-4c0e-8656-62f8436f3f44",
   "metadata": {},
   "outputs": [
    {
     "data": {
      "text/plain": [
       "\n",
       "\tShapiro-Wilk normality test\n",
       "\n",
       "data:  resid3\n",
       "W = 0.98926, p-value = 0.6049\n"
      ]
     },
     "metadata": {},
     "output_type": "display_data"
    }
   ],
   "source": [
    "shapiro.test(resid3)"
   ]
  },
  {
   "cell_type": "markdown",
   "id": "e2808055-8fac-4a9f-a010-8c5074a9e254",
   "metadata": {},
   "source": [
    "#### 3-2"
   ]
  },
  {
   "cell_type": "code",
   "execution_count": 120,
   "id": "69e4e926-cf3e-423c-ac72-5def426a4171",
   "metadata": {},
   "outputs": [
    {
     "data": {
      "text/html": [
       "<table class=\"dataframe\">\n",
       "<caption>A data.frame: 10 × 3</caption>\n",
       "<thead>\n",
       "\t<tr><th></th><th scope=col>fit</th><th scope=col>lwr</th><th scope=col>upr</th></tr>\n",
       "\t<tr><th></th><th scope=col>&lt;dbl&gt;</th><th scope=col>&lt;dbl&gt;</th><th scope=col>&lt;dbl&gt;</th></tr>\n",
       "</thead>\n",
       "<tbody>\n",
       "\t<tr><th scope=row>1</th><td>10.88044</td><td>7.903813</td><td>13.85707</td></tr>\n",
       "\t<tr><th scope=row>2</th><td>10.98006</td><td>8.001681</td><td>13.95844</td></tr>\n",
       "\t<tr><th scope=row>3</th><td>11.07968</td><td>8.099517</td><td>14.05984</td></tr>\n",
       "\t<tr><th scope=row>4</th><td>11.17930</td><td>8.197319</td><td>14.16128</td></tr>\n",
       "\t<tr><th scope=row>5</th><td>11.27892</td><td>8.295088</td><td>14.26275</td></tr>\n",
       "\t<tr><th scope=row>6</th><td>11.37854</td><td>8.392824</td><td>14.36425</td></tr>\n",
       "\t<tr><th scope=row>7</th><td>11.47816</td><td>8.490527</td><td>14.46578</td></tr>\n",
       "\t<tr><th scope=row>8</th><td>11.57777</td><td>8.588197</td><td>14.56735</td></tr>\n",
       "\t<tr><th scope=row>9</th><td>11.67739</td><td>8.685834</td><td>14.66895</td></tr>\n",
       "\t<tr><th scope=row>10</th><td>11.77701</td><td>8.783438</td><td>14.77059</td></tr>\n",
       "</tbody>\n",
       "</table>\n"
      ],
      "text/latex": [
       "A data.frame: 10 × 3\n",
       "\\begin{tabular}{r|lll}\n",
       "  & fit & lwr & upr\\\\\n",
       "  & <dbl> & <dbl> & <dbl>\\\\\n",
       "\\hline\n",
       "\t1 & 10.88044 & 7.903813 & 13.85707\\\\\n",
       "\t2 & 10.98006 & 8.001681 & 13.95844\\\\\n",
       "\t3 & 11.07968 & 8.099517 & 14.05984\\\\\n",
       "\t4 & 11.17930 & 8.197319 & 14.16128\\\\\n",
       "\t5 & 11.27892 & 8.295088 & 14.26275\\\\\n",
       "\t6 & 11.37854 & 8.392824 & 14.36425\\\\\n",
       "\t7 & 11.47816 & 8.490527 & 14.46578\\\\\n",
       "\t8 & 11.57777 & 8.588197 & 14.56735\\\\\n",
       "\t9 & 11.67739 & 8.685834 & 14.66895\\\\\n",
       "\t10 & 11.77701 & 8.783438 & 14.77059\\\\\n",
       "\\end{tabular}\n"
      ],
      "text/markdown": [
       "\n",
       "A data.frame: 10 × 3\n",
       "\n",
       "| <!--/--> | fit &lt;dbl&gt; | lwr &lt;dbl&gt; | upr &lt;dbl&gt; |\n",
       "|---|---|---|---|\n",
       "| 1 | 10.88044 | 7.903813 | 13.85707 |\n",
       "| 2 | 10.98006 | 8.001681 | 13.95844 |\n",
       "| 3 | 11.07968 | 8.099517 | 14.05984 |\n",
       "| 4 | 11.17930 | 8.197319 | 14.16128 |\n",
       "| 5 | 11.27892 | 8.295088 | 14.26275 |\n",
       "| 6 | 11.37854 | 8.392824 | 14.36425 |\n",
       "| 7 | 11.47816 | 8.490527 | 14.46578 |\n",
       "| 8 | 11.57777 | 8.588197 | 14.56735 |\n",
       "| 9 | 11.67739 | 8.685834 | 14.66895 |\n",
       "| 10 | 11.77701 | 8.783438 | 14.77059 |\n",
       "\n"
      ],
      "text/plain": [
       "   fit      lwr      upr     \n",
       "1  10.88044 7.903813 13.85707\n",
       "2  10.98006 8.001681 13.95844\n",
       "3  11.07968 8.099517 14.05984\n",
       "4  11.17930 8.197319 14.16128\n",
       "5  11.27892 8.295088 14.26275\n",
       "6  11.37854 8.392824 14.36425\n",
       "7  11.47816 8.490527 14.46578\n",
       "8  11.57777 8.588197 14.56735\n",
       "9  11.67739 8.685834 14.66895\n",
       "10 11.77701 8.783438 14.77059"
      ]
     },
     "metadata": {},
     "output_type": "display_data"
    }
   ],
   "source": [
    "#위에서 적합한 선형추세모형으로 예측을 시행하자.\n",
    "prdtn <- predict(fit3_1, newdata =\n",
    "                   data.frame(t = 100 + (1:10)),\n",
    "                 interval = 'prediction') %>% data.frame()\n",
    "prdtn #예측값들은 다음과 같다"
   ]
  },
  {
   "cell_type": "code",
   "execution_count": 121,
   "id": "5ae3fa8d-479f-470f-b21f-86297d8c2e52",
   "metadata": {},
   "outputs": [
    {
     "data": {
      "image/png": "[encoded data removed]",
      "text/plain": [
       "Plot with title \"원시계열과 1~10 시차 후 예측값과 예측구간\""
      ]
     },
     "metadata": {
      "image/png": {
       "height": 420,
       "width": 420
      }
     },
     "output_type": "display_data"
    }
   ],
   "source": [
    "#예측값들과 원시계열 자료 시각화\n",
    "plot(z~ t, tmp.data,\n",
    "     type='l',\n",
    "     main = \"원시계열과 1~10 시차 후 예측값과 예측구간\",\n",
    "     xlab= '',ylab='',\n",
    "     xlim = c(1,115)\n",
    "     )\n",
    "lines(101:110, prdtn$lwr , col = 2) #예측구간 하한\n",
    "lines(101:110, prdtn$fit , col = 3) #예측값\n",
    "lines(101:110, prdtn$up , col = 4) #예측구간 상한"
   ]
  },
  {
   "cell_type": "markdown",
   "id": "76fd6a23-602c-4807-bc15-f34c07d2a609",
   "metadata": {},
   "source": [
    "#### 3-3"
   ]
  },
  {
   "cell_type": "code",
   "execution_count": 122,
   "id": "530a331a-d9b9-4862-9f9e-7ab186a143fb",
   "metadata": {},
   "outputs": [
    {
     "data": {
      "image/png": "[encoded data removed]",
      "text/plain": [
       "plot without title"
      ]
     },
     "metadata": {
      "image/png": {
       "height": 420,
       "width": 420
      }
     },
     "output_type": "display_data"
    }
   ],
   "source": [
    "plot(data1) #불규칙 성분과 추세성분이 있다.\n",
    "#따라서 이중지수평활법을 적용한다. "
   ]
  },
  {
   "cell_type": "code",
   "execution_count": 123,
   "id": "f706516b-624f-484b-8ff2-67c13d52d931",
   "metadata": {},
   "outputs": [],
   "source": [
    "#가법 모형\n",
    "fit3_3_holt <- HoltWinters(data1,\n",
    "                           gamma = FALSE,\n",
    "                          seasonal = 'additive')#이중지수평활법 시행"
   ]
  },
  {
   "cell_type": "code",
   "execution_count": 124,
   "id": "74d157dc-a8d0-4639-a8ef-3df27999e491",
   "metadata": {},
   "outputs": [
    {
     "data": {
      "text/html": [
       "<style>\n",
       ".dl-inline {width: auto; margin:0; padding: 0}\n",
       ".dl-inline>dt, .dl-inline>dd {float: none; width: auto; display: inline-block}\n",
       ".dl-inline>dt::after {content: \":\\0020\"; padding-right: .5ex}\n",
       ".dl-inline>dt:not(:first-of-type) {padding-left: .5ex}\n",
       "</style><dl class=dl-inline><dt>alpha</dt><dd>0.496601002164385</dd><dt>beta</dt><dd>0.39622502886001</dd></dl>\n"
      ],
      "text/latex": [
       "\\begin{description*}\n",
       "\\item[alpha] 0.496601002164385\n",
       "\\item[beta] 0.39622502886001\n",
       "\\end{description*}\n"
      ],
      "text/markdown": [
       "alpha\n",
       ":   0.496601002164385beta\n",
       ":   0.39622502886001\n",
       "\n"
      ],
      "text/plain": [
       "   alpha     beta \n",
       "0.496601 0.396225 "
      ]
     },
     "metadata": {},
     "output_type": "display_data"
    }
   ],
   "source": [
    "c(fit3_3_holt$alpha,fit3_3_holt$beta)"
   ]
  },
  {
   "cell_type": "code",
   "execution_count": 125,
   "id": "ad2e0a27-0264-4d73-92d2-6c577f962e4f",
   "metadata": {},
   "outputs": [],
   "source": [
    "fit3_3_holt2 <- holt(data1,\n",
    "                     alpha = fit3_3_holt$alpha,\n",
    "                     beta = fit3_3_holt$beta,\n",
    "                     )"
   ]
  },
  {
   "cell_type": "code",
   "execution_count": 126,
   "id": "4b9b04f7-48c8-4eed-8746-cedfa9bb49f5",
   "metadata": {},
   "outputs": [
    {
     "data": {
      "image/png": "[encoded data removed]",
      "text/plain": [
       "Plot with title \"Forecasts from Holt's method\""
      ]
     },
     "metadata": {
      "image/png": {
       "height": 420,
       "width": 420
      }
     },
     "output_type": "display_data"
    }
   ],
   "source": [
    "plot(fit3_3_holt2)\n",
    "lines(fit3_3_holt2$fitted,col = 'red')"
   ]
  },
  {
   "cell_type": "code",
   "execution_count": 127,
   "id": "808374bc-7634-45c4-a398-48259689cdc5",
   "metadata": {},
   "outputs": [
    {
     "data": {
      "image/png": "[encoded data removed]",
      "text/plain": [
       "plot without title"
      ]
     },
     "metadata": {
      "image/png": {
       "height": 420,
       "width": 420
      }
     },
     "output_type": "display_data"
    }
   ],
   "source": [
    "#잔차그림\n",
    "plot(fit3_3_holt2$residuals)\n",
    "abline(h=0,col = 'red')"
   ]
  },
  {
   "cell_type": "code",
   "execution_count": 128,
   "id": "6181ad4b-6e13-4949-bcd3-56b7caaac933",
   "metadata": {},
   "outputs": [
    {
     "data": {
      "image/png": "[encoded data removed]",
      "text/plain": [
       "Plot with title \"Histogram of fit3_3_holt2$residuals\""
      ]
     },
     "metadata": {
      "image/png": {
       "height": 420,
       "width": 420
      }
     },
     "output_type": "display_data"
    }
   ],
   "source": [
    "#잔차분석\n",
    "hist(fit3_3_holt2$residuals)"
   ]
  },
  {
   "cell_type": "markdown",
   "id": "fd0e80a6-63c5-402d-a93e-0573277b40f0",
   "metadata": {},
   "source": [
    "완벽한 대칭은 아니지만 원점을 기준으로 비슷하게 잔차들이 흩어져있다."
   ]
  },
  {
   "cell_type": "code",
   "execution_count": 129,
   "id": "58de2ca8-9d7c-43b5-8739-de0c57da6453",
   "metadata": {},
   "outputs": [
    {
     "data": {
      "text/plain": [
       "\n",
       "\tOne Sample t-test\n",
       "\n",
       "data:  fit3_3_holt2$residuals\n",
       "t = -0.13075, df = 99, p-value = 0.8962\n",
       "alternative hypothesis: true mean is not equal to 0\n",
       "95 percent confidence interval:\n",
       " -0.4566750  0.4002095\n",
       "sample estimates:\n",
       "  mean of x \n",
       "-0.02823276 \n"
      ]
     },
     "metadata": {},
     "output_type": "display_data"
    }
   ],
   "source": [
    "#잔차의 평균은 0 인가?\n",
    "t.test(fit3_3_holt2$residuals)\n",
    "#p-value = 0.8962 이므로 잔차의 평균은 0이라 볼 수 있다."
   ]
  },
  {
   "cell_type": "code",
   "execution_count": 130,
   "id": "feec31a1-319d-453c-a256-9c33ef3c1758",
   "metadata": {},
   "outputs": [
    {
     "data": {
      "text/plain": [
       "\n",
       "\tDurbin-Watson test\n",
       "\n",
       "data:  lm(fit3_3_holt2$residuals ~ 1)\n",
       "DW = 2.5174, p-value = 0.008974\n",
       "alternative hypothesis: true autocorrelation is not 0\n"
      ]
     },
     "metadata": {},
     "output_type": "display_data"
    }
   ],
   "source": [
    "#잔차들을 서로 무상관인가?\n",
    "dwtest(lm(fit3_3_holt2$residuals ~ 1), alternative = 'two.sided')"
   ]
  },
  {
   "cell_type": "markdown",
   "id": "34eb9a29-e097-4bcf-9548-0dfacaa7adf4",
   "metadata": {},
   "source": [
    "p-value = 0.008974  이며 dw 값이 4에 가까우므로 음의 자기상관관계가 있음을 알 수 있다."
   ]
  },
  {
   "cell_type": "markdown",
   "id": "d0c6d331-19e2-4889-aef1-0ca685d91dfd",
   "metadata": {},
   "source": [
    "#### 3-4"
   ]
  },
  {
   "cell_type": "code",
   "execution_count": 131,
   "id": "e17af51e-5683-4b98-8bf2-9edeb2d8a059",
   "metadata": {},
   "outputs": [
    {
     "name": "stdout",
     "output_type": "stream",
     "text": [
      " [1] 8.862685 8.360702 7.858719 7.356735 6.854752 6.352769 5.850786 5.348803\n",
      " [9] 4.846819 4.344836\n"
     ]
    },
    {
     "data": {
      "image/png": "[encoded data removed]",
      "text/plain": [
       "Plot with title \"Forecasts from Holt's method\""
      ]
     },
     "metadata": {
      "image/png": {
       "height": 420,
       "width": 420
      }
     },
     "output_type": "display_data"
    }
   ],
   "source": [
    "holt_prdct <- fit3_3_holt2 %>%\n",
    "  data.frame() #예측값, 구간 데이터 프레임에 삽입\n",
    "print(holt_prdct$Point.Forecast) #마지막 시점으로부터 10개의 예측값 관찰\n",
    "\n",
    "plot(\n",
    "  fit3_3_holt2,\n",
    "  ylab = \"\",\n",
    "  xlab = \"\",\n",
    "  lty = 1,\n",
    "  col = \"black\"\n",
    ")\n",
    "lines(fitted(fit3_3_holt2), col = \"red\", lty = 2)"
   ]
  },
  {
   "cell_type": "markdown",
   "id": "44d4e549-0d52-4c03-9552-5835bb08c6ab",
   "metadata": {},
   "source": [
    "#### 3-5"
   ]
  },
  {
   "cell_type": "code",
   "execution_count": 132,
   "id": "6f49be3e-b58c-4931-b1fc-62ab2802f7df",
   "metadata": {},
   "outputs": [
    {
     "data": {
      "text/html": [
       "<style>\n",
       ".list-inline {list-style: none; margin:0; padding: 0}\n",
       ".list-inline>li {display: inline-block}\n",
       ".list-inline>li:not(:last-child)::after {content: \"\\00b7\"; padding: 0 .5ex}\n",
       "</style>\n",
       "<ol class=list-inline><li>398.96764949334</li><li>39.1978903404577</li></ol>\n"
      ],
      "text/latex": [
       "\\begin{enumerate*}\n",
       "\\item 398.96764949334\n",
       "\\item 39.1978903404577\n",
       "\\end{enumerate*}\n"
      ],
      "text/markdown": [
       "1. 398.96764949334\n",
       "2. 39.1978903404577\n",
       "\n",
       "\n"
      ],
      "text/plain": [
       "[1] 398.96765  39.19789"
      ]
     },
     "metadata": {},
     "output_type": "display_data"
    }
   ],
   "source": [
    "z_ <- read.csv('data1_new.csv')\n",
    "data1_new <- ts(z_$z) #실제값.\n",
    "SSE_holt <-\n",
    "  sum((data1_new - holt_prdct$Point.Forecast)^2) #이중평활지수 모형의 잔차\n",
    "SSE_trend <- sum((data1_new - prdtn$fit)^2) #선형추세모형의 잔차\n",
    "\n",
    "c(SSE_holt , SSE_trend) #선형추세 모형의 오차제곱합이 더 작으므로 더 적합한 모형이다."
   ]
  },
  {
   "cell_type": "markdown",
   "id": "119b181d-a75b-4806-b1b2-f583c6b9bda3",
   "metadata": {},
   "source": [
    "### 4번"
   ]
  },
  {
   "cell_type": "code",
   "execution_count": 133,
   "id": "c3480eec-7547-40c8-bf37-92117e53b8c6",
   "metadata": {},
   "outputs": [
    {
     "data": {
      "image/png": "[encoded data removed]",
      "text/plain": [
       "plot without title"
      ]
     },
     "metadata": {
      "image/png": {
       "height": 420,
       "width": 420
      }
     },
     "output_type": "display_data"
    }
   ],
   "source": [
    "z4 <- scan('export.txt')\n",
    "export <- ts(z4, frequency = 12)\n",
    "par(mfrow= c(1,2))\n",
    "ts.plot(export) # 불규칙성분 , 추세성분과 계설성분까지 모두 있는 시계열자료\n",
    "ts.plot(log(export)) #이분산성이 있는지, 없는지 애매모호하다.. 따라서 가법모형과 승법모형을 둘 다 적용하고 SSE를 비교하여 우수한 모델에 대해 잔차분석을 해보자.\n",
    "#하지만 직선형 추세는 아니고 약간 곡선형 추세를 갖는다.\n",
    "t <- 1:length(z4)\n",
    "par(mfrow= c(1,1))"
   ]
  },
  {
   "cell_type": "markdown",
   "id": "b10a509e-d2b7-4e83-96c7-3ed6feb54941",
   "metadata": {},
   "source": [
    "#### 4-1-1 가법모형"
   ]
  },
  {
   "cell_type": "code",
   "execution_count": 134,
   "id": "7b792718-4078-40de-a303-0a740ef7d8cc",
   "metadata": {},
   "outputs": [
    {
     "data": {
      "text/plain": [
       "\n",
       "Call:\n",
       "lm(formula = export ~ t + I(t^2))\n",
       "\n",
       "Residuals:\n",
       "     Min       1Q   Median       3Q      Max \n",
       "-15.6907  -3.3962   0.0991   3.2700  15.2529 \n",
       "\n",
       "Coefficients:\n",
       "             Estimate Std. Error t value Pr(>|t|)    \n",
       "(Intercept) 24.382314   1.898857  12.841  < 2e-16 ***\n",
       "t            0.870551   0.100738   8.642 3.40e-13 ***\n",
       "I(t^2)      -0.004889   0.001122  -4.358 3.74e-05 ***\n",
       "---\n",
       "Signif. codes:  0 '***' 0.001 '**' 0.01 '*' 0.05 '.' 0.1 ' ' 1\n",
       "\n",
       "Residual standard error: 5.734 on 83 degrees of freedom\n",
       "Multiple R-squared:  0.8031,\tAdjusted R-squared:  0.7983 \n",
       "F-statistic: 169.3 on 2 and 83 DF,  p-value: < 2.2e-16\n"
      ]
     },
     "metadata": {},
     "output_type": "display_data"
    }
   ],
   "source": [
    "fit_trend <- lm(export ~ t + I(t ^ 2)) #이차항을 추가\n",
    "summary(fit_trend)\n",
    "#회귀계수의 추정치 : beta0 = 24.382314 beta1 = 0.870551 , beta2 = -0.004889\n",
    "Tt_hat <- fit_trend$fitted.values # 적합된 추세모형의 fitted values"
   ]
  },
  {
   "cell_type": "markdown",
   "id": "0ced6e83-d4b7-4d8b-99d3-1ce91a3b24f6",
   "metadata": {},
   "source": [
    "적합된 추세성분은  $\\widehat{T_t} = 24.382314+ 0.870551 -0.004889{t^2}$ 이다."
   ]
  },
  {
   "cell_type": "code",
   "execution_count": 135,
   "id": "183cdc18-c39d-4434-bc3e-4167a7f3d9e6",
   "metadata": {},
   "outputs": [
    {
     "data": {
      "image/png": "[encoded data removed]",
      "text/plain": [
       "Plot with title \"추정된 추세성분\""
      ]
     },
     "metadata": {
      "image/png": {
       "height": 420,
       "width": 420
      }
     },
     "output_type": "display_data"
    }
   ],
   "source": [
    "ts.plot(\n",
    "  Tt_hat,\n",
    "  col = 1:2,\n",
    "  lty = 1:2,\n",
    "  lwd = 2:3,\n",
    "  ylab = 'export',\n",
    "  main = '추정된 추세성분'\n",
    ")\n",
    "#적합된 추세"
   ]
  },
  {
   "cell_type": "code",
   "execution_count": 136,
   "id": "cb357e18-4592-478d-af17-91c1f2d6ba44",
   "metadata": {},
   "outputs": [
    {
     "data": {
      "image/png": "[encoded data removed]",
      "text/plain": [
       "plot without title"
      ]
     },
     "metadata": {
      "image/png": {
       "height": 420,
       "width": 420
      }
     },
     "output_type": "display_data"
    }
   ],
   "source": [
    "#계절 성분과 불규칙 성분만 남기자(추세 성분 조정)\n",
    "adjtrend <- export - Tt_hat\n",
    "plot.ts(adjtrend) #계절 성분과 불규칙 성분만 남았다."
   ]
  },
  {
   "cell_type": "code",
   "execution_count": 137,
   "id": "7a262603-5b9a-4822-9484-4b61a71da18e",
   "metadata": {},
   "outputs": [
    {
     "data": {
      "text/plain": [
       "\n",
       "Call:\n",
       "lm(formula = adjtrend ~ 0 + ind)\n",
       "\n",
       "Residuals:\n",
       "    Min      1Q  Median      3Q     Max \n",
       "-8.6323 -2.2486  0.1244  2.3284  7.3203 \n",
       "\n",
       "Coefficients:\n",
       "      Estimate Std. Error t value Pr(>|t|)    \n",
       "ind1   -8.3000     1.2689  -6.541 6.96e-09 ***\n",
       "ind2   -6.5902     1.2689  -5.194 1.75e-06 ***\n",
       "ind3    0.1671     1.3565   0.123  0.90229    \n",
       "ind4   -1.7258     1.3565  -1.272  0.20729    \n",
       "ind5    0.1683     1.3565   0.124  0.90162    \n",
       "ind6    3.8035     1.3565   2.804  0.00645 ** \n",
       "ind7   -0.0172     1.3565  -0.013  0.98992    \n",
       "ind8   -1.4538     1.3565  -1.072  0.28733    \n",
       "ind9    1.8865     1.3565   1.391  0.16850    \n",
       "ind10   1.5094     1.3565   1.113  0.26945    \n",
       "ind11   3.2221     1.3565   2.375  0.02013 *  \n",
       "ind12   9.4574     1.3565   6.972 1.11e-09 ***\n",
       "---\n",
       "Signif. codes:  0 '***' 0.001 '**' 0.01 '*' 0.05 '.' 0.1 ' ' 1\n",
       "\n",
       "Residual standard error: 3.589 on 74 degrees of freedom\n",
       "Multiple R-squared:  0.6507,\tAdjusted R-squared:  0.594 \n",
       "F-statistic: 11.49 on 12 and 74 DF,  p-value: 1.341e-12\n"
      ]
     },
     "metadata": {},
     "output_type": "display_data"
    },
    {
     "data": {
      "text/html": [
       "<style>\n",
       ".dl-inline {width: auto; margin:0; padding: 0}\n",
       ".dl-inline>dt, .dl-inline>dd {float: none; width: auto; display: inline-block}\n",
       ".dl-inline>dt::after {content: \":\\0020\"; padding-right: .5ex}\n",
       ".dl-inline>dt:not(:first-of-type) {padding-left: .5ex}\n",
       "</style><dl class=dl-inline><dt>ind1</dt><dd>-8.30002380901328</dd><dt>ind2</dt><dd>-6.59022716766228</dd><dt>ind3</dt><dd>0.167112442819222</dd><dt>ind4</dt><dd>-1.72577477496794</dd><dt>ind5</dt><dd>0.168258972029431</dd><dt>ind6</dt><dd>3.80349939809707</dd><dt>ind7</dt><dd>-0.0171963539078978</dd><dt>ind8</dt><dd>-1.45382828398546</dd><dt>ind9</dt><dd>1.88646075072151</dd><dt>ind10</dt><dd>1.50938503592733</dd><dt>ind11</dt><dd>3.22208742877482</dd><dt>ind12</dt><dd>9.45742507212114</dd></dl>\n"
      ],
      "text/latex": [
       "\\begin{description*}\n",
       "\\item[ind1] -8.30002380901328\n",
       "\\item[ind2] -6.59022716766228\n",
       "\\item[ind3] 0.167112442819222\n",
       "\\item[ind4] -1.72577477496794\n",
       "\\item[ind5] 0.168258972029431\n",
       "\\item[ind6] 3.80349939809707\n",
       "\\item[ind7] -0.0171963539078978\n",
       "\\item[ind8] -1.45382828398546\n",
       "\\item[ind9] 1.88646075072151\n",
       "\\item[ind10] 1.50938503592733\n",
       "\\item[ind11] 3.22208742877482\n",
       "\\item[ind12] 9.45742507212114\n",
       "\\end{description*}\n"
      ],
      "text/markdown": [
       "ind1\n",
       ":   -8.30002380901328ind2\n",
       ":   -6.59022716766228ind3\n",
       ":   0.167112442819222ind4\n",
       ":   -1.72577477496794ind5\n",
       ":   0.168258972029431ind6\n",
       ":   3.80349939809707ind7\n",
       ":   -0.0171963539078978ind8\n",
       ":   -1.45382828398546ind9\n",
       ":   1.88646075072151ind10\n",
       ":   1.50938503592733ind11\n",
       ":   3.22208742877482ind12\n",
       ":   9.45742507212114\n",
       "\n"
      ],
      "text/plain": [
       "       ind1        ind2        ind3        ind4        ind5        ind6 \n",
       "-8.30002381 -6.59022717  0.16711244 -1.72577477  0.16825897  3.80349940 \n",
       "       ind7        ind8        ind9       ind10       ind11       ind12 \n",
       "-0.01719635 -1.45382828  1.88646075  1.50938504  3.22208743  9.45742507 "
      ]
     },
     "metadata": {},
     "output_type": "display_data"
    }
   ],
   "source": [
    "ind <- factor(cycle(adjtrend)) #가변수 생성\n",
    "fit_season <- lm(adjtrend ~ 0 + ind) #beta0 = 0 이라는 제약조건\n",
    "summary(fit_season)\n",
    "fit_season$coefficients #각 계수들은 각 월별 자료에 대한 평균이다."
   ]
  },
  {
   "cell_type": "markdown",
   "id": "993a96bc-5b90-486e-b661-6e0311fd195f",
   "metadata": {},
   "source": [
    "적합된 계절 성분은 $\\widehat{S_t} = -8.3000{I_1} -6.5902{I_2} ... + 9.4574{I_{12}} $"
   ]
  },
  {
   "cell_type": "code",
   "execution_count": 138,
   "id": "9014bbc0-70bc-49fd-b6ef-7bb0b5628d10",
   "metadata": {},
   "outputs": [
    {
     "data": {
      "image/png": "[encoded data removed]",
      "text/plain": [
       "Plot with title \"추정된 계절성분\""
      ]
     },
     "metadata": {
      "image/png": {
       "height": 420,
       "width": 420
      }
     },
     "output_type": "display_data"
    }
   ],
   "source": [
    "St_hat <- fit_season$fitted.values\n",
    "plot.ts(St_hat , main = '추정된 계절성분') #주기성이 한 눈에 들어온다."
   ]
  },
  {
   "cell_type": "markdown",
   "id": "a0152314-3b4b-46d0-a1cf-c4ea498f894a",
   "metadata": {},
   "source": [
    "$\\widehat{I_t} = export - \\widehat{T_t} - \\widehat{S_t}$"
   ]
  },
  {
   "cell_type": "code",
   "execution_count": 139,
   "id": "e6d57b3e-f6d7-4638-bb0c-8a5fc3289cd8",
   "metadata": {},
   "outputs": [
    {
     "data": {
      "image/png": "[encoded data removed]",
      "text/plain": [
       "Plot with title \"추정된 불규칙 성분\""
      ]
     },
     "metadata": {
      "image/png": {
       "height": 420,
       "width": 420
      }
     },
     "output_type": "display_data"
    }
   ],
   "source": [
    "#불규칙성분에 대해서 추정하여보자\n",
    "It_hat <- export - Tt_hat - St_hat\n",
    "ts.plot(It_hat , main = '추정된 불규칙 성분')\n",
    "\n",
    "#각 성분의 분해가 모두 끝났다."
   ]
  },
  {
   "cell_type": "markdown",
   "id": "452717cb-1751-49c5-afa7-47a5a7b510c3",
   "metadata": {},
   "source": [
    "#### 4-1-2 승법 모형"
   ]
  },
  {
   "cell_type": "code",
   "execution_count": 140,
   "id": "843519bf-0ebc-400b-a36d-a0cea4318786",
   "metadata": {},
   "outputs": [
    {
     "data": {
      "text/plain": [
       "\n",
       "Call:\n",
       "lm(formula = export ~ t + I(t^2))\n",
       "\n",
       "Residuals:\n",
       "     Min       1Q   Median       3Q      Max \n",
       "-15.6907  -3.3962   0.0991   3.2700  15.2529 \n",
       "\n",
       "Coefficients:\n",
       "             Estimate Std. Error t value Pr(>|t|)    \n",
       "(Intercept) 24.382314   1.898857  12.841  < 2e-16 ***\n",
       "t            0.870551   0.100738   8.642 3.40e-13 ***\n",
       "I(t^2)      -0.004889   0.001122  -4.358 3.74e-05 ***\n",
       "---\n",
       "Signif. codes:  0 '***' 0.001 '**' 0.01 '*' 0.05 '.' 0.1 ' ' 1\n",
       "\n",
       "Residual standard error: 5.734 on 83 degrees of freedom\n",
       "Multiple R-squared:  0.8031,\tAdjusted R-squared:  0.7983 \n",
       "F-statistic: 169.3 on 2 and 83 DF,  p-value: < 2.2e-16\n"
      ]
     },
     "metadata": {},
     "output_type": "display_data"
    }
   ],
   "source": [
    "#추세모형을 적합하는 것은 가법과 같으므로 같은 모델을 사용한다.\n",
    "fit_trend %>% summary()"
   ]
  },
  {
   "cell_type": "markdown",
   "id": "259031f6-bcce-4d42-ba72-e04e31b2043b",
   "metadata": {},
   "source": [
    "$\\widehat{T_t} = 24.382314+ 0.870551 -0.004889{t^2}$ 로 적합"
   ]
  },
  {
   "cell_type": "markdown",
   "id": "7db87dfe-8b06-4a79-a038-8cb130f94561",
   "metadata": {},
   "source": [
    "계절성분 추정 $Z_t/\\widehat{T_t} = \\delta_1I_1 + \\delta_2I_2 + ... + \\delta_12I_12 $"
   ]
  },
  {
   "cell_type": "code",
   "execution_count": 141,
   "id": "5f9911f0-fd44-41e7-9f97-d14064d1daac",
   "metadata": {},
   "outputs": [
    {
     "data": {
      "text/html": [
       "<table class=\"dataframe\">\n",
       "<caption>A Time Series: 1 × 6</caption>\n",
       "<thead>\n",
       "\t<tr><th></th><th scope=col>Jan</th><th scope=col>Feb</th><th scope=col>Mar</th><th scope=col>Apr</th><th scope=col>May</th><th scope=col>Jun</th></tr>\n",
       "</thead>\n",
       "<tbody>\n",
       "\t<tr><th scope=row>1</th><td>0.8079856</td><td>0.8814788</td><td>0.9547322</td><td>0.9195181</td><td>1.0470822</td><td>1.0853013</td></tr>\n",
       "</tbody>\n",
       "</table>\n"
      ],
      "text/latex": [
       "A Time Series: 1 × 6\n",
       "\\begin{tabular}{r|llllll}\n",
       "  & Jan & Feb & Mar & Apr & May & Jun\\\\\n",
       "\\hline\n",
       "\t1 & 0.8079856 & 0.8814788 & 0.9547322 & 0.9195181 & 1.0470822 & 1.0853013\\\\\n",
       "\\end{tabular}\n"
      ],
      "text/markdown": [
       "\n",
       "A Time Series: 1 × 6\n",
       "\n",
       "| <!--/--> | Jan | Feb | Mar | Apr | May | Jun |\n",
       "|---|---|---|---|---|---|---|\n",
       "| 1 | 0.8079856 | 0.8814788 | 0.9547322 | 0.9195181 | 1.0470822 | 1.0853013 |\n",
       "\n"
      ],
      "text/plain": [
       "  Jan       Feb       Mar       Apr       May       Jun      \n",
       "1 0.8079856 0.8814788 0.9547322 0.9195181 1.0470822 1.0853013"
      ]
     },
     "metadata": {},
     "output_type": "display_data"
    }
   ],
   "source": [
    "adjtrend_mul <- export/Tt_hat #원 시계열에서 2차 추세성분 조정.\n",
    "adjtrend_mul %>% head()\n",
    "trend_mul <- fitted(fit_trend) #추세의 적합값."
   ]
  },
  {
   "cell_type": "code",
   "execution_count": 142,
   "id": "08f94778-ca18-4fd3-95e3-66891ca38b51",
   "metadata": {},
   "outputs": [
    {
     "data": {
      "image/png": "[encoded data removed]",
      "text/plain": [
       "plot without title"
      ]
     },
     "metadata": {
      "image/png": {
       "height": 420,
       "width": 420
      }
     },
     "output_type": "display_data"
    }
   ],
   "source": [
    "plot.ts(adjtrend_mul) #불규칙 성분과 계절성분만 남게 되었음.\n",
    "abline(h=1,col = 'red')"
   ]
  },
  {
   "cell_type": "code",
   "execution_count": 143,
   "id": "a284faa3-0b66-4108-bf42-1b31f12165cd",
   "metadata": {},
   "outputs": [
    {
     "data": {
      "text/plain": [
       "\n",
       "Call:\n",
       "lm(formula = adjtrend_mul ~ 0 + y)\n",
       "\n",
       "Residuals:\n",
       "      Min        1Q    Median        3Q       Max \n",
       "-0.152476 -0.044123  0.003785  0.043146  0.154544 \n",
       "\n",
       "Coefficients:\n",
       "    Estimate Std. Error t value Pr(>|t|)    \n",
       "y1   0.83196    0.02342   35.52   <2e-16 ***\n",
       "y2   0.86755    0.02342   37.05   <2e-16 ***\n",
       "y3   1.00281    0.02504   40.05   <2e-16 ***\n",
       "y4   0.96308    0.02504   38.47   <2e-16 ***\n",
       "y5   1.00993    0.02504   40.34   <2e-16 ***\n",
       "y6   1.07778    0.02504   43.05   <2e-16 ***\n",
       "y7   1.00444    0.02504   40.12   <2e-16 ***\n",
       "y8   0.96966    0.02504   38.73   <2e-16 ***\n",
       "y9   1.04004    0.02504   41.54   <2e-16 ***\n",
       "y10  1.02563    0.02504   40.97   <2e-16 ***\n",
       "y11  1.05885    0.02504   42.29   <2e-16 ***\n",
       "y12  1.17665    0.02504   47.00   <2e-16 ***\n",
       "---\n",
       "Signif. codes:  0 '***' 0.001 '**' 0.01 '*' 0.05 '.' 0.1 ' ' 1\n",
       "\n",
       "Residual standard error: 0.06624 on 74 degrees of freedom\n",
       "Multiple R-squared:  0.9963,\tAdjusted R-squared:  0.9957 \n",
       "F-statistic:  1643 on 12 and 74 DF,  p-value: < 2.2e-16\n"
      ]
     },
     "metadata": {},
     "output_type": "display_data"
    }
   ],
   "source": [
    "#지시함수를 이용하여 계절성분 추정\n",
    "y = factor(cycle(adjtrend_mul)) #가변수화\n",
    "\n",
    "fit_season_mul <- lm(adjtrend_mul ~ 0 + y) #회귀계수의 절편 = 0 이라는 제약조건\n",
    "summary(fit_season_mul) #회귀계수와 모형 적합도 확인"
   ]
  },
  {
   "cell_type": "markdown",
   "id": "448402a3-6ba6-4225-92ef-7cac57fb2dd5",
   "metadata": {},
   "source": [
    "모형도 적합하고 개별 회귀계수도 모두 유의한 것을 확인할 수 있다."
   ]
  },
  {
   "cell_type": "markdown",
   "id": "84530c78-a0e7-47c5-af7c-ae052775e4e6",
   "metadata": {},
   "source": [
    "$\\widehat{S_t} = 0.83196I_1 + 0.86755I_2 + ... + 1.17665I_{12}$  와 같이 적합된 것을 확인할 수 있다.\n",
    "\n",
    "또한 개별 회귀계수는 월별 평균값이라고 해석할 수 있다."
   ]
  },
  {
   "cell_type": "code",
   "execution_count": 144,
   "id": "c4bf3c1b-3002-442c-94ab-34bb8c163ad0",
   "metadata": {},
   "outputs": [
    {
     "data": {
      "image/png": "[encoded data removed]",
      "text/plain": [
       "Plot with title \"적합된 계절성분\""
      ]
     },
     "metadata": {
      "image/png": {
       "height": 420,
       "width": 420
      }
     },
     "output_type": "display_data"
    }
   ],
   "source": [
    "seasonal_mul <- fitted(fit_season_mul) #적합된 계절 성분.\n",
    "ts.plot(seasonal_mul , main = '적합된 계절성분')"
   ]
  },
  {
   "cell_type": "markdown",
   "id": "ca21fc21-c2d8-4e89-b3cf-41ba69d374fd",
   "metadata": {},
   "source": [
    "불규칙 성분 $\\widehat{I_t} = Z_t/(\\widehat{T_t} \\times \\widehat{S_t})$"
   ]
  },
  {
   "cell_type": "code",
   "execution_count": 145,
   "id": "1cbc8e6e-578b-47f6-8173-89c7186ae63c",
   "metadata": {},
   "outputs": [
    {
     "data": {
      "image/png": "[encoded data removed]",
      "text/plain": [
       "plot without title"
      ]
     },
     "metadata": {
      "image/png": {
       "height": 420,
       "width": 420
      }
     },
     "output_type": "display_data"
    }
   ],
   "source": [
    "It_hat_mul <- export/trend_mul/seasonal_mul\n",
    "ts.plot(It_hat_mul) #불규칙 성분\n",
    "abline(h=1,lty =2,col = 'red')"
   ]
  },
  {
   "cell_type": "code",
   "execution_count": 146,
   "id": "eb4b95ba-df46-4428-817a-c54a4d2e888d",
   "metadata": {},
   "outputs": [],
   "source": [
    "# 가법모형과 승법모형 비교.\n",
    "pred_a <- Tt_hat + St_hat\n",
    "pred_m <- trend_mul * seasonal_mul"
   ]
  },
  {
   "cell_type": "code",
   "execution_count": 147,
   "id": "76a69d99-3a20-418a-97e0-49ece9f959d8",
   "metadata": {},
   "outputs": [
    {
     "data": {
      "text/html": [
       "<style>\n",
       ".list-inline {list-style: none; margin:0; padding: 0}\n",
       ".list-inline>li {display: inline-block}\n",
       ".list-inline>li:not(:last-child)::after {content: \"\\00b7\"; padding: 0 .5ex}\n",
       "</style>\n",
       "<ol class=list-inline><li>11.0839475158378</li><li>9.71451994576872</li></ol>\n"
      ],
      "text/latex": [
       "\\begin{enumerate*}\n",
       "\\item 11.0839475158378\n",
       "\\item 9.71451994576872\n",
       "\\end{enumerate*}\n"
      ],
      "text/markdown": [
       "1. 11.0839475158378\n",
       "2. 9.71451994576872\n",
       "\n",
       "\n"
      ],
      "text/plain": [
       "[1] 11.08395  9.71452"
      ]
     },
     "metadata": {},
     "output_type": "display_data"
    }
   ],
   "source": [
    "c(mean((export - pred_a)^2) , mean((export - pred_m)^2)) #승법 모형의 MSE가 더 낮다. \n",
    "#예측력이 더 좋은 모형이므로 승법 모형으로 잔차분석 시행"
   ]
  },
  {
   "cell_type": "markdown",
   "id": "160d108a-8b41-4b80-907a-39524e2d387a",
   "metadata": {},
   "source": [
    "#### 4-2"
   ]
  },
  {
   "cell_type": "code",
   "execution_count": 148,
   "id": "df92242e-d973-4176-94d6-56a75f9edccc",
   "metadata": {},
   "outputs": [
    {
     "data": {
      "image/png": "[encoded data removed]",
      "text/plain": [
       "Plot with title \"Histogram of It_hat_mul\""
      ]
     },
     "metadata": {
      "image/png": {
       "height": 420,
       "width": 420
      }
     },
     "output_type": "display_data"
    }
   ],
   "source": [
    "hist(It_hat_mul)"
   ]
  },
  {
   "cell_type": "markdown",
   "id": "7e678a09-1608-4f26-8517-e209eb11e8bc",
   "metadata": {},
   "source": [
    "0의 근처에 값이 몰려있긴 하지만 왼쪽으로 꼬리가 길다."
   ]
  },
  {
   "cell_type": "code",
   "execution_count": 149,
   "id": "c780344d-43f2-4bfe-bb94-8a28fe3eedf6",
   "metadata": {},
   "outputs": [
    {
     "data": {
      "text/plain": [
       "\n",
       "\tOne Sample t-test\n",
       "\n",
       "data:  It_hat_mul - 1\n",
       "t = -1.1638e-15, df = 85, p-value = 1\n",
       "alternative hypothesis: true mean is not equal to 0\n",
       "95 percent confidence interval:\n",
       " -0.01322573  0.01322573\n",
       "sample estimates:\n",
       "    mean of x \n",
       "-7.741724e-18 \n"
      ]
     },
     "metadata": {},
     "output_type": "display_data"
    }
   ],
   "source": [
    "#추정된 불규칙 성분(잔차)의 평균이 0인가?\n",
    "t.test(It_hat_mul-1) #p-value = 1 평균이 0이라고 할 수 있다."
   ]
  },
  {
   "cell_type": "code",
   "execution_count": 150,
   "id": "e263cc8b-567d-4ce6-8b58-1a2bae5bfdd0",
   "metadata": {},
   "outputs": [
    {
     "data": {
      "text/plain": [
       "\n",
       "\tDurbin-Watson test\n",
       "\n",
       "data:  lm(It_hat_mul ~ 1)\n",
       "DW = 1.0361, p-value = 1.727e-06\n",
       "alternative hypothesis: true autocorrelation is not 0\n"
      ]
     },
     "metadata": {},
     "output_type": "display_data"
    }
   ],
   "source": [
    "#추정된 불규칙 성분(잔차)는 서로 무상관인가?\n",
    "dwtest(lm(It_hat_mul ~ 1), alternative = 'two.sided')\n",
    "#양측검정을 하였을 때 DW-value가 0에 가까우며 p-값은 1.727e-06\n",
    "#즉 불규칙 성분(잔차)가 양의 상관관계를 갖는다고 보아야 한다.\n",
    "#아직 불규치기 성분엔 예측에 대한 정보가 남아있다."
   ]
  },
  {
   "cell_type": "markdown",
   "id": "77213799-9486-4e56-80c3-42dfd825532f",
   "metadata": {},
   "source": [
    "#### 4-3-1 가법분해"
   ]
  },
  {
   "cell_type": "code",
   "execution_count": 151,
   "id": "ee99b4ae-ccbc-40cc-8b2c-162a34917e90",
   "metadata": {},
   "outputs": [
    {
     "data": {
      "text/html": [
       "<table class=\"dataframe\">\n",
       "<caption>A Time Series: 8 × 12</caption>\n",
       "<thead>\n",
       "\t<tr><th></th><th scope=col>Jan</th><th scope=col>Feb</th><th scope=col>Mar</th><th scope=col>Apr</th><th scope=col>May</th><th scope=col>Jun</th><th scope=col>Jul</th><th scope=col>Aug</th><th scope=col>Sep</th><th scope=col>Oct</th><th scope=col>Nov</th><th scope=col>Dec</th></tr>\n",
       "</thead>\n",
       "<tbody>\n",
       "\t<tr><th scope=row>1</th><td>20.40</td><td>23.01</td><td>25.73</td><td>25.55</td><td>29.96</td><td>31.94</td><td>29.18</td><td>29.48</td><td>31.83</td><td>32.93</td><td>32.18</td><td>34.95</td></tr>\n",
       "\t<tr><th scope=row>2</th><td>28.98</td><td>29.32</td><td>36.53</td><td>36.73</td><td>40.29</td><td>42.41</td><td>42.24</td><td>34.79</td><td>44.41</td><td>40.42</td><td>44.24</td><td>52.45</td></tr>\n",
       "\t<tr><th scope=row>3</th><td>39.59</td><td>41.21</td><td>47.92</td><td>46.26</td><td>47.73</td><td>50.52</td><td>52.03</td><td>53.10</td><td>53.93</td><td>52.56</td><td>58.10</td><td>64.01</td></tr>\n",
       "\t<tr><th scope=row>4</th><td>44.01</td><td>43.37</td><td>53.30</td><td>47.84</td><td>49.50</td><td>54.27</td><td>52.33</td><td>52.68</td><td>54.75</td><td>53.04</td><td>56.55</td><td>62.14</td></tr>\n",
       "\t<tr><th scope=row>5</th><td>39.61</td><td>46.80</td><td>52.71</td><td>49.50</td><td>52.15</td><td>56.89</td><td>54.90</td><td>53.21</td><td>61.12</td><td>52.85</td><td>60.20</td><td>70.23</td></tr>\n",
       "\t<tr><th scope=row>6</th><td>46.39</td><td>48.65</td><td>57.26</td><td>58.39</td><td>61.46</td><td>66.60</td><td>55.40</td><td>57.63</td><td>56.80</td><td>66.37</td><td>66.77</td><td>76.97</td></tr>\n",
       "\t<tr><th scope=row>7</th><td>53.92</td><td>51.44</td><td>64.29</td><td>63.61</td><td>63.37</td><td>70.53</td><td>63.52</td><td>61.77</td><td>66.25</td><td>71.26</td><td>66.29</td><td>70.07</td></tr>\n",
       "\t<tr><th scope=row>8</th><td>53.34</td><td>59.68</td><td>     </td><td>     </td><td>     </td><td>     </td><td>     </td><td>     </td><td>     </td><td>     </td><td>     </td><td>     </td></tr>\n",
       "</tbody>\n",
       "</table>\n"
      ],
      "text/latex": [
       "A Time Series: 8 × 12\n",
       "\\begin{tabular}{r|llllllllllll}\n",
       "  & Jan & Feb & Mar & Apr & May & Jun & Jul & Aug & Sep & Oct & Nov & Dec\\\\\n",
       "\\hline\n",
       "\t1 & 20.40 & 23.01 & 25.73 & 25.55 & 29.96 & 31.94 & 29.18 & 29.48 & 31.83 & 32.93 & 32.18 & 34.95\\\\\n",
       "\t2 & 28.98 & 29.32 & 36.53 & 36.73 & 40.29 & 42.41 & 42.24 & 34.79 & 44.41 & 40.42 & 44.24 & 52.45\\\\\n",
       "\t3 & 39.59 & 41.21 & 47.92 & 46.26 & 47.73 & 50.52 & 52.03 & 53.10 & 53.93 & 52.56 & 58.10 & 64.01\\\\\n",
       "\t4 & 44.01 & 43.37 & 53.30 & 47.84 & 49.50 & 54.27 & 52.33 & 52.68 & 54.75 & 53.04 & 56.55 & 62.14\\\\\n",
       "\t5 & 39.61 & 46.80 & 52.71 & 49.50 & 52.15 & 56.89 & 54.90 & 53.21 & 61.12 & 52.85 & 60.20 & 70.23\\\\\n",
       "\t6 & 46.39 & 48.65 & 57.26 & 58.39 & 61.46 & 66.60 & 55.40 & 57.63 & 56.80 & 66.37 & 66.77 & 76.97\\\\\n",
       "\t7 & 53.92 & 51.44 & 64.29 & 63.61 & 63.37 & 70.53 & 63.52 & 61.77 & 66.25 & 71.26 & 66.29 & 70.07\\\\\n",
       "\t8 & 53.34 & 59.68 &       &       &       &       &       &       &       &       &       &      \\\\\n",
       "\\end{tabular}\n"
      ],
      "text/markdown": [
       "\n",
       "A Time Series: 8 × 12\n",
       "\n",
       "| <!--/--> | Jan | Feb | Mar | Apr | May | Jun | Jul | Aug | Sep | Oct | Nov | Dec |\n",
       "|---|---|---|---|---|---|---|---|---|---|---|---|---|\n",
       "| 1 | 20.40 | 23.01 | 25.73 | 25.55 | 29.96 | 31.94 | 29.18 | 29.48 | 31.83 | 32.93 | 32.18 | 34.95 |\n",
       "| 2 | 28.98 | 29.32 | 36.53 | 36.73 | 40.29 | 42.41 | 42.24 | 34.79 | 44.41 | 40.42 | 44.24 | 52.45 |\n",
       "| 3 | 39.59 | 41.21 | 47.92 | 46.26 | 47.73 | 50.52 | 52.03 | 53.10 | 53.93 | 52.56 | 58.10 | 64.01 |\n",
       "| 4 | 44.01 | 43.37 | 53.30 | 47.84 | 49.50 | 54.27 | 52.33 | 52.68 | 54.75 | 53.04 | 56.55 | 62.14 |\n",
       "| 5 | 39.61 | 46.80 | 52.71 | 49.50 | 52.15 | 56.89 | 54.90 | 53.21 | 61.12 | 52.85 | 60.20 | 70.23 |\n",
       "| 6 | 46.39 | 48.65 | 57.26 | 58.39 | 61.46 | 66.60 | 55.40 | 57.63 | 56.80 | 66.37 | 66.77 | 76.97 |\n",
       "| 7 | 53.92 | 51.44 | 64.29 | 63.61 | 63.37 | 70.53 | 63.52 | 61.77 | 66.25 | 71.26 | 66.29 | 70.07 |\n",
       "| 8 | 53.34 | 59.68 | <!----> | <!----> | <!----> | <!----> | <!----> | <!----> | <!----> | <!----> | <!----> | <!----> |\n",
       "\n"
      ],
      "text/plain": [
       "  Jan   Feb   Mar   Apr   May   Jun   Jul   Aug   Sep   Oct   Nov   Dec  \n",
       "1 20.40 23.01 25.73 25.55 29.96 31.94 29.18 29.48 31.83 32.93 32.18 34.95\n",
       "2 28.98 29.32 36.53 36.73 40.29 42.41 42.24 34.79 44.41 40.42 44.24 52.45\n",
       "3 39.59 41.21 47.92 46.26 47.73 50.52 52.03 53.10 53.93 52.56 58.10 64.01\n",
       "4 44.01 43.37 53.30 47.84 49.50 54.27 52.33 52.68 54.75 53.04 56.55 62.14\n",
       "5 39.61 46.80 52.71 49.50 52.15 56.89 54.90 53.21 61.12 52.85 60.20 70.23\n",
       "6 46.39 48.65 57.26 58.39 61.46 66.60 55.40 57.63 56.80 66.37 66.77 76.97\n",
       "7 53.92 51.44 64.29 63.61 63.37 70.53 63.52 61.77 66.25 71.26 66.29 70.07\n",
       "8 53.34 59.68                                                            "
      ]
     },
     "metadata": {},
     "output_type": "display_data"
    },
    {
     "data": {
      "text/html": [
       "<table class=\"dataframe\">\n",
       "<caption>A Time Series: 8 × 12</caption>\n",
       "<thead>\n",
       "\t<tr><th></th><th scope=col>Jan</th><th scope=col>Feb</th><th scope=col>Mar</th><th scope=col>Apr</th><th scope=col>May</th><th scope=col>Jun</th><th scope=col>Jul</th><th scope=col>Aug</th><th scope=col>Sep</th><th scope=col>Oct</th><th scope=col>Nov</th><th scope=col>Dec</th></tr>\n",
       "</thead>\n",
       "<tbody>\n",
       "\t<tr><th scope=row>1</th><td>      NA</td><td>      NA</td><td>      NA</td><td>      NA</td><td>      NA</td><td>      NA</td><td>29.28583</td><td>29.90625</td><td>30.61917</td><td>31.53500</td><td>32.43125</td><td>33.29792</td></tr>\n",
       "\t<tr><th scope=row>2</th><td>34.27833</td><td>35.04375</td><td>35.78917</td><td>36.62542</td><td>37.44000</td><td>38.67167</td><td>39.84292</td><td>40.78042</td><td>41.75042</td><td>42.62208</td><td>43.32917</td><td>43.97708</td></tr>\n",
       "\t<tr><th scope=row>3</th><td>44.72292</td><td>45.89375</td><td>47.05333</td><td>47.95583</td><td>49.03917</td><td>50.09833</td><td>50.76417</td><td>51.03833</td><td>51.35250</td><td>51.64250</td><td>51.78208</td><td>52.01208</td></tr>\n",
       "\t<tr><th scope=row>4</th><td>52.18083</td><td>52.17583</td><td>52.19250</td><td>52.24667</td><td>52.20208</td><td>52.05958</td><td>51.79833</td><td>51.75792</td><td>51.87625</td><td>51.92083</td><td>52.10042</td><td>52.32000</td></tr>\n",
       "\t<tr><th scope=row>5</th><td>52.53625</td><td>52.66542</td><td>52.95292</td><td>53.21042</td><td>53.35458</td><td>53.84375</td><td>54.46333</td><td>54.82292</td><td>55.08958</td><td>55.64958</td><td>56.40792</td><td>57.20042</td></tr>\n",
       "\t<tr><th scope=row>6</th><td>57.62583</td><td>57.83083</td><td>57.83500</td><td>58.21833</td><td>59.05542</td><td>59.61000</td><td>60.20458</td><td>60.63458</td><td>61.04375</td><td>61.55417</td><td>61.85125</td><td>62.09458</td></tr>\n",
       "\t<tr><th scope=row>7</th><td>62.59667</td><td>63.10750</td><td>63.67375</td><td>64.27125</td><td>64.45500</td><td>64.14750</td><td>63.83583</td><td>64.15500</td><td>      NA</td><td>      NA</td><td>      NA</td><td>      NA</td></tr>\n",
       "\t<tr><th scope=row>8</th><td>      NA</td><td>      NA</td><td>        </td><td>        </td><td>        </td><td>        </td><td>        </td><td>        </td><td>        </td><td>        </td><td>        </td><td>        </td></tr>\n",
       "</tbody>\n",
       "</table>\n"
      ],
      "text/latex": [
       "A Time Series: 8 × 12\n",
       "\\begin{tabular}{r|llllllllllll}\n",
       "  & Jan & Feb & Mar & Apr & May & Jun & Jul & Aug & Sep & Oct & Nov & Dec\\\\\n",
       "\\hline\n",
       "\t1 &       NA &       NA &       NA &       NA &       NA &       NA & 29.28583 & 29.90625 & 30.61917 & 31.53500 & 32.43125 & 33.29792\\\\\n",
       "\t2 & 34.27833 & 35.04375 & 35.78917 & 36.62542 & 37.44000 & 38.67167 & 39.84292 & 40.78042 & 41.75042 & 42.62208 & 43.32917 & 43.97708\\\\\n",
       "\t3 & 44.72292 & 45.89375 & 47.05333 & 47.95583 & 49.03917 & 50.09833 & 50.76417 & 51.03833 & 51.35250 & 51.64250 & 51.78208 & 52.01208\\\\\n",
       "\t4 & 52.18083 & 52.17583 & 52.19250 & 52.24667 & 52.20208 & 52.05958 & 51.79833 & 51.75792 & 51.87625 & 51.92083 & 52.10042 & 52.32000\\\\\n",
       "\t5 & 52.53625 & 52.66542 & 52.95292 & 53.21042 & 53.35458 & 53.84375 & 54.46333 & 54.82292 & 55.08958 & 55.64958 & 56.40792 & 57.20042\\\\\n",
       "\t6 & 57.62583 & 57.83083 & 57.83500 & 58.21833 & 59.05542 & 59.61000 & 60.20458 & 60.63458 & 61.04375 & 61.55417 & 61.85125 & 62.09458\\\\\n",
       "\t7 & 62.59667 & 63.10750 & 63.67375 & 64.27125 & 64.45500 & 64.14750 & 63.83583 & 64.15500 &       NA &       NA &       NA &       NA\\\\\n",
       "\t8 &       NA &       NA &          &          &          &          &          &          &          &          &          &         \\\\\n",
       "\\end{tabular}\n"
      ],
      "text/markdown": [
       "\n",
       "A Time Series: 8 × 12\n",
       "\n",
       "| <!--/--> | Jan | Feb | Mar | Apr | May | Jun | Jul | Aug | Sep | Oct | Nov | Dec |\n",
       "|---|---|---|---|---|---|---|---|---|---|---|---|---|\n",
       "| 1 |       NA |       NA |       NA |       NA |       NA |       NA | 29.28583 | 29.90625 | 30.61917 | 31.53500 | 32.43125 | 33.29792 |\n",
       "| 2 | 34.27833 | 35.04375 | 35.78917 | 36.62542 | 37.44000 | 38.67167 | 39.84292 | 40.78042 | 41.75042 | 42.62208 | 43.32917 | 43.97708 |\n",
       "| 3 | 44.72292 | 45.89375 | 47.05333 | 47.95583 | 49.03917 | 50.09833 | 50.76417 | 51.03833 | 51.35250 | 51.64250 | 51.78208 | 52.01208 |\n",
       "| 4 | 52.18083 | 52.17583 | 52.19250 | 52.24667 | 52.20208 | 52.05958 | 51.79833 | 51.75792 | 51.87625 | 51.92083 | 52.10042 | 52.32000 |\n",
       "| 5 | 52.53625 | 52.66542 | 52.95292 | 53.21042 | 53.35458 | 53.84375 | 54.46333 | 54.82292 | 55.08958 | 55.64958 | 56.40792 | 57.20042 |\n",
       "| 6 | 57.62583 | 57.83083 | 57.83500 | 58.21833 | 59.05542 | 59.61000 | 60.20458 | 60.63458 | 61.04375 | 61.55417 | 61.85125 | 62.09458 |\n",
       "| 7 | 62.59667 | 63.10750 | 63.67375 | 64.27125 | 64.45500 | 64.14750 | 63.83583 | 64.15500 |       NA |       NA |       NA |       NA |\n",
       "| 8 |       NA |       NA | <!----> | <!----> | <!----> | <!----> | <!----> | <!----> | <!----> | <!----> | <!----> | <!----> |\n",
       "\n"
      ],
      "text/plain": [
       "  Jan      Feb      Mar      Apr      May      Jun      Jul      Aug     \n",
       "1       NA       NA       NA       NA       NA       NA 29.28583 29.90625\n",
       "2 34.27833 35.04375 35.78917 36.62542 37.44000 38.67167 39.84292 40.78042\n",
       "3 44.72292 45.89375 47.05333 47.95583 49.03917 50.09833 50.76417 51.03833\n",
       "4 52.18083 52.17583 52.19250 52.24667 52.20208 52.05958 51.79833 51.75792\n",
       "5 52.53625 52.66542 52.95292 53.21042 53.35458 53.84375 54.46333 54.82292\n",
       "6 57.62583 57.83083 57.83500 58.21833 59.05542 59.61000 60.20458 60.63458\n",
       "7 62.59667 63.10750 63.67375 64.27125 64.45500 64.14750 63.83583 64.15500\n",
       "8       NA       NA                                                      \n",
       "  Sep      Oct      Nov      Dec     \n",
       "1 30.61917 31.53500 32.43125 33.29792\n",
       "2 41.75042 42.62208 43.32917 43.97708\n",
       "3 51.35250 51.64250 51.78208 52.01208\n",
       "4 51.87625 51.92083 52.10042 52.32000\n",
       "5 55.08958 55.64958 56.40792 57.20042\n",
       "6 61.04375 61.55417 61.85125 62.09458\n",
       "7       NA       NA       NA       NA\n",
       "8                                    "
      ]
     },
     "metadata": {},
     "output_type": "display_data"
    },
    {
     "data": {
      "image/png": "[encoded data removed]",
      "text/plain": [
       "plot without title"
      ]
     },
     "metadata": {
      "image/png": {
       "height": 420,
       "width": 420
      }
     },
     "output_type": "display_data"
    }
   ],
   "source": [
    "export\n",
    "ma(export, order = 12) #centre는 TRUE가 디폴트\n",
    "#window를 주기와 같게하여 추세만 남김\n",
    "\n",
    "#시도표와 이동평균법으로 평활된 값들을 그려보자\n",
    "plot.ts(export , ylab = '', xlab = '')\n",
    "lines(ma(export, order = 3) , col = 2, lty = 2) #계절 성분이 남아있다\n",
    "lines(ma(export, order = 12, centre = TRUE),\n",
    "      col = 3 ,\n",
    "      lty = 3) #추세만 남는다\n",
    "legend(\n",
    "  'topleft',\n",
    "  lty = 1:3,\n",
    "  col = 1:3,\n",
    "  c('원시계열', \"CSMA(l=3)\", \"CSMA(l=12)\"),\n",
    "  bty = 'n'\n",
    ")"
   ]
  },
  {
   "cell_type": "code",
   "execution_count": 152,
   "id": "9210fe72-7da5-4ee2-be09-5fa494c76c56",
   "metadata": {},
   "outputs": [
    {
     "data": {
      "image/png": "[encoded data removed]",
      "text/plain": [
       "plot without title"
      ]
     },
     "metadata": {
      "image/png": {
       "height": 420,
       "width": 420
      }
     },
     "output_type": "display_data"
    }
   ],
   "source": [
    "#1 추세성분\n",
    "trend = ma(export , 12)\n",
    "plot.ts(trend) #추세만 남음"
   ]
  },
  {
   "cell_type": "code",
   "execution_count": 153,
   "id": "730d441d-f1b5-4b77-9075-1eb9914ec1cc",
   "metadata": {},
   "outputs": [
    {
     "data": {
      "image/png": "[encoded data removed]",
      "text/plain": [
       "plot without title"
      ]
     },
     "metadata": {
      "image/png": {
       "height": 420,
       "width": 420
      }
     },
     "output_type": "display_data"
    }
   ],
   "source": [
    "#2 계절성분\n",
    "adj_trend = export - trend\n",
    "plot.ts(adj_trend) #계절성분과 불규칙성분이 남게 되었다."
   ]
  },
  {
   "cell_type": "code",
   "execution_count": 154,
   "id": "c4d9cc62-7e0a-4c93-af45-53db73953966",
   "metadata": {},
   "outputs": [
    {
     "data": {
      "text/html": [
       "<style>\n",
       ".dl-inline {width: auto; margin:0; padding: 0}\n",
       ".dl-inline>dt, .dl-inline>dd {float: none; width: auto; display: inline-block}\n",
       ".dl-inline>dt::after {content: \":\\0020\"; padding-right: .5ex}\n",
       ".dl-inline>dt:not(:first-of-type) {padding-left: .5ex}\n",
       "</style><dl class=dl-inline><dt>as.factor(cycle(adj_trend))1</dt><dd>-8.57347222222222</dd><dt>as.factor(cycle(adj_trend))2</dt><dd>-7.65451388888889</dd><dt>as.factor(cycle(adj_trend))3</dt><dd>0.41888888888889</dd><dt>as.factor(cycle(adj_trend))4</dt><dd>-1.69965277777778</dd><dt>as.factor(cycle(adj_trend))5</dt><dd>-0.174375000000001</dd><dt>as.factor(cycle(adj_trend))6</dt><dd>3.79819444444445</dd><dt>as.factor(cycle(adj_trend))7</dt><dd>-0.0849999999999986</dd><dt>as.factor(cycle(adj_trend))8</dt><dd>-1.49077380952381</dd><dt>as.factor(cycle(adj_trend))9</dt><dd>1.85138888888889</dd><dt>as.factor(cycle(adj_trend))10</dt><dd>0.540972222222225</dd><dt>as.factor(cycle(adj_trend))11</dt><dd>3.35631944444444</dd><dt>as.factor(cycle(adj_trend))12</dt><dd>9.97465277777778</dd></dl>\n"
      ],
      "text/latex": [
       "\\begin{description*}\n",
       "\\item[as.factor(cycle(adj\\textbackslash{}\\_trend))1] -8.57347222222222\n",
       "\\item[as.factor(cycle(adj\\textbackslash{}\\_trend))2] -7.65451388888889\n",
       "\\item[as.factor(cycle(adj\\textbackslash{}\\_trend))3] 0.41888888888889\n",
       "\\item[as.factor(cycle(adj\\textbackslash{}\\_trend))4] -1.69965277777778\n",
       "\\item[as.factor(cycle(adj\\textbackslash{}\\_trend))5] -0.174375000000001\n",
       "\\item[as.factor(cycle(adj\\textbackslash{}\\_trend))6] 3.79819444444445\n",
       "\\item[as.factor(cycle(adj\\textbackslash{}\\_trend))7] -0.0849999999999986\n",
       "\\item[as.factor(cycle(adj\\textbackslash{}\\_trend))8] -1.49077380952381\n",
       "\\item[as.factor(cycle(adj\\textbackslash{}\\_trend))9] 1.85138888888889\n",
       "\\item[as.factor(cycle(adj\\textbackslash{}\\_trend))10] 0.540972222222225\n",
       "\\item[as.factor(cycle(adj\\textbackslash{}\\_trend))11] 3.35631944444444\n",
       "\\item[as.factor(cycle(adj\\textbackslash{}\\_trend))12] 9.97465277777778\n",
       "\\end{description*}\n"
      ],
      "text/markdown": [
       "as.factor(cycle(adj_trend))1\n",
       ":   -8.57347222222222as.factor(cycle(adj_trend))2\n",
       ":   -7.65451388888889as.factor(cycle(adj_trend))3\n",
       ":   0.41888888888889as.factor(cycle(adj_trend))4\n",
       ":   -1.69965277777778as.factor(cycle(adj_trend))5\n",
       ":   -0.174375000000001as.factor(cycle(adj_trend))6\n",
       ":   3.79819444444445as.factor(cycle(adj_trend))7\n",
       ":   -0.0849999999999986as.factor(cycle(adj_trend))8\n",
       ":   -1.49077380952381as.factor(cycle(adj_trend))9\n",
       ":   1.85138888888889as.factor(cycle(adj_trend))10\n",
       ":   0.540972222222225as.factor(cycle(adj_trend))11\n",
       ":   3.35631944444444as.factor(cycle(adj_trend))12\n",
       ":   9.97465277777778\n",
       "\n"
      ],
      "text/plain": [
       " as.factor(cycle(adj_trend))1  as.factor(cycle(adj_trend))2 \n",
       "                   -8.5734722                    -7.6545139 \n",
       " as.factor(cycle(adj_trend))3  as.factor(cycle(adj_trend))4 \n",
       "                    0.4188889                    -1.6996528 \n",
       " as.factor(cycle(adj_trend))5  as.factor(cycle(adj_trend))6 \n",
       "                   -0.1743750                     3.7981944 \n",
       " as.factor(cycle(adj_trend))7  as.factor(cycle(adj_trend))8 \n",
       "                   -0.0850000                    -1.4907738 \n",
       " as.factor(cycle(adj_trend))9 as.factor(cycle(adj_trend))10 \n",
       "                    1.8513889                     0.5409722 \n",
       "as.factor(cycle(adj_trend))11 as.factor(cycle(adj_trend))12 \n",
       "                    3.3563194                     9.9746528 "
      ]
     },
     "metadata": {},
     "output_type": "display_data"
    }
   ],
   "source": [
    "#계절별 평균을 구하자\n",
    "fit44 <- lm(adj_trend ~ 0 + as.factor(cycle(adj_trend)))\n",
    "fit44$coefficients #각 계절별 자료의 평균이 나왔다."
   ]
  },
  {
   "cell_type": "code",
   "execution_count": 155,
   "id": "dc865f9b-72a0-4927-9c75-32cf79065f1b",
   "metadata": {},
   "outputs": [
    {
     "data": {
      "text/html": [
       "0.0218857473544984"
      ],
      "text/latex": [
       "0.0218857473544984"
      ],
      "text/markdown": [
       "0.0218857473544984"
      ],
      "text/plain": [
       "[1] 0.02188575"
      ]
     },
     "metadata": {},
     "output_type": "display_data"
    },
    {
     "data": {
      "image/png": "[encoded data removed]",
      "text/plain": [
       "plot without title"
      ]
     },
     "metadata": {
      "image/png": {
       "height": 420,
       "width": 420
      }
     },
     "output_type": "display_data"
    }
   ],
   "source": [
    "season_coef <- fit44$coefficients %>% as.vector() #벡터에 저장\n",
    "mean(season_coef)\n",
    "\n",
    "seasonal = season_coef - mean(season_coef)\n",
    "#export는 7년치 자료에 8월치 몇개가 들어간 정보이다.\n",
    "\n",
    "St = rep(seasonal , 8) #8년치를 해두고 10개의 값을 버리면 될 것 같다.\n",
    "\n",
    "n = length(export)\n",
    "St <- St[1:86] #마지막 10개의 값을 버림.\n",
    "\n",
    "plot.ts(St)"
   ]
  },
  {
   "cell_type": "code",
   "execution_count": 156,
   "id": "e41a4de8-bbd0-474e-9466-fc8648255c19",
   "metadata": {},
   "outputs": [
    {
     "data": {
      "image/png": "[encoded data removed]",
      "text/plain": [
       "plot without title"
      ]
     },
     "metadata": {
      "image/png": {
       "height": 420,
       "width": 420
      }
     },
     "output_type": "display_data"
    }
   ],
   "source": [
    "#3.불규칙 성분\n",
    "irr <- export - trend - St\n",
    "plot.ts(irr)\n",
    "\n",
    "#이동평균법을 통해 모든 성분의 분해가 끝났다."
   ]
  },
  {
   "cell_type": "code",
   "execution_count": 157,
   "id": "a4fe0967-3814-44da-b170-e2bb88507805",
   "metadata": {},
   "outputs": [
    {
     "data": {
      "text/html": [
       "<table class=\"dataframe\">\n",
       "<caption>A Time Series: 8 × 12</caption>\n",
       "<thead>\n",
       "\t<tr><th></th><th scope=col>Jan</th><th scope=col>Feb</th><th scope=col>Mar</th><th scope=col>Apr</th><th scope=col>May</th><th scope=col>Jun</th><th scope=col>Jul</th><th scope=col>Aug</th><th scope=col>Sep</th><th scope=col>Oct</th><th scope=col>Nov</th><th scope=col>Dec</th></tr>\n",
       "</thead>\n",
       "<tbody>\n",
       "\t<tr><th scope=row>1</th><td>          NA</td><td>          NA</td><td>          NA</td><td>          NA</td><td>          NA</td><td>          NA</td><td> 0.001052414</td><td> 1.086409557</td><td>-0.618669808</td><td> 0.875913525</td><td>-3.585683697</td><td>-8.300683697</td></tr>\n",
       "\t<tr><th scope=row>2</th><td> 3.297024636</td><td> 1.952649636</td><td> 0.343830192</td><td> 1.826121858</td><td> 3.046260747</td><td>-0.037975364</td><td> 2.503969081</td><td>-4.477757110</td><td> 0.830080192</td><td>-2.721169808</td><td>-2.423600364</td><td>-1.479850364</td></tr>\n",
       "\t<tr><th scope=row>3</th><td> 3.462441303</td><td> 2.992649636</td><td> 0.469663525</td><td> 0.025705192</td><td>-1.112905919</td><td>-3.354642030</td><td> 1.372719081</td><td> 3.574326224</td><td> 0.747996858</td><td> 0.398413525</td><td> 2.983482970</td><td> 2.045149636</td></tr>\n",
       "\t<tr><th scope=row>4</th><td> 0.424524636</td><td>-1.129433697</td><td> 0.710496858</td><td>-2.685128142</td><td>-2.505822586</td><td>-1.565892030</td><td> 0.638552414</td><td> 2.434742890</td><td> 1.044246858</td><td> 0.600080192</td><td> 1.115149636</td><td>-0.132767030</td></tr>\n",
       "\t<tr><th scope=row>5</th><td>-4.330892030</td><td> 1.810982970</td><td>-0.639919808</td><td>-1.988878142</td><td>-1.008322586</td><td>-0.730058697</td><td> 0.543552414</td><td>-0.100257110</td><td> 4.200913525</td><td>-3.318669808</td><td> 0.457649636</td><td> 3.076816303</td></tr>\n",
       "\t<tr><th scope=row>6</th><td>-2.640475364</td><td>-1.504433697</td><td>-0.972003142</td><td> 1.893205192</td><td> 2.600844081</td><td> 3.213691303</td><td>-4.697697586</td><td>-1.491923776</td><td>-6.073253142</td><td> 4.296746858</td><td> 1.584316303</td><td> 4.922649636</td></tr>\n",
       "\t<tr><th scope=row>7</th><td>-0.081308697</td><td>-3.991100364</td><td> 0.219246858</td><td> 1.060288525</td><td>-0.888739253</td><td> 2.606191303</td><td>-0.208947586</td><td>-0.872340443</td><td>          NA</td><td>          NA</td><td>          NA</td><td>          NA</td></tr>\n",
       "\t<tr><th scope=row>8</th><td>          NA</td><td>          NA</td><td>            </td><td>            </td><td>            </td><td>            </td><td>            </td><td>            </td><td>            </td><td>            </td><td>            </td><td>            </td></tr>\n",
       "</tbody>\n",
       "</table>\n"
      ],
      "text/latex": [
       "A Time Series: 8 × 12\n",
       "\\begin{tabular}{r|llllllllllll}\n",
       "  & Jan & Feb & Mar & Apr & May & Jun & Jul & Aug & Sep & Oct & Nov & Dec\\\\\n",
       "\\hline\n",
       "\t1 &           NA &           NA &           NA &           NA &           NA &           NA &  0.001052414 &  1.086409557 & -0.618669808 &  0.875913525 & -3.585683697 & -8.300683697\\\\\n",
       "\t2 &  3.297024636 &  1.952649636 &  0.343830192 &  1.826121858 &  3.046260747 & -0.037975364 &  2.503969081 & -4.477757110 &  0.830080192 & -2.721169808 & -2.423600364 & -1.479850364\\\\\n",
       "\t3 &  3.462441303 &  2.992649636 &  0.469663525 &  0.025705192 & -1.112905919 & -3.354642030 &  1.372719081 &  3.574326224 &  0.747996858 &  0.398413525 &  2.983482970 &  2.045149636\\\\\n",
       "\t4 &  0.424524636 & -1.129433697 &  0.710496858 & -2.685128142 & -2.505822586 & -1.565892030 &  0.638552414 &  2.434742890 &  1.044246858 &  0.600080192 &  1.115149636 & -0.132767030\\\\\n",
       "\t5 & -4.330892030 &  1.810982970 & -0.639919808 & -1.988878142 & -1.008322586 & -0.730058697 &  0.543552414 & -0.100257110 &  4.200913525 & -3.318669808 &  0.457649636 &  3.076816303\\\\\n",
       "\t6 & -2.640475364 & -1.504433697 & -0.972003142 &  1.893205192 &  2.600844081 &  3.213691303 & -4.697697586 & -1.491923776 & -6.073253142 &  4.296746858 &  1.584316303 &  4.922649636\\\\\n",
       "\t7 & -0.081308697 & -3.991100364 &  0.219246858 &  1.060288525 & -0.888739253 &  2.606191303 & -0.208947586 & -0.872340443 &           NA &           NA &           NA &           NA\\\\\n",
       "\t8 &           NA &           NA &              &              &              &              &              &              &              &              &              &             \\\\\n",
       "\\end{tabular}\n"
      ],
      "text/markdown": [
       "\n",
       "A Time Series: 8 × 12\n",
       "\n",
       "| <!--/--> | Jan | Feb | Mar | Apr | May | Jun | Jul | Aug | Sep | Oct | Nov | Dec |\n",
       "|---|---|---|---|---|---|---|---|---|---|---|---|---|\n",
       "| 1 |           NA |           NA |           NA |           NA |           NA |           NA |  0.001052414 |  1.086409557 | -0.618669808 |  0.875913525 | -3.585683697 | -8.300683697 |\n",
       "| 2 |  3.297024636 |  1.952649636 |  0.343830192 |  1.826121858 |  3.046260747 | -0.037975364 |  2.503969081 | -4.477757110 |  0.830080192 | -2.721169808 | -2.423600364 | -1.479850364 |\n",
       "| 3 |  3.462441303 |  2.992649636 |  0.469663525 |  0.025705192 | -1.112905919 | -3.354642030 |  1.372719081 |  3.574326224 |  0.747996858 |  0.398413525 |  2.983482970 |  2.045149636 |\n",
       "| 4 |  0.424524636 | -1.129433697 |  0.710496858 | -2.685128142 | -2.505822586 | -1.565892030 |  0.638552414 |  2.434742890 |  1.044246858 |  0.600080192 |  1.115149636 | -0.132767030 |\n",
       "| 5 | -4.330892030 |  1.810982970 | -0.639919808 | -1.988878142 | -1.008322586 | -0.730058697 |  0.543552414 | -0.100257110 |  4.200913525 | -3.318669808 |  0.457649636 |  3.076816303 |\n",
       "| 6 | -2.640475364 | -1.504433697 | -0.972003142 |  1.893205192 |  2.600844081 |  3.213691303 | -4.697697586 | -1.491923776 | -6.073253142 |  4.296746858 |  1.584316303 |  4.922649636 |\n",
       "| 7 | -0.081308697 | -3.991100364 |  0.219246858 |  1.060288525 | -0.888739253 |  2.606191303 | -0.208947586 | -0.872340443 |           NA |           NA |           NA |           NA |\n",
       "| 8 |           NA |           NA | <!----> | <!----> | <!----> | <!----> | <!----> | <!----> | <!----> | <!----> | <!----> | <!----> |\n",
       "\n"
      ],
      "text/plain": [
       "  Jan          Feb          Mar          Apr          May          Jun         \n",
       "1           NA           NA           NA           NA           NA           NA\n",
       "2  3.297024636  1.952649636  0.343830192  1.826121858  3.046260747 -0.037975364\n",
       "3  3.462441303  2.992649636  0.469663525  0.025705192 -1.112905919 -3.354642030\n",
       "4  0.424524636 -1.129433697  0.710496858 -2.685128142 -2.505822586 -1.565892030\n",
       "5 -4.330892030  1.810982970 -0.639919808 -1.988878142 -1.008322586 -0.730058697\n",
       "6 -2.640475364 -1.504433697 -0.972003142  1.893205192  2.600844081  3.213691303\n",
       "7 -0.081308697 -3.991100364  0.219246858  1.060288525 -0.888739253  2.606191303\n",
       "8           NA           NA                                                    \n",
       "  Jul          Aug          Sep          Oct          Nov          Dec         \n",
       "1  0.001052414  1.086409557 -0.618669808  0.875913525 -3.585683697 -8.300683697\n",
       "2  2.503969081 -4.477757110  0.830080192 -2.721169808 -2.423600364 -1.479850364\n",
       "3  1.372719081  3.574326224  0.747996858  0.398413525  2.983482970  2.045149636\n",
       "4  0.638552414  2.434742890  1.044246858  0.600080192  1.115149636 -0.132767030\n",
       "5  0.543552414 -0.100257110  4.200913525 -3.318669808  0.457649636  3.076816303\n",
       "6 -4.697697586 -1.491923776 -6.073253142  4.296746858  1.584316303  4.922649636\n",
       "7 -0.208947586 -0.872340443           NA           NA           NA           NA\n",
       "8                                                                              "
      ]
     },
     "metadata": {},
     "output_type": "display_data"
    }
   ],
   "source": [
    "irr"
   ]
  },
  {
   "cell_type": "markdown",
   "id": "4008d3c3-abd4-4e45-93b4-c23fabc7990d",
   "metadata": {},
   "source": [
    "#### 4-3-2 승법 분해"
   ]
  },
  {
   "cell_type": "code",
   "execution_count": 158,
   "id": "932ff8a6-c914-4c3d-a863-188fcc3f8576",
   "metadata": {},
   "outputs": [
    {
     "data": {
      "image/png": "[encoded data removed]",
      "text/plain": [
       "plot without title"
      ]
     },
     "metadata": {
      "image/png": {
       "height": 420,
       "width": 420
      }
     },
     "output_type": "display_data"
    }
   ],
   "source": [
    "dec_fit_mul <- decompose(export , 'multiplicative')\n",
    "plot(dec_fit_mul) # 한번에 분해된 성분이 모두 시각화"
   ]
  },
  {
   "cell_type": "code",
   "execution_count": 159,
   "id": "735eaabe-6d7d-47e3-bb94-0905d5103b1b",
   "metadata": {},
   "outputs": [
    {
     "data": {
      "text/html": [
       "<style>\n",
       ".list-inline {list-style: none; margin:0; padding: 0}\n",
       ".list-inline>li {display: inline-block}\n",
       ".list-inline>li:not(:last-child)::after {content: \"\\00b7\"; padding: 0 .5ex}\n",
       "</style>\n",
       "<ol class=list-inline><li>6.38353377281119</li><li>4.7726511407124</li></ol>\n"
      ],
      "text/latex": [
       "\\begin{enumerate*}\n",
       "\\item 6.38353377281119\n",
       "\\item 4.7726511407124\n",
       "\\end{enumerate*}\n"
      ],
      "text/markdown": [
       "1. 6.38353377281119\n",
       "2. 4.7726511407124\n",
       "\n",
       "\n"
      ],
      "text/plain": [
       "[1] 6.383534 4.772651"
      ]
     },
     "metadata": {},
     "output_type": "display_data"
    }
   ],
   "source": [
    "#가법과 승법 비교\n",
    "dec_fit_add <- decompose(export , 'additive') #위에서 시행한 이동평균법과 같다.\n",
    "pred_add <- dec_fit_add$trend + dec_fit_add$seasonal #가법 모형을 이용한 예측값\n",
    "pred_mul <- dec_fit_mul$trend * dec_fit_mul$seasonal #승법 모형을 이용한 예측값\n",
    "\n",
    "c(mean((export - pred_add)^2,na.rm = T),mean((export - pred_mul)^2,na.rm = T)) #승법 모형의 예측력이 더 좋다."
   ]
  },
  {
   "cell_type": "code",
   "execution_count": 160,
   "id": "2224c7c4-4159-4e99-9b48-e84a93f25ae5",
   "metadata": {},
   "outputs": [],
   "source": [
    "It_hat4_mul <- export/(dec_fit_mul$trend * dec_fit_mul$seasonal) #이동평균법 승법 모형을 이용한 분해의 불규칙 성분"
   ]
  },
  {
   "cell_type": "markdown",
   "id": "777d064c-b464-4617-99c5-ace0a1475ecc",
   "metadata": {},
   "source": [
    "#### 4-4"
   ]
  },
  {
   "cell_type": "code",
   "execution_count": 161,
   "id": "ab2a53b7-d4d7-43cf-a1b0-562324f851b8",
   "metadata": {},
   "outputs": [
    {
     "data": {
      "image/png": "[encoded data removed]",
      "text/plain": [
       "plot without title"
      ]
     },
     "metadata": {
      "image/png": {
       "height": 420,
       "width": 420
      }
     },
     "output_type": "display_data"
    }
   ],
   "source": [
    "plot.ts(It_hat4_mul) #승법 모형의 예측오차.\n",
    "abline(h = 1, col = 'red')\n",
    "\n",
    "#이상점을 제외한다면 어떤 일정한 경계안에 값들이 잘 들어있는 것 같다.\n",
    "#즉 이분산성은 없어보인다."
   ]
  },
  {
   "cell_type": "code",
   "execution_count": 162,
   "id": "3e1c3da0-26b0-4865-a80c-2c11974a1985",
   "metadata": {},
   "outputs": [
    {
     "data": {
      "image/png": "[encoded data removed]",
      "text/plain": [
       "Plot with title \"Histogram of It_hat4_mul\""
      ]
     },
     "metadata": {
      "image/png": {
       "height": 420,
       "width": 420
      }
     },
     "output_type": "display_data"
    }
   ],
   "source": [
    "hist(It_hat4_mul)"
   ]
  },
  {
   "cell_type": "markdown",
   "id": "b8aa2c6f-f20e-41af-99a7-8a7e40956b09",
   "metadata": {},
   "source": [
    "잔차들은 거의 0 근처에 존재하지만 왼쪽 꼬리가 길게 퍼져있다."
   ]
  },
  {
   "cell_type": "code",
   "execution_count": 163,
   "id": "afdb02a4-ad47-4747-ae18-9264bb29af8a",
   "metadata": {},
   "outputs": [
    {
     "data": {
      "text/plain": [
       "\n",
       "\tOne Sample t-test\n",
       "\n",
       "data:  It_hat4_mul - 1\n",
       "t = 0.042843, df = 73, p-value = 0.9659\n",
       "alternative hypothesis: true mean is not equal to 0\n",
       "95 percent confidence interval:\n",
       " -0.009994669  0.010433817\n",
       "sample estimates:\n",
       "   mean of x \n",
       "0.0002195742 \n"
      ]
     },
     "metadata": {},
     "output_type": "display_data"
    }
   ],
   "source": [
    "#잔차의 평균은 1인가?\n",
    "t.test(It_hat4_mul - 1) # p-value = 0.9659 즉 잔차 평균이 1이라고 할 수 있다."
   ]
  },
  {
   "cell_type": "code",
   "execution_count": 164,
   "id": "ea69a9bd-83ea-4433-be37-32ecac492160",
   "metadata": {},
   "outputs": [
    {
     "data": {
      "text/plain": [
       "\n",
       "\tDurbin-Watson test\n",
       "\n",
       "data:  lm(It_hat4_mul ~ 1)\n",
       "DW = 1.9487, p-value = 0.8247\n",
       "alternative hypothesis: true autocorrelation is not 0\n"
      ]
     },
     "metadata": {},
     "output_type": "display_data"
    }
   ],
   "source": [
    "#잔차는 서로 무상관일까?\n",
    "dwtest(lm(It_hat4_mul ~ 1), alternative = 'two.sided') #p-값이  0.8247\n",
    "#잔차들은 서로 무상관하다."
   ]
  },
  {
   "cell_type": "markdown",
   "id": "a7b56b04-0f7f-4bd0-8979-489ed3f6bba0",
   "metadata": {},
   "source": [
    "#### 4-5"
   ]
  },
  {
   "cell_type": "code",
   "execution_count": 165,
   "id": "401368d2-a324-46b2-8f27-419b5eeefd75",
   "metadata": {},
   "outputs": [
    {
     "data": {
      "text/html": [
       "<style>\n",
       ".list-inline {list-style: none; margin:0; padding: 0}\n",
       ".list-inline>li {display: inline-block}\n",
       ".list-inline>li:not(:last-child)::after {content: \"\\00b7\"; padding: 0 .5ex}\n",
       "</style>\n",
       "<ol class=list-inline><li>15.9425268815487</li><li>9.71451994576872</li><li>4.7726511407124</li></ol>\n"
      ],
      "text/latex": [
       "\\begin{enumerate*}\n",
       "\\item 15.9425268815487\n",
       "\\item 9.71451994576872\n",
       "\\item 4.7726511407124\n",
       "\\end{enumerate*}\n"
      ],
      "text/markdown": [
       "1. 15.9425268815487\n",
       "2. 9.71451994576872\n",
       "3. 4.7726511407124\n",
       "\n",
       "\n"
      ],
      "text/plain": [
       "[1] 15.942527  9.714520  4.772651"
      ]
     },
     "metadata": {},
     "output_type": "display_data"
    }
   ],
   "source": [
    "#각 잔차들의 제곱합을 통해 예측력을 비교하자\n",
    "#근데 적용한 모형의 차이 때문에 잔차들의 개수가 다르다.\n",
    "#SSE 비교보다는 MSE 비교가 더 적절한 비교 측도.\n",
    "c( mean(reg$residuals^2),  mean((export - pred_m)^2), mean((export - pred_mul)^2,na.rm = T)) \n",
    "#2-2, 추세분석 승법 분해, 이동평균 승법 분해"
   ]
  },
  {
   "cell_type": "markdown",
   "id": "e9c2467b-d902-4252-a84b-d25396c8c792",
   "metadata": {},
   "source": [
    "MSE는 15.9425268815487, 9.71451994576872 , 4.7726511407124 이므로 이동평균법을 이용한 승법모형 분해가예측 성능이 더 우수하다."
   ]
  },
  {
   "cell_type": "markdown",
   "id": "a95cb399-821d-4ac2-9bc1-91df18430166",
   "metadata": {},
   "source": [
    "### 5번"
   ]
  },
  {
   "cell_type": "code",
   "execution_count": 166,
   "id": "b975da02-e32f-4613-8e63-03347583b959",
   "metadata": {},
   "outputs": [
    {
     "data": {
      "image/png": "[encoded data removed]",
      "text/plain": [
       "plot without title"
      ]
     },
     "metadata": {
      "image/png": {
       "height": 420,
       "width": 420
      }
     },
     "output_type": "display_data"
    }
   ],
   "source": [
    "z <- scan('usapass.txt')\n",
    "plot.ts(z) #불규칙성분, 추세성분 그리고 계절성분이 있는 것 처럼 보이며\n",
    "#갈수록 분산이 커지는 이분산성을 가지는 것으로 보인다"
   ]
  },
  {
   "cell_type": "markdown",
   "id": "07d3a861-359a-4075-b260-474a010b070e",
   "metadata": {},
   "source": [
    "#### 5-1"
   ]
  },
  {
   "cell_type": "markdown",
   "id": "c87cdba7-d6d4-4952-a2a2-eb067f71aab6",
   "metadata": {},
   "source": [
    "갈수록 분산이 커지는 이분산성을 갖고있는 자료이기 때문에\n",
    "로그를 취해서 이분산성을 없애고 분석을 시행하는 것이 적절하다."
   ]
  },
  {
   "cell_type": "code",
   "execution_count": 167,
   "id": "ecc4ca1d-35f1-4701-b798-c9f57979ca64",
   "metadata": {},
   "outputs": [
    {
     "data": {
      "image/png": "[encoded data removed]",
      "text/plain": [
       "plot without title"
      ]
     },
     "metadata": {
      "image/png": {
       "height": 420,
       "width": 420
      }
     },
     "output_type": "display_data"
    }
   ],
   "source": [
    "plot.ts(log(z)) #보다 이분산성이 사라진 모습."
   ]
  },
  {
   "cell_type": "markdown",
   "id": "eaf2e4b8-e082-4410-8323-57a01c6329d9",
   "metadata": {},
   "source": [
    "#### 5-2"
   ]
  },
  {
   "cell_type": "code",
   "execution_count": 168,
   "id": "1eccb9df-99bb-4068-b9bc-5f687f0e4afe",
   "metadata": {},
   "outputs": [
    {
     "data": {
      "text/html": [
       "<table class=\"dataframe\">\n",
       "<caption>A data.frame: 6 × 2</caption>\n",
       "<thead>\n",
       "\t<tr><th></th><th scope=col>t</th><th scope=col>z</th></tr>\n",
       "\t<tr><th></th><th scope=col>&lt;int&gt;</th><th scope=col>&lt;dbl&gt;</th></tr>\n",
       "</thead>\n",
       "<tbody>\n",
       "\t<tr><th scope=row>1</th><td>1</td><td>112</td></tr>\n",
       "\t<tr><th scope=row>2</th><td>2</td><td>118</td></tr>\n",
       "\t<tr><th scope=row>3</th><td>3</td><td>132</td></tr>\n",
       "\t<tr><th scope=row>4</th><td>4</td><td>129</td></tr>\n",
       "\t<tr><th scope=row>5</th><td>5</td><td>121</td></tr>\n",
       "\t<tr><th scope=row>6</th><td>6</td><td>135</td></tr>\n",
       "</tbody>\n",
       "</table>\n"
      ],
      "text/latex": [
       "A data.frame: 6 × 2\n",
       "\\begin{tabular}{r|ll}\n",
       "  & t & z\\\\\n",
       "  & <int> & <dbl>\\\\\n",
       "\\hline\n",
       "\t1 & 1 & 112\\\\\n",
       "\t2 & 2 & 118\\\\\n",
       "\t3 & 3 & 132\\\\\n",
       "\t4 & 4 & 129\\\\\n",
       "\t5 & 5 & 121\\\\\n",
       "\t6 & 6 & 135\\\\\n",
       "\\end{tabular}\n"
      ],
      "text/markdown": [
       "\n",
       "A data.frame: 6 × 2\n",
       "\n",
       "| <!--/--> | t &lt;int&gt; | z &lt;dbl&gt; |\n",
       "|---|---|---|\n",
       "| 1 | 1 | 112 |\n",
       "| 2 | 2 | 118 |\n",
       "| 3 | 3 | 132 |\n",
       "| 4 | 4 | 129 |\n",
       "| 5 | 5 | 121 |\n",
       "| 6 | 6 | 135 |\n",
       "\n"
      ],
      "text/plain": [
       "  t z  \n",
       "1 1 112\n",
       "2 2 118\n",
       "3 3 132\n",
       "4 4 129\n",
       "5 5 121\n",
       "6 6 135"
      ]
     },
     "metadata": {},
     "output_type": "display_data"
    }
   ],
   "source": [
    "usapass <- ts(z, frequency = 12)\n",
    "log_usapass <- log(usapass)\n",
    "t <- 1:length(z)\n",
    "tmp.data <- data.frame(t = t, #시점과 \n",
    "                       z = z) #시계열 자료 데이터프레임에 저장\n",
    "\n",
    "tmp.data %>% head()\n",
    "\n",
    "tmp.data$log_usapass <- log(z)\n",
    "tmp.data$y <-\n",
    "  as.factor(as.integer(cycle(usapass))) #지시함수 사용을 위한 주기\n",
    "\n",
    "#tibble에 저장\n",
    "tmp.data <- tibble(tmp.data)"
   ]
  },
  {
   "cell_type": "code",
   "execution_count": 169,
   "id": "ee4aebfe-6d27-432d-859f-a503fce447ff",
   "metadata": {},
   "outputs": [
    {
     "data": {
      "text/plain": [
       "\n",
       "Call:\n",
       "lm(formula = log_usapass ~ 0 + t + y, data = tmp.data)\n",
       "\n",
       "Residuals:\n",
       "      Min        1Q    Median        3Q       Max \n",
       "-0.159814 -0.044426  0.000623  0.045572  0.151846 \n",
       "\n",
       "Coefficients:\n",
       "     Estimate Std. Error t value Pr(>|t|)    \n",
       "t   0.0100999  0.0001252   80.67   <2e-16 ***\n",
       "y1  4.7246982  0.0198289  238.27   <2e-16 ***\n",
       "y2  4.7026123  0.0198822  236.52   <2e-16 ***\n",
       "y3  4.8342011  0.0199361  242.49   <2e-16 ***\n",
       "y4  4.8015084  0.0199907  240.19   <2e-16 ***\n",
       "y5  4.8009618  0.0200459  239.50   <2e-16 ***\n",
       "y6  4.9237482  0.0201017  244.94   <2e-16 ***\n",
       "y7  5.0296649  0.0201582  249.51   <2e-16 ***\n",
       "y8  5.0223242  0.0202153  248.44   <2e-16 ***\n",
       "y9  4.8708171  0.0202729  240.26   <2e-16 ***\n",
       "y10 4.7357833  0.0203312  232.93   <2e-16 ***\n",
       "y11 4.5905564  0.0203901  225.14   <2e-16 ***\n",
       "y12 4.7032829  0.0204496  229.99   <2e-16 ***\n",
       "---\n",
       "Signif. codes:  0 '***' 0.001 '**' 0.01 '*' 0.05 '.' 0.1 ' ' 1\n",
       "\n",
       "Residual standard error: 0.06224 on 131 degrees of freedom\n",
       "Multiple R-squared:  0.9999,\tAdjusted R-squared:  0.9999 \n",
       "F-statistic: 8.844e+04 on 13 and 131 DF,  p-value: < 2.2e-16\n"
      ]
     },
     "metadata": {},
     "output_type": "display_data"
    },
    {
     "data": {
      "text/html": [
       "<style>\n",
       ".dl-inline {width: auto; margin:0; padding: 0}\n",
       ".dl-inline>dt, .dl-inline>dd {float: none; width: auto; display: inline-block}\n",
       ".dl-inline>dt::after {content: \":\\0020\"; padding-right: .5ex}\n",
       ".dl-inline>dt:not(:first-of-type) {padding-left: .5ex}\n",
       "</style><dl class=dl-inline><dt>t</dt><dd>0.0101</dd><dt>y1</dt><dd>4.7247</dd><dt>y2</dt><dd>4.7026</dd><dt>y3</dt><dd>4.8342</dd><dt>y4</dt><dd>4.8015</dd><dt>y5</dt><dd>4.801</dd><dt>y6</dt><dd>4.9237</dd><dt>y7</dt><dd>5.0297</dd><dt>y8</dt><dd>5.0223</dd><dt>y9</dt><dd>4.8708</dd><dt>y10</dt><dd>4.7358</dd><dt>y11</dt><dd>4.5906</dd><dt>y12</dt><dd>4.7033</dd></dl>\n"
      ],
      "text/latex": [
       "\\begin{description*}\n",
       "\\item[t] 0.0101\n",
       "\\item[y1] 4.7247\n",
       "\\item[y2] 4.7026\n",
       "\\item[y3] 4.8342\n",
       "\\item[y4] 4.8015\n",
       "\\item[y5] 4.801\n",
       "\\item[y6] 4.9237\n",
       "\\item[y7] 5.0297\n",
       "\\item[y8] 5.0223\n",
       "\\item[y9] 4.8708\n",
       "\\item[y10] 4.7358\n",
       "\\item[y11] 4.5906\n",
       "\\item[y12] 4.7033\n",
       "\\end{description*}\n"
      ],
      "text/markdown": [
       "t\n",
       ":   0.0101y1\n",
       ":   4.7247y2\n",
       ":   4.7026y3\n",
       ":   4.8342y4\n",
       ":   4.8015y5\n",
       ":   4.801y6\n",
       ":   4.9237y7\n",
       ":   5.0297y8\n",
       ":   5.0223y9\n",
       ":   4.8708y10\n",
       ":   4.7358y11\n",
       ":   4.5906y12\n",
       ":   4.7033\n",
       "\n"
      ],
      "text/plain": [
       "     t     y1     y2     y3     y4     y5     y6     y7     y8     y9    y10 \n",
       "0.0101 4.7247 4.7026 4.8342 4.8015 4.8010 4.9237 5.0297 5.0223 4.8708 4.7358 \n",
       "   y11    y12 \n",
       "4.5906 4.7033 "
      ]
     },
     "metadata": {},
     "output_type": "display_data"
    }
   ],
   "source": [
    "#지시함수를 이용하여 모형 적합\n",
    "reg1 <- lm(log_usapass ~ 0 + t + y, data = tmp.data)\n",
    "summary(reg1) #b_0 = 0이라는 제약조건 사용\n",
    "round(reg1$coefficients,4) #적합된 계수들\n",
    "# 시점이 1 증가할 때 마다 log_usapass 자료는 0.01009988 씩 오르며\n",
    "#y1, y2, ... y12 는 각 월별 로그 평균이다."
   ]
  },
  {
   "cell_type": "markdown",
   "id": "0ba719e8-7db4-43ed-8196-c304149960cb",
   "metadata": {},
   "source": [
    "적합된 모형은 $log(\\widehat{Z_t}) = 0.0.0101t + 4.7247{I_1} + ... 4.7033{I_{12}}$\\\n",
    "또한 각 계수가 모두 유의한 것을 볼 수 있다."
   ]
  },
  {
   "cell_type": "code",
   "execution_count": 170,
   "id": "24c368d6-b6d8-4edf-8f10-b1bb730269f0",
   "metadata": {},
   "outputs": [
    {
     "data": {
      "image/png": "[encoded data removed]",
      "text/plain": [
       "plot without title"
      ]
     },
     "metadata": {
      "image/png": {
       "height": 420,
       "width": 420
      }
     },
     "output_type": "display_data"
    }
   ],
   "source": [
    "#적합값과 원시계열 비교\n",
    "ggplot(data = tmp.data, aes(x = t)) +\n",
    "  geom_line(aes(y = log_usapass, color = \"Log_usapass\"), size = 1, linetype = \"solid\", alpha = 0.7) +\n",
    "  geom_line(aes(y = fitted(reg1), color = \"Fitted\"), size = 1, linetype = \"dashed\", alpha = 0.7) +\n",
    "  labs(title = \"시계열과 회귀 모델 적합 비교\") +\n",
    "  scale_x_continuous(breaks = seq(1, length(z), by = 12), labels = 1:12) +\n",
    "  scale_color_manual(values = c(\"Log_usapass\" = \"blue\", \"Fitted\" = \"red\")) +\n",
    "  theme_minimal()"
   ]
  },
  {
   "cell_type": "markdown",
   "id": "b0beb6d3-3913-40f4-b80c-ce6ba7072344",
   "metadata": {},
   "source": [
    "적합이 잘 된 것 같다."
   ]
  },
  {
   "cell_type": "code",
   "execution_count": 171,
   "id": "3208ef10-b47f-47eb-bb2b-17b9edac9fcf",
   "metadata": {},
   "outputs": [
    {
     "data": {
      "image/png": "[encoded data removed]",
      "text/plain": [
       "Plot with title \"잔차의 시계열 그림\""
      ]
     },
     "metadata": {
      "image/png": {
       "height": 420,
       "width": 420
      }
     },
     "output_type": "display_data"
    }
   ],
   "source": [
    "#잔차 분석\n",
    "plot(\n",
    "  tmp.data$t ,\n",
    "  resid(reg1),\n",
    "  pch = 16,\n",
    "  cex = 1,\n",
    "  xaxt = 'n',\n",
    "  type = 'b', #dot connected plot\n",
    "  xlab = \"\",\n",
    "  ylab = \"\",\n",
    "  main = \"잔차의 시계열 그림\",\n",
    "  cex.main = 2\n",
    ")\n",
    "abline(\n",
    "  h = 0,\n",
    "  lty = 2 ,\n",
    "  lwd = 2,\n",
    "  col = 'red'\n",
    ")"
   ]
  },
  {
   "cell_type": "code",
   "execution_count": 172,
   "id": "91ec7759-f888-44e1-bb19-929315bd8b96",
   "metadata": {},
   "outputs": [
    {
     "data": {
      "image/png": "[encoded data removed]",
      "text/plain": [
       "Plot with title \"Histogram of resid(reg1)\""
      ]
     },
     "metadata": {
      "image/png": {
       "height": 420,
       "width": 420
      }
     },
     "output_type": "display_data"
    }
   ],
   "source": [
    "hist(resid(reg1))"
   ]
  },
  {
   "cell_type": "markdown",
   "id": "278acb53-196f-454f-94eb-94592cb44f39",
   "metadata": {},
   "source": [
    "잔차는 0근처에 대부분 몰려있으며 대칭성을 띄는 것 같다."
   ]
  },
  {
   "cell_type": "code",
   "execution_count": 173,
   "id": "e37625f2-e079-43b7-bf17-145fb94f0dca",
   "metadata": {},
   "outputs": [
    {
     "data": {
      "text/plain": [
       "\n",
       "\tDurbin-Watson test\n",
       "\n",
       "data:  reg1\n",
       "DW = 0.40831, p-value < 2.2e-16\n",
       "alternative hypothesis: true autocorrelation is not 0\n"
      ]
     },
     "metadata": {},
     "output_type": "display_data"
    }
   ],
   "source": [
    "#잔차는 무상관일까?\n",
    "dwtest(reg1 , alternative = 'two.sided')\n",
    "#DW 값이 0.40831이며 p-value가 2.2e-16 보다 작다.\n",
    "#따라서 양의 자기상관이 있다는 것을 알 수 있다.\n",
    "#아직 잔차에 예측에 대한 정보가 들어있다."
   ]
  },
  {
   "cell_type": "code",
   "execution_count": 174,
   "id": "df62af5d-020b-48d2-ba58-1f278f7f791b",
   "metadata": {},
   "outputs": [
    {
     "data": {
      "text/plain": [
       "\n",
       "\tShapiro-Wilk normality test\n",
       "\n",
       "data:  resid(reg1)\n",
       "W = 0.99474, p-value = 0.8828\n"
      ]
     },
     "metadata": {},
     "output_type": "display_data"
    }
   ],
   "source": [
    "#shapiro test\n",
    "shapiro.test(resid(reg1))\n",
    "#p-값이 0.8828 로 잔차들이 정규분포를 따른다."
   ]
  },
  {
   "cell_type": "code",
   "execution_count": 175,
   "id": "2d99110d-340a-4477-b257-e92db7948cf3",
   "metadata": {},
   "outputs": [
    {
     "data": {
      "text/plain": [
       "\n",
       "\tstudentized Breusch-Pagan test\n",
       "\n",
       "data:  reg1\n",
       "BP = 5.9163, df = 12, p-value = 0.9202\n"
      ]
     },
     "metadata": {},
     "output_type": "display_data"
    }
   ],
   "source": [
    "#bp test, 이분산성 \n",
    "bptest(reg1) #p-value = 0.9202이므로 이분산성은 없다."
   ]
  },
  {
   "cell_type": "code",
   "execution_count": 176,
   "id": "f3051f74-09bd-499b-9bfb-41c3752153bf",
   "metadata": {},
   "outputs": [
    {
     "data": {
      "text/plain": [
       "\n",
       "\tOne Sample t-test\n",
       "\n",
       "data:  resid(reg1)\n",
       "t = -4.4287e-17, df = 143, p-value = 1\n",
       "alternative hypothesis: true mean is not equal to 0\n",
       "95 percent confidence interval:\n",
       " -0.009812747  0.009812747\n",
       "sample estimates:\n",
       "    mean of x \n",
       "-2.198521e-19 \n"
      ]
     },
     "metadata": {},
     "output_type": "display_data"
    }
   ],
   "source": [
    "t.test(resid(reg1)) #p-value가 1 따라서 잔차의 평균은 0이다."
   ]
  },
  {
   "cell_type": "markdown",
   "id": "c7be2811-e1e7-472e-ac8e-6f17bc29e7bb",
   "metadata": {},
   "source": [
    "#### 5-3"
   ]
  },
  {
   "cell_type": "code",
   "execution_count": 177,
   "id": "d04e268c-16f2-4578-be9c-d4b94270f511",
   "metadata": {},
   "outputs": [
    {
     "data": {
      "text/plain": [
       "Holt-Winters exponential smoothing with trend and additive seasonal component.\n",
       "\n",
       "Call:\n",
       "HoltWinters(x = log_usapass, seasonal = \"additive\")\n",
       "\n",
       "Smoothing parameters:\n",
       " alpha: 0.3447498\n",
       " beta : 0.003585913\n",
       " gamma: 0.879488\n",
       "\n",
       "Coefficients:\n",
       "            [,1]\n",
       "a    6.165298459\n",
       "b    0.008744433\n",
       "s1  -0.073696849\n",
       "s2  -0.142822821\n",
       "s3  -0.039964334\n",
       "s4   0.015968620\n",
       "s5   0.033673237\n",
       "s6   0.157016140\n",
       "s7   0.300626468\n",
       "s8   0.285698068\n",
       "s9   0.098491289\n",
       "s10 -0.021898771\n",
       "s11 -0.190036243\n",
       "s12 -0.096734648"
      ]
     },
     "metadata": {},
     "output_type": "display_data"
    },
    {
     "data": {
      "text/html": [
       "<strong>alpha:</strong> 0.344749800664717"
      ],
      "text/latex": [
       "\\textbf{alpha:} 0.344749800664717"
      ],
      "text/markdown": [
       "**alpha:** 0.344749800664717"
      ],
      "text/plain": [
       "    alpha \n",
       "0.3447498 "
      ]
     },
     "metadata": {},
     "output_type": "display_data"
    },
    {
     "data": {
      "text/html": [
       "<strong>beta:</strong> 0.00358591318605674"
      ],
      "text/latex": [
       "\\textbf{beta:} 0.00358591318605674"
      ],
      "text/markdown": [
       "**beta:** 0.00358591318605674"
      ],
      "text/plain": [
       "       beta \n",
       "0.003585913 "
      ]
     },
     "metadata": {},
     "output_type": "display_data"
    },
    {
     "data": {
      "text/html": [
       "<strong>gamma:</strong> 0.879488045413511"
      ],
      "text/latex": [
       "\\textbf{gamma:} 0.879488045413511"
      ],
      "text/markdown": [
       "**gamma:** 0.879488045413511"
      ],
      "text/plain": [
       "   gamma \n",
       "0.879488 "
      ]
     },
     "metadata": {},
     "output_type": "display_data"
    },
    {
     "data": {
      "image/png": "[encoded data removed]",
      "text/plain": [
       "Plot with title \"Holt-Winters filtering\""
      ]
     },
     "metadata": {
      "image/png": {
       "height": 420,
       "width": 420
      }
     },
     "output_type": "display_data"
    }
   ],
   "source": [
    "#### Holt Winters additive model\n",
    "fit_hw <- HoltWinters(log_usapass, seasonal = 'additive') #로그를 취한 가법모형\n",
    "fit_hw\n",
    "\n",
    "plot(fit_hw, lwd = 2) #원래 시계열 자료와 평활한 값들의 시도표\n",
    "\n",
    "fit_hw$alpha;fit_hw$beta;fit_hw$gamma"
   ]
  },
  {
   "cell_type": "code",
   "execution_count": 178,
   "id": "b0903add-11d6-4052-b37d-db2c091814ad",
   "metadata": {},
   "outputs": [],
   "source": [
    "fit_hw2 = hw(\n",
    "  log_usapass,\n",
    "  alpha = fit_hw$alpha,\n",
    "  beta = fit_hw$beta,\n",
    "  gamma = fit_hw$gamma,\n",
    "  seasonal = \"additive\",\n",
    "  initial = \"simple\",\n",
    "  h = 12\n",
    ")"
   ]
  },
  {
   "cell_type": "code",
   "execution_count": 179,
   "id": "22349ce0-1338-440a-9a5b-7b26ff4be3bc",
   "metadata": {},
   "outputs": [
    {
     "data": {
      "image/png": "[encoded data removed]",
      "text/plain": [
       "Plot with title \"Winters 가법계절지수평활된 자료의 시계열 그림\""
      ]
     },
     "metadata": {
      "image/png": {
       "height": 420,
       "width": 420
      }
     },
     "output_type": "display_data"
    }
   ],
   "source": [
    "plot(\n",
    "  fit_hw2,\n",
    "  ylab = \"log usapass\",\n",
    "  xlab = \"\",\n",
    "  lty = 1,\n",
    "  col = \"blue\",\n",
    "  main = \"Winters 가법계절지수평활된 자료의 시계열 그림\",\n",
    "  cex.main = 2\n",
    ") #예측구간이 잘 생기게 되었다.\n",
    "lines(fit_hw2$fitted,\n",
    "      lwd = 3 ,\n",
    "      col = 'red' ,\n",
    "      lty = 2)\n",
    "#fit_hw2를 통해 평활한 값"
   ]
  },
  {
   "cell_type": "code",
   "execution_count": 180,
   "id": "c4e18b9a-aee4-4e18-8242-181aef1243ec",
   "metadata": {},
   "outputs": [
    {
     "data": {
      "image/png": "[encoded data removed]",
      "text/plain": [
       "plot without title"
      ]
     },
     "metadata": {
      "image/png": {
       "height": 420,
       "width": 420
      }
     },
     "output_type": "display_data"
    }
   ],
   "source": [
    "ts.plot(fit_hw2$residuals) #잔차그림\n",
    "abline(h=0, col = 'red')\n",
    "#우뚝 솟은 두개의 값을 제외하면 이분산성을 갖지 않는 것 같다."
   ]
  },
  {
   "cell_type": "code",
   "execution_count": 181,
   "id": "819824a9-f7a5-447c-b307-79d623b7bf8d",
   "metadata": {},
   "outputs": [
    {
     "data": {
      "image/png": "[encoded data removed]",
      "text/plain": [
       "Plot with title \"Histogram of fit_hw2$residuals\""
      ]
     },
     "metadata": {
      "image/png": {
       "height": 420,
       "width": 420
      }
     },
     "output_type": "display_data"
    }
   ],
   "source": [
    "hist(fit_hw2$residuals) #이상점을 제외하면 잔차가 대칭인 것 같다"
   ]
  },
  {
   "cell_type": "code",
   "execution_count": 182,
   "id": "72615df7-3fa0-4d45-9d47-b339b8756860",
   "metadata": {},
   "outputs": [
    {
     "data": {
      "text/plain": [
       "\n",
       "\tDurbin-Watson test\n",
       "\n",
       "data:  lm(fit_hw2$residual ~ 1)\n",
       "DW = 1.5421, p-value = 0.005659\n",
       "alternative hypothesis: true autocorrelation is not 0\n"
      ]
     },
     "metadata": {},
     "output_type": "display_data"
    }
   ],
   "source": [
    "#### dw test  오차는 무상관인가?\n",
    "dwtest(lm(fit_hw2$residual ~ 1), alternative = 'two.sided')"
   ]
  },
  {
   "cell_type": "markdown",
   "id": "9792b035-7830-4bc2-b472-8b11ae789a98",
   "metadata": {},
   "source": [
    "DW = 1.5421, p-value = 0.005659 이므로 양의 자기상관관계가 남아있다."
   ]
  },
  {
   "cell_type": "code",
   "execution_count": 183,
   "id": "3cfea293-efe4-4c68-9bdf-58c762b15756",
   "metadata": {},
   "outputs": [
    {
     "data": {
      "text/plain": [
       "\n",
       "\tOne Sample t-test\n",
       "\n",
       "data:  fit_hw2$residuals\n",
       "t = 0.72402, df = 143, p-value = 0.4702\n",
       "alternative hypothesis: true mean is not equal to 0\n",
       "95 percent confidence interval:\n",
       " -0.004441394  0.009575433\n",
       "sample estimates:\n",
       "  mean of x \n",
       "0.002567019 \n"
      ]
     },
     "metadata": {},
     "output_type": "display_data"
    }
   ],
   "source": [
    "#잔차의 평균은 0 인가?\n",
    "t.test(fit_hw2$residuals)\n",
    "#p-value =  0.4702 이므로 잔차의 평균은 0 이다."
   ]
  },
  {
   "cell_type": "markdown",
   "id": "912aef72-19dd-40b2-9551-82e6ed850dab",
   "metadata": {},
   "source": [
    "#### 5-4-1"
   ]
  },
  {
   "cell_type": "markdown",
   "id": "1302bdc0-f265-4b06-aba3-6c450c97a198",
   "metadata": {},
   "source": [
    "`Precaution:` 이동평균과 추세분석를 이용해 각각 분해법을 적용하였습니다."
   ]
  },
  {
   "cell_type": "code",
   "execution_count": 184,
   "id": "afb8bfed-9091-4417-a27e-4cd02899a776",
   "metadata": {},
   "outputs": [
    {
     "data": {
      "image/png": "[encoded data removed]",
      "text/plain": [
       "plot without title"
      ]
     },
     "metadata": {
      "image/png": {
       "height": 420,
       "width": 420
      }
     },
     "output_type": "display_data"
    }
   ],
   "source": [
    "#추세에 의한 분해법\n",
    "log_usapass <- ts(log(z), frequency =12)\n",
    "t <- 1:length(z)\n",
    "ts.plot(log_usapass) #이분산성이 사라진 모습."
   ]
  },
  {
   "cell_type": "code",
   "execution_count": 185,
   "id": "a053cddf-1171-455f-a8fa-40fd9e0838d6",
   "metadata": {},
   "outputs": [
    {
     "data": {
      "text/plain": [
       "\n",
       "Call:\n",
       "lm(formula = log_usapass ~ t)\n",
       "\n",
       "Residuals:\n",
       "     Min       1Q   Median       3Q      Max \n",
       "-0.30875 -0.10481 -0.01736  0.09677  0.36311 \n",
       "\n",
       "Coefficients:\n",
       "             Estimate Std. Error t value Pr(>|t|)    \n",
       "(Intercept) 4.8131072  0.0237011  203.07   <2e-16 ***\n",
       "t           0.0100802  0.0002836   35.54   <2e-16 ***\n",
       "---\n",
       "Signif. codes:  0 '***' 0.001 '**' 0.01 '*' 0.05 '.' 0.1 ' ' 1\n",
       "\n",
       "Residual standard error: 0.1415 on 142 degrees of freedom\n",
       "Multiple R-squared:  0.899,\tAdjusted R-squared:  0.8982 \n",
       "F-statistic:  1263 on 1 and 142 DF,  p-value: < 2.2e-16\n"
      ]
     },
     "metadata": {},
     "output_type": "display_data"
    }
   ],
   "source": [
    "fit <- lm(log_usapass ~ t) #추세 적합.\n",
    "summary(fit)\n",
    "#적합된 회귀계수는 beta0 = 4.8131072, beta1 = 0.0100802 이다.\n",
    "#적합된 추세는 Z_t_hat = 4.8131072 + beta1*t (Z_t_hat은 로그변환 되어있다.)"
   ]
  },
  {
   "cell_type": "markdown",
   "id": "5c116383-0bc2-45c5-90d4-b0d81439f948",
   "metadata": {},
   "source": [
    "$log(\\widehat{T_t}) = 4.8131072 + 0.0100802t$"
   ]
  },
  {
   "cell_type": "code",
   "execution_count": 186,
   "id": "555159f4-47bc-46e5-829f-3f3d710204f4",
   "metadata": {},
   "outputs": [
    {
     "data": {
      "image/png": "[encoded data removed]",
      "text/plain": [
       "Plot with title \"분해법의 추세성분 \""
      ]
     },
     "metadata": {
      "image/png": {
       "height": 420,
       "width": 420
      }
     },
     "output_type": "display_data"
    }
   ],
   "source": [
    "hat_Tt <- fitted(fit) #추세의 적합값\n",
    "ts.plot(\n",
    "  hat_Tt,\n",
    "  col = 1:2,\n",
    "  lty = 1:2,\n",
    "  lwd = 2:3,\n",
    "  ylab = \"food\",\n",
    "  xlab = \"time\",\n",
    "  main = \"분해법의 추세성분 \"\n",
    ")"
   ]
  },
  {
   "cell_type": "markdown",
   "id": "5ec3d327-a28d-4b6e-90d1-ccc69670bca8",
   "metadata": {},
   "source": [
    "시각화를 해보았는데 로그변환된 관측치와 추정된 추세가 \n",
    "더 개선될 여지가 보인다. 따라서 이차항을 추가하여 적합하여보자"
   ]
  },
  {
   "cell_type": "code",
   "execution_count": 187,
   "id": "305e0877-39f6-4f5c-bde8-6d7a9953aec2",
   "metadata": {},
   "outputs": [
    {
     "data": {
      "text/plain": [
       "\n",
       "Call:\n",
       "lm(formula = log_usapass ~ t + I(t^2))\n",
       "\n",
       "Residuals:\n",
       "     Min       1Q   Median       3Q      Max \n",
       "-0.29253 -0.09097 -0.02178  0.09452  0.34659 \n",
       "\n",
       "Coefficients:\n",
       "              Estimate Std. Error t value Pr(>|t|)    \n",
       "(Intercept)  4.734e+00  3.487e-02 135.738  < 2e-16 ***\n",
       "t            1.334e-02  1.110e-03  12.010  < 2e-16 ***\n",
       "I(t^2)      -2.246e-05  7.418e-06  -3.027  0.00293 ** \n",
       "---\n",
       "Signif. codes:  0 '***' 0.001 '**' 0.01 '*' 0.05 '.' 0.1 ' ' 1\n",
       "\n",
       "Residual standard error: 0.1376 on 141 degrees of freedom\n",
       "Multiple R-squared:  0.9051,\tAdjusted R-squared:  0.9038 \n",
       "F-statistic: 672.6 on 2 and 141 DF,  p-value: < 2.2e-16\n"
      ]
     },
     "metadata": {},
     "output_type": "display_data"
    }
   ],
   "source": [
    "fit1 <- lm(log_usapass ~ t + I(t^2)) #추세 적합.\n",
    "summary(fit1)\n",
    "#적합된 회귀계수는 beta0 = 4.734e+00, beta1 = 1.334e-02, beta2 =-2.246e-05이다.\n",
    "#적합된 추세는 Z_t_hat = 4.734e+00 + 1.334e-02*t - 2.246e-05 * t^2\n",
    "#(Z_t_hat은 로그변환 되어있다.)\n",
    "hat_Tt <- fitted(fit1) #추세의 적합값"
   ]
  },
  {
   "cell_type": "markdown",
   "id": "4096cf57-7216-41c3-835b-c65f57347335",
   "metadata": {},
   "source": [
    "$log(\\widehat{T_t}) = 4.734 + 0.01334t - 0.00002246{t^2}$"
   ]
  },
  {
   "cell_type": "code",
   "execution_count": 188,
   "id": "4a37152d-6c82-41c0-96ed-0b002250dec5",
   "metadata": {},
   "outputs": [
    {
     "data": {
      "image/png": "[encoded data removed]",
      "text/plain": [
       "Plot with title \"분해법의 추세성분(이차항추가)\""
      ]
     },
     "metadata": {
      "image/png": {
       "height": 420,
       "width": 420
      }
     },
     "output_type": "display_data"
    }
   ],
   "source": [
    "ts.plot(\n",
    "  hat_Tt,\n",
    "  col = 1:2,\n",
    "  lty = 1:2,\n",
    "  lwd = 2:3,\n",
    "  ylab = \"food\",\n",
    "  xlab = \"time\",\n",
    "  main = \"분해법의 추세성분(이차항추가)\"\n",
    ")\n",
    "#보다 더 원시계열의 추세를 잘 나타내는 것 같다."
   ]
  },
  {
   "cell_type": "code",
   "execution_count": 189,
   "id": "c36dde84-5a2c-4eb5-b856-909e0fc9d178",
   "metadata": {},
   "outputs": [
    {
     "data": {
      "image/png": "[encoded data removed]",
      "text/plain": [
       "plot without title"
      ]
     },
     "metadata": {
      "image/png": {
       "height": 420,
       "width": 420
      }
     },
     "output_type": "display_data"
    }
   ],
   "source": [
    "## 원시계열에서 추세성분  조정\n",
    "adjtrend = log_usapass - hat_Tt\n",
    "plot.ts(adjtrend, lwd = 2) #계절성분과 불규칙 성분만 남았다."
   ]
  },
  {
   "cell_type": "markdown",
   "id": "4ace2bb0-b927-4352-9807-700cdeb00ac3",
   "metadata": {},
   "source": [
    "$\\log(\\widehat{S_t}) = -0.08668{I_1} - 0.10897{I_2} ... -0.10788{I_{12}}$"
   ]
  },
  {
   "cell_type": "code",
   "execution_count": 190,
   "id": "a23385e6-91c2-40c9-acc2-0b8004f22e38",
   "metadata": {},
   "outputs": [
    {
     "data": {
      "text/plain": [
       "\n",
       "Call:\n",
       "lm(formula = adjtrend ~ 0 + y)\n",
       "\n",
       "Residuals:\n",
       "      Min        1Q    Median        3Q       Max \n",
       "-0.128997 -0.040338  0.001791  0.030654  0.136133 \n",
       "\n",
       "Coefficients:\n",
       "    Estimate Std. Error t value Pr(>|t|)    \n",
       "y1  -0.08668    0.01467  -5.909 2.76e-08 ***\n",
       "y2  -0.10897    0.01467  -7.429 1.22e-11 ***\n",
       "y3   0.02246    0.01467   1.531    0.128    \n",
       "y4  -0.01035    0.01467  -0.705    0.482    \n",
       "y5  -0.01096    0.01467  -0.748    0.456    \n",
       "y6   0.11180    0.01467   7.622 4.34e-12 ***\n",
       "y7   0.21773    0.01467  14.844  < 2e-16 ***\n",
       "y8   0.21046    0.01467  14.348  < 2e-16 ***\n",
       "y9   0.05906    0.01467   4.026 9.50e-05 ***\n",
       "y10 -0.07582    0.01467  -5.169 8.50e-07 ***\n",
       "y11 -0.22085    0.01467 -15.056  < 2e-16 ***\n",
       "y12 -0.10788    0.01467  -7.355 1.81e-11 ***\n",
       "---\n",
       "Signif. codes:  0 '***' 0.001 '**' 0.01 '*' 0.05 '.' 0.1 ' ' 1\n",
       "\n",
       "Residual standard error: 0.05081 on 132 degrees of freedom\n",
       "Multiple R-squared:  0.8723,\tAdjusted R-squared:  0.8607 \n",
       "F-statistic: 75.13 on 12 and 132 DF,  p-value: < 2.2e-16\n"
      ]
     },
     "metadata": {},
     "output_type": "display_data"
    },
    {
     "data": {
      "text/html": [
       "<style>\n",
       ".dl-inline {width: auto; margin:0; padding: 0}\n",
       ".dl-inline>dt, .dl-inline>dd {float: none; width: auto; display: inline-block}\n",
       ".dl-inline>dt::after {content: \":\\0020\"; padding-right: .5ex}\n",
       ".dl-inline>dt:not(:first-of-type) {padding-left: .5ex}\n",
       "</style><dl class=dl-inline><dt>y1</dt><dd>-0.086678277710119</dd><dt>y2</dt><dd>-0.108969064433857</dd><dt>y3</dt><dd>0.0224597991432117</dd><dt>y4</dt><dd>-0.0103479792446569</dd><dt>y5</dt><dd>-0.0109647525245764</dd><dt>y6</dt><dd>0.111796449593164</dd><dt>y7</dt><dd>0.217732887256489</dd><dt>y8</dt><dd>0.210456777563847</dd><dt>y9</dt><dd>0.0590591448048027</dd><dt>y10</dt><dd>-0.0758202349992602</dd><dt>y11</dt><dd>-0.220847766542087</dd><dt>y12</dt><dd>-0.107876982906958</dd></dl>\n"
      ],
      "text/latex": [
       "\\begin{description*}\n",
       "\\item[y1] -0.086678277710119\n",
       "\\item[y2] -0.108969064433857\n",
       "\\item[y3] 0.0224597991432117\n",
       "\\item[y4] -0.0103479792446569\n",
       "\\item[y5] -0.0109647525245764\n",
       "\\item[y6] 0.111796449593164\n",
       "\\item[y7] 0.217732887256489\n",
       "\\item[y8] 0.210456777563847\n",
       "\\item[y9] 0.0590591448048027\n",
       "\\item[y10] -0.0758202349992602\n",
       "\\item[y11] -0.220847766542087\n",
       "\\item[y12] -0.107876982906958\n",
       "\\end{description*}\n"
      ],
      "text/markdown": [
       "y1\n",
       ":   -0.086678277710119y2\n",
       ":   -0.108969064433857y3\n",
       ":   0.0224597991432117y4\n",
       ":   -0.0103479792446569y5\n",
       ":   -0.0109647525245764y6\n",
       ":   0.111796449593164y7\n",
       ":   0.217732887256489y8\n",
       ":   0.210456777563847y9\n",
       ":   0.0590591448048027y10\n",
       ":   -0.0758202349992602y11\n",
       ":   -0.220847766542087y12\n",
       ":   -0.107876982906958\n",
       "\n"
      ],
      "text/plain": [
       "         y1          y2          y3          y4          y5          y6 \n",
       "-0.08667828 -0.10896906  0.02245980 -0.01034798 -0.01096475  0.11179645 \n",
       "         y7          y8          y9         y10         y11         y12 \n",
       " 0.21773289  0.21045678  0.05905914 -0.07582023 -0.22084777 -0.10787698 "
      ]
     },
     "metadata": {},
     "output_type": "display_data"
    }
   ],
   "source": [
    "## 지시함수를 이용한 계절성분 추정\n",
    "y = factor(cycle(adjtrend))  #범주형 변수로 변환\n",
    "fit2 <- lm(adjtrend ~ 0 + y) #beta0 = 0 이라는 제약조건.\n",
    "summary(fit2) #각 적합된 계수들은 주기별(월별) 평균값을 의미한다.\n",
    "fit2$coefficients\n",
    "#따라서 적합된 계절은\n",
    "# 이다."
   ]
  },
  {
   "cell_type": "code",
   "execution_count": 191,
   "id": "0aa41d8a-289e-46c1-b949-f0d6ce1088df",
   "metadata": {},
   "outputs": [
    {
     "data": {
      "image/png": "[encoded data removed]",
      "text/plain": [
       "Plot with title \"추정된 계절성분 \""
      ]
     },
     "metadata": {
      "image/png": {
       "height": 420,
       "width": 420
      }
     },
     "output_type": "display_data"
    }
   ],
   "source": [
    "hat_St <- fitted(fit2) #계절성분의 적합값.\n",
    "ts.plot(hat_St, main = \"추정된 계절성분 \")"
   ]
  },
  {
   "cell_type": "markdown",
   "id": "d8106927-af19-40d7-9094-c8affdeb055a",
   "metadata": {},
   "source": [
    "$\\widehat{I_t} =  log{Zt} - \\widehat{T_t} - \\widehat{S_t}$"
   ]
  },
  {
   "cell_type": "code",
   "execution_count": 192,
   "id": "a957f331-9a81-4262-8db2-523480d60f42",
   "metadata": {},
   "outputs": [
    {
     "data": {
      "image/png": "[encoded data removed]",
      "text/plain": [
       "plot without title"
      ]
     },
     "metadata": {
      "image/png": {
       "height": 420,
       "width": 420
      }
     },
     "output_type": "display_data"
    }
   ],
   "source": [
    "#3 불규칙 성분\n",
    "hat_It <- log_usapass - hat_Tt - hat_St\n",
    "ts.plot(hat_It) #적합된 불규칙성분(잔차)들이 일정 경계안에 들어있는 것 같다.\n",
    "abline(h = 0,col = 'red')\n",
    "#이분산성이 보이진 않는다."
   ]
  },
  {
   "cell_type": "code",
   "execution_count": 193,
   "id": "ed687731-123c-42a0-b8be-81c7f85be914",
   "metadata": {},
   "outputs": [
    {
     "data": {
      "image/png": "[encoded data removed]",
      "text/plain": [
       "Plot with title \"Histogram of hat_It\""
      ]
     },
     "metadata": {
      "image/png": {
       "height": 420,
       "width": 420
      }
     },
     "output_type": "display_data"
    }
   ],
   "source": [
    "hist(hat_It,breaks = 10)"
   ]
  },
  {
   "cell_type": "code",
   "execution_count": 194,
   "id": "980a79a6-2246-4db9-b0ef-e2a7588e027d",
   "metadata": {},
   "outputs": [
    {
     "data": {
      "text/plain": [
       "\n",
       "\tOne Sample t-test\n",
       "\n",
       "data:  hat_It\n",
       "t = -1.8292e-16, df = 143, p-value = 1\n",
       "alternative hypothesis: true mean is not equal to 0\n",
       "95 percent confidence interval:\n",
       " -0.008041498  0.008041498\n",
       "sample estimates:\n",
       "    mean of x \n",
       "-7.441302e-19 \n"
      ]
     },
     "metadata": {},
     "output_type": "display_data"
    }
   ],
   "source": [
    "t.test(hat_It)  #H0 : mu=E(It)=0\n",
    "#p-value = 1 이므로 잔차의 평균은 0이다."
   ]
  },
  {
   "cell_type": "code",
   "execution_count": 195,
   "id": "cb4fbb14-3221-41c5-a915-67f2b79dca26",
   "metadata": {},
   "outputs": [
    {
     "data": {
      "text/plain": [
       "\n",
       "\tDurbin-Watson test\n",
       "\n",
       "data:  lm(hat_It ~ 1)\n",
       "DW = 0.60733, p-value < 2.2e-16\n",
       "alternative hypothesis: true autocorrelation is not 0\n"
      ]
     },
     "metadata": {},
     "output_type": "display_data"
    }
   ],
   "source": [
    "dwtest(lm(hat_It ~ 1),\n",
    "       alternative =  'two.sided')\n",
    "#DW-값이 0에 가까우며 p-value가 2.2e-16 보다 작으므로\n",
    "#잔차에 양의자기상관관계가 있음을 알 수 있다.\n",
    "#따라서 잔차를 무상관하게 만들어줄 조치가 필요하다."
   ]
  },
  {
   "cell_type": "markdown",
   "id": "3bb67aef-4642-4ea6-a184-fbd800671d3f",
   "metadata": {},
   "source": [
    "#### 5-4-2"
   ]
  },
  {
   "cell_type": "code",
   "execution_count": 196,
   "id": "9575aaff-3ca4-45d3-a02c-fccea6b8a741",
   "metadata": {},
   "outputs": [
    {
     "data": {
      "image/png": "[encoded data removed]",
      "text/plain": [
       "plot without title"
      ]
     },
     "metadata": {
      "image/png": {
       "height": 420,
       "width": 420
      }
     },
     "output_type": "display_data"
    }
   ],
   "source": [
    "#이동평균을 이용한 분해법 \n",
    "\n",
    "#1 추세성분: 계절주기와 동일한 m을 이용한 중심이동평균\n",
    "trend = ma(log_usapass, 12)\n",
    "plot.ts(trend, lwd = 2) #추세성분만 남게 되었다."
   ]
  },
  {
   "cell_type": "code",
   "execution_count": 197,
   "id": "d52f816d-fad4-4f49-9c26-2bcb3b990414",
   "metadata": {},
   "outputs": [
    {
     "data": {
      "text/html": [
       "<table class=\"dataframe\">\n",
       "<caption>A Time Series: 12 × 12</caption>\n",
       "<thead>\n",
       "\t<tr><th></th><th scope=col>Jan</th><th scope=col>Feb</th><th scope=col>Mar</th><th scope=col>Apr</th><th scope=col>May</th><th scope=col>Jun</th><th scope=col>Jul</th><th scope=col>Aug</th><th scope=col>Sep</th><th scope=col>Oct</th><th scope=col>Nov</th><th scope=col>Dec</th></tr>\n",
       "</thead>\n",
       "<tbody>\n",
       "\t<tr><th scope=row>1</th><td>      NA</td><td>      NA</td><td>      NA</td><td>      NA</td><td>      NA</td><td>      NA</td><td>4.837280</td><td>4.841114</td><td>4.846596</td><td>4.851238</td><td>4.854488</td><td>4.859954</td></tr>\n",
       "\t<tr><th scope=row>2</th><td>4.869840</td><td>4.881389</td><td>4.893411</td><td>4.904293</td><td>4.912752</td><td>4.923701</td><td>4.940483</td><td>4.957406</td><td>4.974380</td><td>4.991942</td><td>5.013095</td><td>5.033804</td></tr>\n",
       "\t<tr><th scope=row>3</th><td>5.047776</td><td>5.060902</td><td>5.073812</td><td>5.088378</td><td>5.106906</td><td>5.124312</td><td>5.138282</td><td>5.152751</td><td>5.163718</td><td>5.171454</td><td>5.178401</td><td>5.189431</td></tr>\n",
       "\t<tr><th scope=row>4</th><td>5.203909</td><td>5.218093</td><td>5.231553</td><td>5.243722</td><td>5.257413</td><td>5.270736</td><td>5.282916</td><td>5.292150</td><td>5.304079</td><td>5.323338</td><td>5.343560</td><td>5.357427</td></tr>\n",
       "\t<tr><th scope=row>5</th><td>5.367695</td><td>5.378309</td><td>5.388417</td><td>5.397805</td><td>5.403849</td><td>5.407220</td><td>5.410364</td><td>5.410294</td><td>5.408381</td><td>5.406761</td><td>5.406218</td><td>5.410571</td></tr>\n",
       "\t<tr><th scope=row>6</th><td>5.419628</td><td>5.428330</td><td>5.434966</td><td>5.441915</td><td>5.450336</td><td>5.460781</td><td>5.473332</td><td>5.489391</td><td>5.503652</td><td>5.516045</td><td>5.529081</td><td>5.542402</td></tr>\n",
       "\t<tr><th scope=row>7</th><td>5.557542</td><td>5.572370</td><td>5.587337</td><td>5.602730</td><td>5.616658</td><td>5.631189</td><td>5.645937</td><td>5.659812</td><td>5.674172</td><td>5.687636</td><td>5.700766</td><td>5.714738</td></tr>\n",
       "\t<tr><th scope=row>8</th><td>5.727153</td><td>5.738856</td><td>5.750676</td><td>5.760658</td><td>5.770846</td><td>5.780430</td><td>5.788745</td><td>5.796524</td><td>5.805517</td><td>5.815465</td><td>5.825396</td><td>5.837206</td></tr>\n",
       "\t<tr><th scope=row>9</th><td>5.850710</td><td>5.867113</td><td>5.881695</td><td>5.893738</td><td>5.905996</td><td>5.915619</td><td>5.922822</td><td>5.928293</td><td>5.930582</td><td>5.930582</td><td>5.930582</td><td>5.930582</td></tr>\n",
       "\t<tr><th scope=row>10</th><td>5.930582</td><td>5.930582</td><td>5.930582</td><td>5.930582</td><td>5.930582</td><td>5.930582</td><td>5.932964</td><td>5.938377</td><td>5.946188</td><td>5.956352</td><td>5.967813</td><td>5.977291</td></tr>\n",
       "\t<tr><th scope=row>11</th><td>5.985269</td><td>5.994078</td><td>6.003991</td><td>6.014899</td><td>6.026589</td><td>6.040709</td><td>6.054492</td><td>6.066195</td><td>6.073088</td><td>6.080733</td><td>6.091930</td><td>6.102013</td></tr>\n",
       "\t<tr><th scope=row>12</th><td>6.112511</td><td>6.121153</td><td>6.128381</td><td>6.137437</td><td>6.145733</td><td>6.151526</td><td>      NA</td><td>      NA</td><td>      NA</td><td>      NA</td><td>      NA</td><td>      NA</td></tr>\n",
       "</tbody>\n",
       "</table>\n"
      ],
      "text/latex": [
       "A Time Series: 12 × 12\n",
       "\\begin{tabular}{r|llllllllllll}\n",
       "  & Jan & Feb & Mar & Apr & May & Jun & Jul & Aug & Sep & Oct & Nov & Dec\\\\\n",
       "\\hline\n",
       "\t1 &       NA &       NA &       NA &       NA &       NA &       NA & 4.837280 & 4.841114 & 4.846596 & 4.851238 & 4.854488 & 4.859954\\\\\n",
       "\t2 & 4.869840 & 4.881389 & 4.893411 & 4.904293 & 4.912752 & 4.923701 & 4.940483 & 4.957406 & 4.974380 & 4.991942 & 5.013095 & 5.033804\\\\\n",
       "\t3 & 5.047776 & 5.060902 & 5.073812 & 5.088378 & 5.106906 & 5.124312 & 5.138282 & 5.152751 & 5.163718 & 5.171454 & 5.178401 & 5.189431\\\\\n",
       "\t4 & 5.203909 & 5.218093 & 5.231553 & 5.243722 & 5.257413 & 5.270736 & 5.282916 & 5.292150 & 5.304079 & 5.323338 & 5.343560 & 5.357427\\\\\n",
       "\t5 & 5.367695 & 5.378309 & 5.388417 & 5.397805 & 5.403849 & 5.407220 & 5.410364 & 5.410294 & 5.408381 & 5.406761 & 5.406218 & 5.410571\\\\\n",
       "\t6 & 5.419628 & 5.428330 & 5.434966 & 5.441915 & 5.450336 & 5.460781 & 5.473332 & 5.489391 & 5.503652 & 5.516045 & 5.529081 & 5.542402\\\\\n",
       "\t7 & 5.557542 & 5.572370 & 5.587337 & 5.602730 & 5.616658 & 5.631189 & 5.645937 & 5.659812 & 5.674172 & 5.687636 & 5.700766 & 5.714738\\\\\n",
       "\t8 & 5.727153 & 5.738856 & 5.750676 & 5.760658 & 5.770846 & 5.780430 & 5.788745 & 5.796524 & 5.805517 & 5.815465 & 5.825396 & 5.837206\\\\\n",
       "\t9 & 5.850710 & 5.867113 & 5.881695 & 5.893738 & 5.905996 & 5.915619 & 5.922822 & 5.928293 & 5.930582 & 5.930582 & 5.930582 & 5.930582\\\\\n",
       "\t10 & 5.930582 & 5.930582 & 5.930582 & 5.930582 & 5.930582 & 5.930582 & 5.932964 & 5.938377 & 5.946188 & 5.956352 & 5.967813 & 5.977291\\\\\n",
       "\t11 & 5.985269 & 5.994078 & 6.003991 & 6.014899 & 6.026589 & 6.040709 & 6.054492 & 6.066195 & 6.073088 & 6.080733 & 6.091930 & 6.102013\\\\\n",
       "\t12 & 6.112511 & 6.121153 & 6.128381 & 6.137437 & 6.145733 & 6.151526 &       NA &       NA &       NA &       NA &       NA &       NA\\\\\n",
       "\\end{tabular}\n"
      ],
      "text/markdown": [
       "\n",
       "A Time Series: 12 × 12\n",
       "\n",
       "| <!--/--> | Jan | Feb | Mar | Apr | May | Jun | Jul | Aug | Sep | Oct | Nov | Dec |\n",
       "|---|---|---|---|---|---|---|---|---|---|---|---|---|\n",
       "| 1 |       NA |       NA |       NA |       NA |       NA |       NA | 4.837280 | 4.841114 | 4.846596 | 4.851238 | 4.854488 | 4.859954 |\n",
       "| 2 | 4.869840 | 4.881389 | 4.893411 | 4.904293 | 4.912752 | 4.923701 | 4.940483 | 4.957406 | 4.974380 | 4.991942 | 5.013095 | 5.033804 |\n",
       "| 3 | 5.047776 | 5.060902 | 5.073812 | 5.088378 | 5.106906 | 5.124312 | 5.138282 | 5.152751 | 5.163718 | 5.171454 | 5.178401 | 5.189431 |\n",
       "| 4 | 5.203909 | 5.218093 | 5.231553 | 5.243722 | 5.257413 | 5.270736 | 5.282916 | 5.292150 | 5.304079 | 5.323338 | 5.343560 | 5.357427 |\n",
       "| 5 | 5.367695 | 5.378309 | 5.388417 | 5.397805 | 5.403849 | 5.407220 | 5.410364 | 5.410294 | 5.408381 | 5.406761 | 5.406218 | 5.410571 |\n",
       "| 6 | 5.419628 | 5.428330 | 5.434966 | 5.441915 | 5.450336 | 5.460781 | 5.473332 | 5.489391 | 5.503652 | 5.516045 | 5.529081 | 5.542402 |\n",
       "| 7 | 5.557542 | 5.572370 | 5.587337 | 5.602730 | 5.616658 | 5.631189 | 5.645937 | 5.659812 | 5.674172 | 5.687636 | 5.700766 | 5.714738 |\n",
       "| 8 | 5.727153 | 5.738856 | 5.750676 | 5.760658 | 5.770846 | 5.780430 | 5.788745 | 5.796524 | 5.805517 | 5.815465 | 5.825396 | 5.837206 |\n",
       "| 9 | 5.850710 | 5.867113 | 5.881695 | 5.893738 | 5.905996 | 5.915619 | 5.922822 | 5.928293 | 5.930582 | 5.930582 | 5.930582 | 5.930582 |\n",
       "| 10 | 5.930582 | 5.930582 | 5.930582 | 5.930582 | 5.930582 | 5.930582 | 5.932964 | 5.938377 | 5.946188 | 5.956352 | 5.967813 | 5.977291 |\n",
       "| 11 | 5.985269 | 5.994078 | 6.003991 | 6.014899 | 6.026589 | 6.040709 | 6.054492 | 6.066195 | 6.073088 | 6.080733 | 6.091930 | 6.102013 |\n",
       "| 12 | 6.112511 | 6.121153 | 6.128381 | 6.137437 | 6.145733 | 6.151526 |       NA |       NA |       NA |       NA |       NA |       NA |\n",
       "\n"
      ],
      "text/plain": [
       "   Jan      Feb      Mar      Apr      May      Jun      Jul      Aug     \n",
       "1        NA       NA       NA       NA       NA       NA 4.837280 4.841114\n",
       "2  4.869840 4.881389 4.893411 4.904293 4.912752 4.923701 4.940483 4.957406\n",
       "3  5.047776 5.060902 5.073812 5.088378 5.106906 5.124312 5.138282 5.152751\n",
       "4  5.203909 5.218093 5.231553 5.243722 5.257413 5.270736 5.282916 5.292150\n",
       "5  5.367695 5.378309 5.388417 5.397805 5.403849 5.407220 5.410364 5.410294\n",
       "6  5.419628 5.428330 5.434966 5.441915 5.450336 5.460781 5.473332 5.489391\n",
       "7  5.557542 5.572370 5.587337 5.602730 5.616658 5.631189 5.645937 5.659812\n",
       "8  5.727153 5.738856 5.750676 5.760658 5.770846 5.780430 5.788745 5.796524\n",
       "9  5.850710 5.867113 5.881695 5.893738 5.905996 5.915619 5.922822 5.928293\n",
       "10 5.930582 5.930582 5.930582 5.930582 5.930582 5.930582 5.932964 5.938377\n",
       "11 5.985269 5.994078 6.003991 6.014899 6.026589 6.040709 6.054492 6.066195\n",
       "12 6.112511 6.121153 6.128381 6.137437 6.145733 6.151526       NA       NA\n",
       "   Sep      Oct      Nov      Dec     \n",
       "1  4.846596 4.851238 4.854488 4.859954\n",
       "2  4.974380 4.991942 5.013095 5.033804\n",
       "3  5.163718 5.171454 5.178401 5.189431\n",
       "4  5.304079 5.323338 5.343560 5.357427\n",
       "5  5.408381 5.406761 5.406218 5.410571\n",
       "6  5.503652 5.516045 5.529081 5.542402\n",
       "7  5.674172 5.687636 5.700766 5.714738\n",
       "8  5.805517 5.815465 5.825396 5.837206\n",
       "9  5.930582 5.930582 5.930582 5.930582\n",
       "10 5.946188 5.956352 5.967813 5.977291\n",
       "11 6.073088 6.080733 6.091930 6.102013\n",
       "12       NA       NA       NA       NA"
      ]
     },
     "metadata": {},
     "output_type": "display_data"
    }
   ],
   "source": [
    "#2 계절성분: 추세가 조정된 시계열에서\n",
    "#각 계절성분의 평균을 구한 후, 평균을\n",
    "#0으로 조정\n",
    "\n",
    "trend #앞 6게 뒤 6개 NA 값"
   ]
  },
  {
   "cell_type": "code",
   "execution_count": 198,
   "id": "a56ca515-c1a3-46f9-9732-0289c2e75a26",
   "metadata": {},
   "outputs": [
    {
     "data": {
      "text/html": [
       "<style>\n",
       ".dl-inline {width: auto; margin:0; padding: 0}\n",
       ".dl-inline>dt, .dl-inline>dd {float: none; width: auto; display: inline-block}\n",
       ".dl-inline>dt::after {content: \":\\0020\"; padding-right: .5ex}\n",
       ".dl-inline>dt:not(:first-of-type) {padding-left: .5ex}\n",
       "</style><dl class=dl-inline><dt>1</dt><dd>-0.08858476365052</dd><dt>2</dt><dd>-0.117182593029803</dd><dt>3</dt><dd>0.0168630170713997</dd><dt>4</dt><dd>-0.0158153560596169</dd><dt>5</dt><dd>-0.00970993781259749</dd><dt>6</dt><dd>0.115381498843362</dd><dt>7</dt><dd>0.212992755514074</dd><dt>8</dt><dd>0.208854396641236</dd><dt>9</dt><dd>0.0617149265245852</dd><dt>10</dt><dd>-0.0749503182436183</dd><dt>11</dt><dd>-0.217137127415396</dd><dt>12</dt><dd>-0.102814658831591</dd></dl>\n"
      ],
      "text/latex": [
       "\\begin{description*}\n",
       "\\item[1] -0.08858476365052\n",
       "\\item[2] -0.117182593029803\n",
       "\\item[3] 0.0168630170713997\n",
       "\\item[4] -0.0158153560596169\n",
       "\\item[5] -0.00970993781259749\n",
       "\\item[6] 0.115381498843362\n",
       "\\item[7] 0.212992755514074\n",
       "\\item[8] 0.208854396641236\n",
       "\\item[9] 0.0617149265245852\n",
       "\\item[10] -0.0749503182436183\n",
       "\\item[11] -0.217137127415396\n",
       "\\item[12] -0.102814658831591\n",
       "\\end{description*}\n"
      ],
      "text/markdown": [
       "1\n",
       ":   -0.088584763650522\n",
       ":   -0.1171825930298033\n",
       ":   0.01686301707139974\n",
       ":   -0.01581535605961695\n",
       ":   -0.009709937812597496\n",
       ":   0.1153814988433627\n",
       ":   0.2129927555140748\n",
       ":   0.2088543966412369\n",
       ":   0.061714926524585210\n",
       ":   -0.074950318243618311\n",
       ":   -0.21713712741539612\n",
       ":   -0.102814658831591\n",
       "\n"
      ],
      "text/plain": [
       "           1            2            3            4            5            6 \n",
       "-0.088584764 -0.117182593  0.016863017 -0.015815356 -0.009709938  0.115381499 \n",
       "           7            8            9           10           11           12 \n",
       " 0.212992756  0.208854397  0.061714927 -0.074950318 -0.217137127 -0.102814659 "
      ]
     },
     "metadata": {},
     "output_type": "display_data"
    },
    {
     "data": {
      "text/plain": [
       "\n",
       "Call:\n",
       "lm(formula = adj_trend ~ 0 + as.factor(cycle(adj_trend)))\n",
       "\n",
       "Residuals:\n",
       "      Min        1Q    Median        3Q       Max \n",
       "-0.107374 -0.016935  0.000902  0.018152  0.092046 \n",
       "\n",
       "Coefficients:\n",
       "                              Estimate Std. Error t value Pr(>|t|)    \n",
       "as.factor(cycle(adj_trend))1  -0.08858    0.01106  -8.011 8.34e-13 ***\n",
       "as.factor(cycle(adj_trend))2  -0.11718    0.01106 -10.597  < 2e-16 ***\n",
       "as.factor(cycle(adj_trend))3   0.01686    0.01106   1.525    0.130    \n",
       "as.factor(cycle(adj_trend))4  -0.01581    0.01106  -1.430    0.155    \n",
       "as.factor(cycle(adj_trend))5  -0.00971    0.01106  -0.878    0.382    \n",
       "as.factor(cycle(adj_trend))6   0.11538    0.01106  10.434  < 2e-16 ***\n",
       "as.factor(cycle(adj_trend))7   0.21299    0.01106  19.261  < 2e-16 ***\n",
       "as.factor(cycle(adj_trend))8   0.20885    0.01106  18.887  < 2e-16 ***\n",
       "as.factor(cycle(adj_trend))9   0.06171    0.01106   5.581 1.51e-07 ***\n",
       "as.factor(cycle(adj_trend))10 -0.07495    0.01106  -6.778 4.84e-10 ***\n",
       "as.factor(cycle(adj_trend))11 -0.21714    0.01106 -19.636  < 2e-16 ***\n",
       "as.factor(cycle(adj_trend))12 -0.10282    0.01106  -9.298 8.09e-16 ***\n",
       "---\n",
       "Signif. codes:  0 '***' 0.001 '**' 0.01 '*' 0.05 '.' 0.1 ' ' 1\n",
       "\n",
       "Residual standard error: 0.03668 on 120 degrees of freedom\n",
       "  (결측으로 인하여 12개의 관측치가 삭제되었습니다.)\n",
       "Multiple R-squared:  0.9289,\tAdjusted R-squared:  0.9218 \n",
       "F-statistic: 130.6 on 12 and 120 DF,  p-value: < 2.2e-16\n"
      ]
     },
     "metadata": {},
     "output_type": "display_data"
    },
    {
     "data": {
      "image/png": "[encoded data removed]",
      "text/plain": [
       "plot without title"
      ]
     },
     "metadata": {
      "image/png": {
       "height": 420,
       "width": 420
      }
     },
     "output_type": "display_data"
    }
   ],
   "source": [
    "adj_trend <- log_usapass - trend\n",
    "plot.ts(adj_trend, lwd = 2) #불규칙 성분과 계절성분이 남게 되었다.\n",
    "\n",
    "seasonal <- #계절성분만 남기도록 하자. beta = 0 인 제약조건을 사용한 회귀적합과 같다.\n",
    "  tapply(adj_trend, cycle(adj_trend), function(y)\n",
    "    mean(y, na.rm = T))\n",
    "seasonal #적합된 계절성분 (계절별 평균)\n",
    "\n",
    "summary(lm(adj_trend ~ 0 + as.factor(cycle(adj_trend)))) #위와 같다.\n",
    "#각 계수들은 로그 시계열 자료의 월별 평균이다."
   ]
  },
  {
   "cell_type": "code",
   "execution_count": 199,
   "id": "762935d1-4fdf-40d3-90e8-ea9241777d66",
   "metadata": {},
   "outputs": [
    {
     "data": {
      "text/html": [
       "-0.000865680037373856"
      ],
      "text/latex": [
       "-0.000865680037373856"
      ],
      "text/markdown": [
       "-0.000865680037373856"
      ],
      "text/plain": [
       "[1] -0.00086568"
      ]
     },
     "metadata": {},
     "output_type": "display_data"
    },
    {
     "data": {
      "text/html": [
       "<style>\n",
       ".dl-inline {width: auto; margin:0; padding: 0}\n",
       ".dl-inline>dt, .dl-inline>dd {float: none; width: auto; display: inline-block}\n",
       ".dl-inline>dt::after {content: \":\\0020\"; padding-right: .5ex}\n",
       ".dl-inline>dt:not(:first-of-type) {padding-left: .5ex}\n",
       "</style><dl class=dl-inline><dt>1</dt><dd>-0.0877190836131462</dd><dt>2</dt><dd>-0.11631691299243</dd><dt>3</dt><dd>0.0177286971087736</dd><dt>4</dt><dd>-0.014949676022243</dd><dt>5</dt><dd>-0.00884425777522363</dd><dt>6</dt><dd>0.116247178880736</dd><dt>7</dt><dd>0.213858435551448</dd><dt>8</dt><dd>0.209720076678609</dd><dt>9</dt><dd>0.062580606561959</dd><dt>10</dt><dd>-0.0740846382062445</dd><dt>11</dt><dd>-0.216271447378022</dd><dt>12</dt><dd>-0.101948978794217</dd></dl>\n"
      ],
      "text/latex": [
       "\\begin{description*}\n",
       "\\item[1] -0.0877190836131462\n",
       "\\item[2] -0.11631691299243\n",
       "\\item[3] 0.0177286971087736\n",
       "\\item[4] -0.014949676022243\n",
       "\\item[5] -0.00884425777522363\n",
       "\\item[6] 0.116247178880736\n",
       "\\item[7] 0.213858435551448\n",
       "\\item[8] 0.209720076678609\n",
       "\\item[9] 0.062580606561959\n",
       "\\item[10] -0.0740846382062445\n",
       "\\item[11] -0.216271447378022\n",
       "\\item[12] -0.101948978794217\n",
       "\\end{description*}\n"
      ],
      "text/markdown": [
       "1\n",
       ":   -0.08771908361314622\n",
       ":   -0.116316912992433\n",
       ":   0.01772869710877364\n",
       ":   -0.0149496760222435\n",
       ":   -0.008844257775223636\n",
       ":   0.1162471788807367\n",
       ":   0.2138584355514488\n",
       ":   0.2097200766786099\n",
       ":   0.06258060656195910\n",
       ":   -0.074084638206244511\n",
       ":   -0.21627144737802212\n",
       ":   -0.101948978794217\n",
       "\n"
      ],
      "text/plain": [
       "           1            2            3            4            5            6 \n",
       "-0.087719084 -0.116316913  0.017728697 -0.014949676 -0.008844258  0.116247179 \n",
       "           7            8            9           10           11           12 \n",
       " 0.213858436  0.209720077  0.062580607 -0.074084638 -0.216271447 -0.101948979 "
      ]
     },
     "metadata": {},
     "output_type": "display_data"
    },
    {
     "data": {
      "image/png": "[encoded data removed]",
      "text/plain": [
       "plot without title"
      ]
     },
     "metadata": {
      "image/png": {
       "height": 420,
       "width": 420
      }
     },
     "output_type": "display_data"
    }
   ],
   "source": [
    "mean(seasonal)\n",
    "\n",
    "seasonal <- seasonal - mean(seasonal)  #평균을  0으로 수정\n",
    "seasonal #평균 조정이 끝난 계절성분\n",
    "\n",
    "St = rep(seasonal, 12) #12년치 적합된 계절성분 \n",
    "plot.ts(St) "
   ]
  },
  {
   "cell_type": "code",
   "execution_count": 200,
   "id": "3bccab66-9f97-4124-bf07-e2aa50dc2fe6",
   "metadata": {},
   "outputs": [
    {
     "data": {
      "image/png": "[encoded data removed]",
      "text/plain": [
       "plot without title"
      ]
     },
     "metadata": {
      "image/png": {
       "height": 420,
       "width": 420
      }
     },
     "output_type": "display_data"
    }
   ],
   "source": [
    "#3 불규칙 성분\n",
    "irregular <- log_usapass - trend - St\n",
    "plot.ts(irregular) #잔차 plot\n",
    "abline(h = 0, lty = 2, col = 'red')"
   ]
  },
  {
   "cell_type": "code",
   "execution_count": 201,
   "id": "74975641-8ef3-4d2f-a8de-f7b964f45b46",
   "metadata": {},
   "outputs": [
    {
     "data": {
      "image/png": "[encoded data removed]",
      "text/plain": [
       "Plot with title \"Histogram of irregular\""
      ]
     },
     "metadata": {
      "image/png": {
       "height": 420,
       "width": 420
      }
     },
     "output_type": "display_data"
    }
   ],
   "source": [
    "#잔차분석 \n",
    "hist(irregular) #0을 중심으로 거의 대칭이다."
   ]
  },
  {
   "cell_type": "code",
   "execution_count": 202,
   "id": "3e7f8926-5bd6-46f5-9adf-836ab52a9317",
   "metadata": {},
   "outputs": [
    {
     "data": {
      "text/plain": [
       "\n",
       "\tOne Sample t-test\n",
       "\n",
       "data:  irregular\n",
       "t = -0.28335, df = 131, p-value = 0.7774\n",
       "alternative hypothesis: true mean is not equal to 0\n",
       "95 percent confidence interval:\n",
       " -0.006909609  0.005178249\n",
       "sample estimates:\n",
       "  mean of x \n",
       "-0.00086568 \n"
      ]
     },
     "metadata": {},
     "output_type": "display_data"
    }
   ],
   "source": [
    "t.test(irregular) #평균이 0인가?\n",
    "#p-value =0.7774 로 평균이 0 이라고 볼 수 있다."
   ]
  },
  {
   "cell_type": "code",
   "execution_count": 203,
   "id": "4286c03c-e233-4271-8c0c-b7f03f1621cc",
   "metadata": {},
   "outputs": [
    {
     "data": {
      "text/plain": [
       "\n",
       "\tDurbin-Watson test\n",
       "\n",
       "data:  lm(irregular ~ 1)\n",
       "DW = 1.1441, p-value = 7.258e-07\n",
       "alternative hypothesis: true autocorrelation is not 0\n"
      ]
     },
     "metadata": {},
     "output_type": "display_data"
    }
   ],
   "source": [
    "dwtest(lm(irregular ~ 1), alternative = 'two.sided') #오차는 무상관인가?\n",
    "#DW = 1.1441, p-value = 7.258e-07 이므로 잔차는 양의 자기상관관계를 갖는다.\n",
    "#아직 잔차에 예측에 대한 정보가 남아있는 것으로 보인다."
   ]
  },
  {
   "cell_type": "markdown",
   "id": "2d913e22-8729-4a74-9b5a-8d0c8fbdc57d",
   "metadata": {
    "tags": []
   },
   "source": [
    "#### 5-5"
   ]
  },
  {
   "cell_type": "code",
   "execution_count": 204,
   "id": "f26b9c03-8875-4f94-bacb-ed3828d46309",
   "metadata": {},
   "outputs": [
    {
     "data": {
      "text/html": [
       "342.14255"
      ],
      "text/latex": [
       "342.14255"
      ],
      "text/markdown": [
       "342.14255"
      ],
      "text/plain": [
       "[1] 342.1426"
      ]
     },
     "metadata": {},
     "output_type": "display_data"
    },
    {
     "data": {
      "text/html": [
       "146.74928"
      ],
      "text/latex": [
       "146.74928"
      ],
      "text/markdown": [
       "146.74928"
      ],
      "text/plain": [
       "[1] 146.7493"
      ]
     },
     "metadata": {},
     "output_type": "display_data"
    },
    {
     "data": {
      "text/html": [
       "216.24357"
      ],
      "text/latex": [
       "216.24357"
      ],
      "text/markdown": [
       "216.24357"
      ],
      "text/plain": [
       "[1] 216.2436"
      ]
     },
     "metadata": {},
     "output_type": "display_data"
    },
    {
     "data": {
      "text/html": [
       "115.78806"
      ],
      "text/latex": [
       "115.78806"
      ],
      "text/markdown": [
       "115.78806"
      ],
      "text/plain": [
       "[1] 115.7881"
      ]
     },
     "metadata": {},
     "output_type": "display_data"
    }
   ],
   "source": [
    "#log변환이 되어있었으므로 원래 단위로 변환하여 MSE를 구해준다.\n",
    "mean((usapass - exp(reg1$fitted.values))^2) %>% round(5) #계절추세모형 적합을 통한 MSE = 342.14255\n",
    "mean((usapass - exp(fit_hw2$fitted))^2)%>% round(5) #계절지수평활을 이용한 가법모형 MSE = 146.74928\n",
    "mean((usapass - exp(hat_Tt + hat_St))^2)%>% round(5) #추세분석을 이용한 가법분해법 MSE = 216.24357\n",
    "mean((usapass - exp(trend + St))^2,na.rm = T)%>% round(5) #이동평균법 평활에 의한 가법분해법을 통한 MSE = 115.78806\n",
    "\n",
    "#이동평균법 평활에 의한 분해법이 1 시차 후 예측오차의 제곱합 관점에서\n",
    "#가장 예측력이 좋은 모형이다.\n",
    "#그리고 추세모형, 평활법, 추세에 의한 분해법 순서로 예측이 잘 되어있다."
   ]
  }
 ],
 "metadata": {
  "kernelspec": {
   "display_name": "R",
   "language": "R",
   "name": "ir"
  },
  "language_info": {
   "codemirror_mode": "r",
   "file_extension": ".r",
   "mimetype": "text/x-r-source",
   "name": "R",
   "pygments_lexer": "r",
   "version": "4.1.1"
  }
 },
 "nbformat": 4,
 "nbformat_minor": 5
}
